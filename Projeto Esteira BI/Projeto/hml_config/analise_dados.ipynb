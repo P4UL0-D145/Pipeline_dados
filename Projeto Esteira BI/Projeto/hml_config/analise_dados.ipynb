{
 "cells": [
  {
   "cell_type": "code",
   "execution_count": 1,
   "metadata": {},
   "outputs": [
    {
     "name": "stderr",
     "output_type": "stream",
     "text": [
      "c:\\Users\\Taking\\OneDrive - taking\\Área de Trabalho\\Projeto Esteira BI\\Projeto\\hml_config\\extracao_dados.py:147: UserWarning: pandas only supports SQLAlchemy connectable (engine/connection) or database string URI or sqlite3 DBAPI2 connection. Other DBAPI2 objects are not tested. Please consider using SQLAlchemy.\n",
      "  df = pd.read_sql_query(query, conn)\n"
     ]
    },
    {
     "data": {
      "application/vnd.plotly.v1+json": {
       "config": {
        "plotlyServerURL": "https://plot.ly"
       },
       "data": [
        {
         "alignmentgroup": "True",
         "hovertemplate": "product_name=%{x}<br>total_sales=%{y}<extra></extra>",
         "legendgroup": "",
         "marker": {
          "color": "#636efa",
          "pattern": {
           "shape": ""
          }
         },
         "name": "",
         "offsetgroup": "",
         "orientation": "v",
         "showlegend": false,
         "textposition": "auto",
         "type": "bar",
         "x": [
          "Alice Mutton",
          "Aniseed Syrup",
          "Boston Crab Meat",
          "Camembert Pierrot",
          "Carnarvon Tigers",
          "Chai",
          "Chang",
          "Chartreuse verte",
          "Chef Anton's Cajun Seasoning",
          "Chef Anton's Gumbo Mix",
          "Chocolade",
          "Côte de Blaye",
          "Escargots de Bourgogne",
          "Filo Mix",
          "Flotemysost",
          "Geitost",
          "Genen Shouyu",
          "Gnocchi di nonna Alice",
          "Gorgonzola Telino",
          "Grandma's Boysenberry Spread",
          "Gravad lax",
          "Guaraná Fantástica",
          "Gudbrandsdalsost",
          "Gula Malacca",
          "Gumbär Gummibärchen",
          "Gustaf's Knäckebröd",
          "Ikura",
          "Inlagd Sill",
          "Ipoh Coffee",
          "Jack's New England Clam Chowder",
          "Konbu",
          "Lakkalikööri",
          "Laughing Lumberjack Lager",
          "Longlife Tofu",
          "Louisiana Fiery Hot Pepper Sauce",
          "Louisiana Hot Spiced Okra",
          "Manjimup Dried Apples",
          "Mascarpone Fabioli",
          "Maxilaku",
          "Mishi Kobe Niku",
          "Mozzarella di Giovanni",
          "Nord-Ost Matjeshering",
          "Northwoods Cranberry Sauce",
          "NuNuCa Nuß-Nougat-Creme",
          "Original Frankfurter grüne Soße",
          "Outback Lager",
          "Pavlova",
          "Perth Pasties",
          "Pâté chinois",
          "Queso Cabrales",
          "Queso Manchego La Pastora",
          "Raclette Courdavault",
          "Ravioli Angelo",
          "Rhönbräu Klosterbier",
          "Rogede sild",
          "Röd Kaviar",
          "Rössle Sauerkraut",
          "Sasquatch Ale",
          "Schoggi Schokolade",
          "Scottish Longbreads",
          "Singaporean Hokkien Fried Mee",
          "Sir Rodney's Marmalade",
          "Sir Rodney's Scones",
          "Sirop d'érable",
          "Spegesild",
          "Steeleye Stout",
          "Tarte au sucre",
          "Teatime Chocolate Biscuits",
          "Thüringer Rostbratwurst",
          "Tofu",
          "Tourtière",
          "Tunnbröd",
          "Uncle Bob's Organic Dried Pears",
          "Valkoinen suklaa",
          "Vegie-spread",
          "Wimmers gute Semmelknödel",
          "Zaanse koeken"
         ],
         "xaxis": "x",
         "y": [
          32698.38,
          3044,
          17910.629999999997,
          46825.48,
          30296.875,
          12788.1,
          16355.96,
          12294.54,
          8567.9,
          5347.2,
          1368.7125,
          141396.735,
          5881.675,
          3232.95,
          19551.025,
          1648.125,
          1784.825,
          42593.06,
          14920.875,
          7137,
          2688.3999999999996,
          4504.365,
          21942.36,
          9915.945,
          19849.1445,
          7122.360000000001,
          20867.34,
          13458.46,
          23526.7,
          8680.345000000001,
          4960.44,
          16211.88,
          2438.8,
          2432.5,
          13869.89,
          3383,
          41819.65,
          8404.16,
          9244.6,
          7226.5,
          24900.129999999997,
          13424.1975,
          12772,
          3704.3999999999996,
          9197.63,
          10672.65,
          17215.7755,
          20574.17,
          17426.4,
          12901.77,
          12257.66,
          71155.7,
          7661.55,
          8177.49,
          4338.175,
          3997.2,
          25696.64,
          6350.4,
          15099.875,
          8714,
          8575,
          22563.36,
          9104,
          14352.6,
          5883,
          13644,
          47234.97,
          5862.62,
          80368.672,
          7991.49,
          4728.2375,
          4601.7,
          22044.3,
          3437.6875,
          16701.095,
          21957.9675,
          3958.08
         ],
         "yaxis": "y"
        }
       ],
       "layout": {
        "barmode": "relative",
        "legend": {
         "tracegroupgap": 0
        },
        "template": {
         "data": {
          "bar": [
           {
            "error_x": {
             "color": "#2a3f5f"
            },
            "error_y": {
             "color": "#2a3f5f"
            },
            "marker": {
             "line": {
              "color": "#E5ECF6",
              "width": 0.5
             },
             "pattern": {
              "fillmode": "overlay",
              "size": 10,
              "solidity": 0.2
             }
            },
            "type": "bar"
           }
          ],
          "barpolar": [
           {
            "marker": {
             "line": {
              "color": "#E5ECF6",
              "width": 0.5
             },
             "pattern": {
              "fillmode": "overlay",
              "size": 10,
              "solidity": 0.2
             }
            },
            "type": "barpolar"
           }
          ],
          "carpet": [
           {
            "aaxis": {
             "endlinecolor": "#2a3f5f",
             "gridcolor": "white",
             "linecolor": "white",
             "minorgridcolor": "white",
             "startlinecolor": "#2a3f5f"
            },
            "baxis": {
             "endlinecolor": "#2a3f5f",
             "gridcolor": "white",
             "linecolor": "white",
             "minorgridcolor": "white",
             "startlinecolor": "#2a3f5f"
            },
            "type": "carpet"
           }
          ],
          "choropleth": [
           {
            "colorbar": {
             "outlinewidth": 0,
             "ticks": ""
            },
            "type": "choropleth"
           }
          ],
          "contour": [
           {
            "colorbar": {
             "outlinewidth": 0,
             "ticks": ""
            },
            "colorscale": [
             [
              0,
              "#0d0887"
             ],
             [
              0.1111111111111111,
              "#46039f"
             ],
             [
              0.2222222222222222,
              "#7201a8"
             ],
             [
              0.3333333333333333,
              "#9c179e"
             ],
             [
              0.4444444444444444,
              "#bd3786"
             ],
             [
              0.5555555555555556,
              "#d8576b"
             ],
             [
              0.6666666666666666,
              "#ed7953"
             ],
             [
              0.7777777777777778,
              "#fb9f3a"
             ],
             [
              0.8888888888888888,
              "#fdca26"
             ],
             [
              1,
              "#f0f921"
             ]
            ],
            "type": "contour"
           }
          ],
          "contourcarpet": [
           {
            "colorbar": {
             "outlinewidth": 0,
             "ticks": ""
            },
            "type": "contourcarpet"
           }
          ],
          "heatmap": [
           {
            "colorbar": {
             "outlinewidth": 0,
             "ticks": ""
            },
            "colorscale": [
             [
              0,
              "#0d0887"
             ],
             [
              0.1111111111111111,
              "#46039f"
             ],
             [
              0.2222222222222222,
              "#7201a8"
             ],
             [
              0.3333333333333333,
              "#9c179e"
             ],
             [
              0.4444444444444444,
              "#bd3786"
             ],
             [
              0.5555555555555556,
              "#d8576b"
             ],
             [
              0.6666666666666666,
              "#ed7953"
             ],
             [
              0.7777777777777778,
              "#fb9f3a"
             ],
             [
              0.8888888888888888,
              "#fdca26"
             ],
             [
              1,
              "#f0f921"
             ]
            ],
            "type": "heatmap"
           }
          ],
          "heatmapgl": [
           {
            "colorbar": {
             "outlinewidth": 0,
             "ticks": ""
            },
            "colorscale": [
             [
              0,
              "#0d0887"
             ],
             [
              0.1111111111111111,
              "#46039f"
             ],
             [
              0.2222222222222222,
              "#7201a8"
             ],
             [
              0.3333333333333333,
              "#9c179e"
             ],
             [
              0.4444444444444444,
              "#bd3786"
             ],
             [
              0.5555555555555556,
              "#d8576b"
             ],
             [
              0.6666666666666666,
              "#ed7953"
             ],
             [
              0.7777777777777778,
              "#fb9f3a"
             ],
             [
              0.8888888888888888,
              "#fdca26"
             ],
             [
              1,
              "#f0f921"
             ]
            ],
            "type": "heatmapgl"
           }
          ],
          "histogram": [
           {
            "marker": {
             "pattern": {
              "fillmode": "overlay",
              "size": 10,
              "solidity": 0.2
             }
            },
            "type": "histogram"
           }
          ],
          "histogram2d": [
           {
            "colorbar": {
             "outlinewidth": 0,
             "ticks": ""
            },
            "colorscale": [
             [
              0,
              "#0d0887"
             ],
             [
              0.1111111111111111,
              "#46039f"
             ],
             [
              0.2222222222222222,
              "#7201a8"
             ],
             [
              0.3333333333333333,
              "#9c179e"
             ],
             [
              0.4444444444444444,
              "#bd3786"
             ],
             [
              0.5555555555555556,
              "#d8576b"
             ],
             [
              0.6666666666666666,
              "#ed7953"
             ],
             [
              0.7777777777777778,
              "#fb9f3a"
             ],
             [
              0.8888888888888888,
              "#fdca26"
             ],
             [
              1,
              "#f0f921"
             ]
            ],
            "type": "histogram2d"
           }
          ],
          "histogram2dcontour": [
           {
            "colorbar": {
             "outlinewidth": 0,
             "ticks": ""
            },
            "colorscale": [
             [
              0,
              "#0d0887"
             ],
             [
              0.1111111111111111,
              "#46039f"
             ],
             [
              0.2222222222222222,
              "#7201a8"
             ],
             [
              0.3333333333333333,
              "#9c179e"
             ],
             [
              0.4444444444444444,
              "#bd3786"
             ],
             [
              0.5555555555555556,
              "#d8576b"
             ],
             [
              0.6666666666666666,
              "#ed7953"
             ],
             [
              0.7777777777777778,
              "#fb9f3a"
             ],
             [
              0.8888888888888888,
              "#fdca26"
             ],
             [
              1,
              "#f0f921"
             ]
            ],
            "type": "histogram2dcontour"
           }
          ],
          "mesh3d": [
           {
            "colorbar": {
             "outlinewidth": 0,
             "ticks": ""
            },
            "type": "mesh3d"
           }
          ],
          "parcoords": [
           {
            "line": {
             "colorbar": {
              "outlinewidth": 0,
              "ticks": ""
             }
            },
            "type": "parcoords"
           }
          ],
          "pie": [
           {
            "automargin": true,
            "type": "pie"
           }
          ],
          "scatter": [
           {
            "fillpattern": {
             "fillmode": "overlay",
             "size": 10,
             "solidity": 0.2
            },
            "type": "scatter"
           }
          ],
          "scatter3d": [
           {
            "line": {
             "colorbar": {
              "outlinewidth": 0,
              "ticks": ""
             }
            },
            "marker": {
             "colorbar": {
              "outlinewidth": 0,
              "ticks": ""
             }
            },
            "type": "scatter3d"
           }
          ],
          "scattercarpet": [
           {
            "marker": {
             "colorbar": {
              "outlinewidth": 0,
              "ticks": ""
             }
            },
            "type": "scattercarpet"
           }
          ],
          "scattergeo": [
           {
            "marker": {
             "colorbar": {
              "outlinewidth": 0,
              "ticks": ""
             }
            },
            "type": "scattergeo"
           }
          ],
          "scattergl": [
           {
            "marker": {
             "colorbar": {
              "outlinewidth": 0,
              "ticks": ""
             }
            },
            "type": "scattergl"
           }
          ],
          "scattermapbox": [
           {
            "marker": {
             "colorbar": {
              "outlinewidth": 0,
              "ticks": ""
             }
            },
            "type": "scattermapbox"
           }
          ],
          "scatterpolar": [
           {
            "marker": {
             "colorbar": {
              "outlinewidth": 0,
              "ticks": ""
             }
            },
            "type": "scatterpolar"
           }
          ],
          "scatterpolargl": [
           {
            "marker": {
             "colorbar": {
              "outlinewidth": 0,
              "ticks": ""
             }
            },
            "type": "scatterpolargl"
           }
          ],
          "scatterternary": [
           {
            "marker": {
             "colorbar": {
              "outlinewidth": 0,
              "ticks": ""
             }
            },
            "type": "scatterternary"
           }
          ],
          "surface": [
           {
            "colorbar": {
             "outlinewidth": 0,
             "ticks": ""
            },
            "colorscale": [
             [
              0,
              "#0d0887"
             ],
             [
              0.1111111111111111,
              "#46039f"
             ],
             [
              0.2222222222222222,
              "#7201a8"
             ],
             [
              0.3333333333333333,
              "#9c179e"
             ],
             [
              0.4444444444444444,
              "#bd3786"
             ],
             [
              0.5555555555555556,
              "#d8576b"
             ],
             [
              0.6666666666666666,
              "#ed7953"
             ],
             [
              0.7777777777777778,
              "#fb9f3a"
             ],
             [
              0.8888888888888888,
              "#fdca26"
             ],
             [
              1,
              "#f0f921"
             ]
            ],
            "type": "surface"
           }
          ],
          "table": [
           {
            "cells": {
             "fill": {
              "color": "#EBF0F8"
             },
             "line": {
              "color": "white"
             }
            },
            "header": {
             "fill": {
              "color": "#C8D4E3"
             },
             "line": {
              "color": "white"
             }
            },
            "type": "table"
           }
          ]
         },
         "layout": {
          "annotationdefaults": {
           "arrowcolor": "#2a3f5f",
           "arrowhead": 0,
           "arrowwidth": 1
          },
          "autotypenumbers": "strict",
          "coloraxis": {
           "colorbar": {
            "outlinewidth": 0,
            "ticks": ""
           }
          },
          "colorscale": {
           "diverging": [
            [
             0,
             "#8e0152"
            ],
            [
             0.1,
             "#c51b7d"
            ],
            [
             0.2,
             "#de77ae"
            ],
            [
             0.3,
             "#f1b6da"
            ],
            [
             0.4,
             "#fde0ef"
            ],
            [
             0.5,
             "#f7f7f7"
            ],
            [
             0.6,
             "#e6f5d0"
            ],
            [
             0.7,
             "#b8e186"
            ],
            [
             0.8,
             "#7fbc41"
            ],
            [
             0.9,
             "#4d9221"
            ],
            [
             1,
             "#276419"
            ]
           ],
           "sequential": [
            [
             0,
             "#0d0887"
            ],
            [
             0.1111111111111111,
             "#46039f"
            ],
            [
             0.2222222222222222,
             "#7201a8"
            ],
            [
             0.3333333333333333,
             "#9c179e"
            ],
            [
             0.4444444444444444,
             "#bd3786"
            ],
            [
             0.5555555555555556,
             "#d8576b"
            ],
            [
             0.6666666666666666,
             "#ed7953"
            ],
            [
             0.7777777777777778,
             "#fb9f3a"
            ],
            [
             0.8888888888888888,
             "#fdca26"
            ],
            [
             1,
             "#f0f921"
            ]
           ],
           "sequentialminus": [
            [
             0,
             "#0d0887"
            ],
            [
             0.1111111111111111,
             "#46039f"
            ],
            [
             0.2222222222222222,
             "#7201a8"
            ],
            [
             0.3333333333333333,
             "#9c179e"
            ],
            [
             0.4444444444444444,
             "#bd3786"
            ],
            [
             0.5555555555555556,
             "#d8576b"
            ],
            [
             0.6666666666666666,
             "#ed7953"
            ],
            [
             0.7777777777777778,
             "#fb9f3a"
            ],
            [
             0.8888888888888888,
             "#fdca26"
            ],
            [
             1,
             "#f0f921"
            ]
           ]
          },
          "colorway": [
           "#636efa",
           "#EF553B",
           "#00cc96",
           "#ab63fa",
           "#FFA15A",
           "#19d3f3",
           "#FF6692",
           "#B6E880",
           "#FF97FF",
           "#FECB52"
          ],
          "font": {
           "color": "#2a3f5f"
          },
          "geo": {
           "bgcolor": "white",
           "lakecolor": "white",
           "landcolor": "#E5ECF6",
           "showlakes": true,
           "showland": true,
           "subunitcolor": "white"
          },
          "hoverlabel": {
           "align": "left"
          },
          "hovermode": "closest",
          "mapbox": {
           "style": "light"
          },
          "paper_bgcolor": "white",
          "plot_bgcolor": "#E5ECF6",
          "polar": {
           "angularaxis": {
            "gridcolor": "white",
            "linecolor": "white",
            "ticks": ""
           },
           "bgcolor": "#E5ECF6",
           "radialaxis": {
            "gridcolor": "white",
            "linecolor": "white",
            "ticks": ""
           }
          },
          "scene": {
           "xaxis": {
            "backgroundcolor": "#E5ECF6",
            "gridcolor": "white",
            "gridwidth": 2,
            "linecolor": "white",
            "showbackground": true,
            "ticks": "",
            "zerolinecolor": "white"
           },
           "yaxis": {
            "backgroundcolor": "#E5ECF6",
            "gridcolor": "white",
            "gridwidth": 2,
            "linecolor": "white",
            "showbackground": true,
            "ticks": "",
            "zerolinecolor": "white"
           },
           "zaxis": {
            "backgroundcolor": "#E5ECF6",
            "gridcolor": "white",
            "gridwidth": 2,
            "linecolor": "white",
            "showbackground": true,
            "ticks": "",
            "zerolinecolor": "white"
           }
          },
          "shapedefaults": {
           "line": {
            "color": "#2a3f5f"
           }
          },
          "ternary": {
           "aaxis": {
            "gridcolor": "white",
            "linecolor": "white",
            "ticks": ""
           },
           "baxis": {
            "gridcolor": "white",
            "linecolor": "white",
            "ticks": ""
           },
           "bgcolor": "#E5ECF6",
           "caxis": {
            "gridcolor": "white",
            "linecolor": "white",
            "ticks": ""
           }
          },
          "title": {
           "x": 0.05
          },
          "xaxis": {
           "automargin": true,
           "gridcolor": "white",
           "linecolor": "white",
           "ticks": "",
           "title": {
            "standoff": 15
           },
           "zerolinecolor": "white",
           "zerolinewidth": 2
          },
          "yaxis": {
           "automargin": true,
           "gridcolor": "white",
           "linecolor": "white",
           "ticks": "",
           "title": {
            "standoff": 15
           },
           "zerolinecolor": "white",
           "zerolinewidth": 2
          }
         }
        },
        "title": {
         "text": "Vendas por Produto"
        },
        "xaxis": {
         "anchor": "y",
         "domain": [
          0,
          1
         ],
         "title": {
          "text": "product_name"
         }
        },
        "yaxis": {
         "anchor": "x",
         "domain": [
          0,
          1
         ],
         "title": {
          "text": "total_sales"
         }
        }
       }
      }
     },
     "metadata": {},
     "output_type": "display_data"
    },
    {
     "data": {
      "application/vnd.plotly.v1+json": {
       "config": {
        "plotlyServerURL": "https://plot.ly"
       },
       "data": [
        {
         "alignmentgroup": "True",
         "hovertemplate": "category_name=%{x}<br>quantity=%{y}<extra></extra>",
         "legendgroup": "",
         "marker": {
          "color": "#636efa",
          "pattern": {
           "shape": ""
          }
         },
         "name": "",
         "offsetgroup": "",
         "orientation": "v",
         "showlegend": false,
         "textposition": "auto",
         "type": "bar",
         "x": [
          "Beverages",
          "Condiments",
          "Confections",
          "Dairy Products",
          "Grains/Cereals",
          "Meat/Poultry",
          "Produce",
          "Seafood"
         ],
         "xaxis": "x",
         "y": [
          9570,
          5300,
          7906,
          9149,
          4562,
          4199,
          2990,
          7706
         ],
         "yaxis": "y"
        }
       ],
       "layout": {
        "barmode": "relative",
        "legend": {
         "tracegroupgap": 0
        },
        "template": {
         "data": {
          "bar": [
           {
            "error_x": {
             "color": "#2a3f5f"
            },
            "error_y": {
             "color": "#2a3f5f"
            },
            "marker": {
             "line": {
              "color": "#E5ECF6",
              "width": 0.5
             },
             "pattern": {
              "fillmode": "overlay",
              "size": 10,
              "solidity": 0.2
             }
            },
            "type": "bar"
           }
          ],
          "barpolar": [
           {
            "marker": {
             "line": {
              "color": "#E5ECF6",
              "width": 0.5
             },
             "pattern": {
              "fillmode": "overlay",
              "size": 10,
              "solidity": 0.2
             }
            },
            "type": "barpolar"
           }
          ],
          "carpet": [
           {
            "aaxis": {
             "endlinecolor": "#2a3f5f",
             "gridcolor": "white",
             "linecolor": "white",
             "minorgridcolor": "white",
             "startlinecolor": "#2a3f5f"
            },
            "baxis": {
             "endlinecolor": "#2a3f5f",
             "gridcolor": "white",
             "linecolor": "white",
             "minorgridcolor": "white",
             "startlinecolor": "#2a3f5f"
            },
            "type": "carpet"
           }
          ],
          "choropleth": [
           {
            "colorbar": {
             "outlinewidth": 0,
             "ticks": ""
            },
            "type": "choropleth"
           }
          ],
          "contour": [
           {
            "colorbar": {
             "outlinewidth": 0,
             "ticks": ""
            },
            "colorscale": [
             [
              0,
              "#0d0887"
             ],
             [
              0.1111111111111111,
              "#46039f"
             ],
             [
              0.2222222222222222,
              "#7201a8"
             ],
             [
              0.3333333333333333,
              "#9c179e"
             ],
             [
              0.4444444444444444,
              "#bd3786"
             ],
             [
              0.5555555555555556,
              "#d8576b"
             ],
             [
              0.6666666666666666,
              "#ed7953"
             ],
             [
              0.7777777777777778,
              "#fb9f3a"
             ],
             [
              0.8888888888888888,
              "#fdca26"
             ],
             [
              1,
              "#f0f921"
             ]
            ],
            "type": "contour"
           }
          ],
          "contourcarpet": [
           {
            "colorbar": {
             "outlinewidth": 0,
             "ticks": ""
            },
            "type": "contourcarpet"
           }
          ],
          "heatmap": [
           {
            "colorbar": {
             "outlinewidth": 0,
             "ticks": ""
            },
            "colorscale": [
             [
              0,
              "#0d0887"
             ],
             [
              0.1111111111111111,
              "#46039f"
             ],
             [
              0.2222222222222222,
              "#7201a8"
             ],
             [
              0.3333333333333333,
              "#9c179e"
             ],
             [
              0.4444444444444444,
              "#bd3786"
             ],
             [
              0.5555555555555556,
              "#d8576b"
             ],
             [
              0.6666666666666666,
              "#ed7953"
             ],
             [
              0.7777777777777778,
              "#fb9f3a"
             ],
             [
              0.8888888888888888,
              "#fdca26"
             ],
             [
              1,
              "#f0f921"
             ]
            ],
            "type": "heatmap"
           }
          ],
          "heatmapgl": [
           {
            "colorbar": {
             "outlinewidth": 0,
             "ticks": ""
            },
            "colorscale": [
             [
              0,
              "#0d0887"
             ],
             [
              0.1111111111111111,
              "#46039f"
             ],
             [
              0.2222222222222222,
              "#7201a8"
             ],
             [
              0.3333333333333333,
              "#9c179e"
             ],
             [
              0.4444444444444444,
              "#bd3786"
             ],
             [
              0.5555555555555556,
              "#d8576b"
             ],
             [
              0.6666666666666666,
              "#ed7953"
             ],
             [
              0.7777777777777778,
              "#fb9f3a"
             ],
             [
              0.8888888888888888,
              "#fdca26"
             ],
             [
              1,
              "#f0f921"
             ]
            ],
            "type": "heatmapgl"
           }
          ],
          "histogram": [
           {
            "marker": {
             "pattern": {
              "fillmode": "overlay",
              "size": 10,
              "solidity": 0.2
             }
            },
            "type": "histogram"
           }
          ],
          "histogram2d": [
           {
            "colorbar": {
             "outlinewidth": 0,
             "ticks": ""
            },
            "colorscale": [
             [
              0,
              "#0d0887"
             ],
             [
              0.1111111111111111,
              "#46039f"
             ],
             [
              0.2222222222222222,
              "#7201a8"
             ],
             [
              0.3333333333333333,
              "#9c179e"
             ],
             [
              0.4444444444444444,
              "#bd3786"
             ],
             [
              0.5555555555555556,
              "#d8576b"
             ],
             [
              0.6666666666666666,
              "#ed7953"
             ],
             [
              0.7777777777777778,
              "#fb9f3a"
             ],
             [
              0.8888888888888888,
              "#fdca26"
             ],
             [
              1,
              "#f0f921"
             ]
            ],
            "type": "histogram2d"
           }
          ],
          "histogram2dcontour": [
           {
            "colorbar": {
             "outlinewidth": 0,
             "ticks": ""
            },
            "colorscale": [
             [
              0,
              "#0d0887"
             ],
             [
              0.1111111111111111,
              "#46039f"
             ],
             [
              0.2222222222222222,
              "#7201a8"
             ],
             [
              0.3333333333333333,
              "#9c179e"
             ],
             [
              0.4444444444444444,
              "#bd3786"
             ],
             [
              0.5555555555555556,
              "#d8576b"
             ],
             [
              0.6666666666666666,
              "#ed7953"
             ],
             [
              0.7777777777777778,
              "#fb9f3a"
             ],
             [
              0.8888888888888888,
              "#fdca26"
             ],
             [
              1,
              "#f0f921"
             ]
            ],
            "type": "histogram2dcontour"
           }
          ],
          "mesh3d": [
           {
            "colorbar": {
             "outlinewidth": 0,
             "ticks": ""
            },
            "type": "mesh3d"
           }
          ],
          "parcoords": [
           {
            "line": {
             "colorbar": {
              "outlinewidth": 0,
              "ticks": ""
             }
            },
            "type": "parcoords"
           }
          ],
          "pie": [
           {
            "automargin": true,
            "type": "pie"
           }
          ],
          "scatter": [
           {
            "fillpattern": {
             "fillmode": "overlay",
             "size": 10,
             "solidity": 0.2
            },
            "type": "scatter"
           }
          ],
          "scatter3d": [
           {
            "line": {
             "colorbar": {
              "outlinewidth": 0,
              "ticks": ""
             }
            },
            "marker": {
             "colorbar": {
              "outlinewidth": 0,
              "ticks": ""
             }
            },
            "type": "scatter3d"
           }
          ],
          "scattercarpet": [
           {
            "marker": {
             "colorbar": {
              "outlinewidth": 0,
              "ticks": ""
             }
            },
            "type": "scattercarpet"
           }
          ],
          "scattergeo": [
           {
            "marker": {
             "colorbar": {
              "outlinewidth": 0,
              "ticks": ""
             }
            },
            "type": "scattergeo"
           }
          ],
          "scattergl": [
           {
            "marker": {
             "colorbar": {
              "outlinewidth": 0,
              "ticks": ""
             }
            },
            "type": "scattergl"
           }
          ],
          "scattermapbox": [
           {
            "marker": {
             "colorbar": {
              "outlinewidth": 0,
              "ticks": ""
             }
            },
            "type": "scattermapbox"
           }
          ],
          "scatterpolar": [
           {
            "marker": {
             "colorbar": {
              "outlinewidth": 0,
              "ticks": ""
             }
            },
            "type": "scatterpolar"
           }
          ],
          "scatterpolargl": [
           {
            "marker": {
             "colorbar": {
              "outlinewidth": 0,
              "ticks": ""
             }
            },
            "type": "scatterpolargl"
           }
          ],
          "scatterternary": [
           {
            "marker": {
             "colorbar": {
              "outlinewidth": 0,
              "ticks": ""
             }
            },
            "type": "scatterternary"
           }
          ],
          "surface": [
           {
            "colorbar": {
             "outlinewidth": 0,
             "ticks": ""
            },
            "colorscale": [
             [
              0,
              "#0d0887"
             ],
             [
              0.1111111111111111,
              "#46039f"
             ],
             [
              0.2222222222222222,
              "#7201a8"
             ],
             [
              0.3333333333333333,
              "#9c179e"
             ],
             [
              0.4444444444444444,
              "#bd3786"
             ],
             [
              0.5555555555555556,
              "#d8576b"
             ],
             [
              0.6666666666666666,
              "#ed7953"
             ],
             [
              0.7777777777777778,
              "#fb9f3a"
             ],
             [
              0.8888888888888888,
              "#fdca26"
             ],
             [
              1,
              "#f0f921"
             ]
            ],
            "type": "surface"
           }
          ],
          "table": [
           {
            "cells": {
             "fill": {
              "color": "#EBF0F8"
             },
             "line": {
              "color": "white"
             }
            },
            "header": {
             "fill": {
              "color": "#C8D4E3"
             },
             "line": {
              "color": "white"
             }
            },
            "type": "table"
           }
          ]
         },
         "layout": {
          "annotationdefaults": {
           "arrowcolor": "#2a3f5f",
           "arrowhead": 0,
           "arrowwidth": 1
          },
          "autotypenumbers": "strict",
          "coloraxis": {
           "colorbar": {
            "outlinewidth": 0,
            "ticks": ""
           }
          },
          "colorscale": {
           "diverging": [
            [
             0,
             "#8e0152"
            ],
            [
             0.1,
             "#c51b7d"
            ],
            [
             0.2,
             "#de77ae"
            ],
            [
             0.3,
             "#f1b6da"
            ],
            [
             0.4,
             "#fde0ef"
            ],
            [
             0.5,
             "#f7f7f7"
            ],
            [
             0.6,
             "#e6f5d0"
            ],
            [
             0.7,
             "#b8e186"
            ],
            [
             0.8,
             "#7fbc41"
            ],
            [
             0.9,
             "#4d9221"
            ],
            [
             1,
             "#276419"
            ]
           ],
           "sequential": [
            [
             0,
             "#0d0887"
            ],
            [
             0.1111111111111111,
             "#46039f"
            ],
            [
             0.2222222222222222,
             "#7201a8"
            ],
            [
             0.3333333333333333,
             "#9c179e"
            ],
            [
             0.4444444444444444,
             "#bd3786"
            ],
            [
             0.5555555555555556,
             "#d8576b"
            ],
            [
             0.6666666666666666,
             "#ed7953"
            ],
            [
             0.7777777777777778,
             "#fb9f3a"
            ],
            [
             0.8888888888888888,
             "#fdca26"
            ],
            [
             1,
             "#f0f921"
            ]
           ],
           "sequentialminus": [
            [
             0,
             "#0d0887"
            ],
            [
             0.1111111111111111,
             "#46039f"
            ],
            [
             0.2222222222222222,
             "#7201a8"
            ],
            [
             0.3333333333333333,
             "#9c179e"
            ],
            [
             0.4444444444444444,
             "#bd3786"
            ],
            [
             0.5555555555555556,
             "#d8576b"
            ],
            [
             0.6666666666666666,
             "#ed7953"
            ],
            [
             0.7777777777777778,
             "#fb9f3a"
            ],
            [
             0.8888888888888888,
             "#fdca26"
            ],
            [
             1,
             "#f0f921"
            ]
           ]
          },
          "colorway": [
           "#636efa",
           "#EF553B",
           "#00cc96",
           "#ab63fa",
           "#FFA15A",
           "#19d3f3",
           "#FF6692",
           "#B6E880",
           "#FF97FF",
           "#FECB52"
          ],
          "font": {
           "color": "#2a3f5f"
          },
          "geo": {
           "bgcolor": "white",
           "lakecolor": "white",
           "landcolor": "#E5ECF6",
           "showlakes": true,
           "showland": true,
           "subunitcolor": "white"
          },
          "hoverlabel": {
           "align": "left"
          },
          "hovermode": "closest",
          "mapbox": {
           "style": "light"
          },
          "paper_bgcolor": "white",
          "plot_bgcolor": "#E5ECF6",
          "polar": {
           "angularaxis": {
            "gridcolor": "white",
            "linecolor": "white",
            "ticks": ""
           },
           "bgcolor": "#E5ECF6",
           "radialaxis": {
            "gridcolor": "white",
            "linecolor": "white",
            "ticks": ""
           }
          },
          "scene": {
           "xaxis": {
            "backgroundcolor": "#E5ECF6",
            "gridcolor": "white",
            "gridwidth": 2,
            "linecolor": "white",
            "showbackground": true,
            "ticks": "",
            "zerolinecolor": "white"
           },
           "yaxis": {
            "backgroundcolor": "#E5ECF6",
            "gridcolor": "white",
            "gridwidth": 2,
            "linecolor": "white",
            "showbackground": true,
            "ticks": "",
            "zerolinecolor": "white"
           },
           "zaxis": {
            "backgroundcolor": "#E5ECF6",
            "gridcolor": "white",
            "gridwidth": 2,
            "linecolor": "white",
            "showbackground": true,
            "ticks": "",
            "zerolinecolor": "white"
           }
          },
          "shapedefaults": {
           "line": {
            "color": "#2a3f5f"
           }
          },
          "ternary": {
           "aaxis": {
            "gridcolor": "white",
            "linecolor": "white",
            "ticks": ""
           },
           "baxis": {
            "gridcolor": "white",
            "linecolor": "white",
            "ticks": ""
           },
           "bgcolor": "#E5ECF6",
           "caxis": {
            "gridcolor": "white",
            "linecolor": "white",
            "ticks": ""
           }
          },
          "title": {
           "x": 0.05
          },
          "xaxis": {
           "automargin": true,
           "gridcolor": "white",
           "linecolor": "white",
           "ticks": "",
           "title": {
            "standoff": 15
           },
           "zerolinecolor": "white",
           "zerolinewidth": 2
          },
          "yaxis": {
           "automargin": true,
           "gridcolor": "white",
           "linecolor": "white",
           "ticks": "",
           "title": {
            "standoff": 15
           },
           "zerolinecolor": "white",
           "zerolinewidth": 2
          }
         }
        },
        "title": {
         "text": "Quantidade Vendida por Categoria"
        },
        "xaxis": {
         "anchor": "y",
         "domain": [
          0,
          1
         ],
         "title": {
          "text": "category_name"
         }
        },
        "yaxis": {
         "anchor": "x",
         "domain": [
          0,
          1
         ],
         "title": {
          "text": "quantity"
         }
        }
       }
      }
     },
     "metadata": {},
     "output_type": "display_data"
    },
    {
     "data": {
      "application/vnd.plotly.v1+json": {
       "config": {
        "plotlyServerURL": "https://plot.ly"
       },
       "data": [
        {
         "alignmentgroup": "True",
         "hovertemplate": "product_name=%{x}<br>discount=%{y}<extra></extra>",
         "legendgroup": "",
         "marker": {
          "color": "#636efa",
          "pattern": {
           "shape": ""
          }
         },
         "name": "",
         "offsetgroup": "",
         "orientation": "v",
         "showlegend": false,
         "textposition": "auto",
         "type": "bar",
         "x": [
          "Alice Mutton",
          "Aniseed Syrup",
          "Boston Crab Meat",
          "Camembert Pierrot",
          "Carnarvon Tigers",
          "Chai",
          "Chang",
          "Chartreuse verte",
          "Chef Anton's Cajun Seasoning",
          "Chef Anton's Gumbo Mix",
          "Chocolade",
          "Côte de Blaye",
          "Escargots de Bourgogne",
          "Filo Mix",
          "Flotemysost",
          "Geitost",
          "Genen Shouyu",
          "Gnocchi di nonna Alice",
          "Gorgonzola Telino",
          "Grandma's Boysenberry Spread",
          "Gravad lax",
          "Guaraná Fantástica",
          "Gudbrandsdalsost",
          "Gula Malacca",
          "Gumbär Gummibärchen",
          "Gustaf's Knäckebröd",
          "Ikura",
          "Inlagd Sill",
          "Ipoh Coffee",
          "Jack's New England Clam Chowder",
          "Konbu",
          "Lakkalikööri",
          "Laughing Lumberjack Lager",
          "Longlife Tofu",
          "Louisiana Fiery Hot Pepper Sauce",
          "Louisiana Hot Spiced Okra",
          "Manjimup Dried Apples",
          "Mascarpone Fabioli",
          "Maxilaku",
          "Mishi Kobe Niku",
          "Mozzarella di Giovanni",
          "Nord-Ost Matjeshering",
          "Northwoods Cranberry Sauce",
          "NuNuCa Nuß-Nougat-Creme",
          "Original Frankfurter grüne Soße",
          "Outback Lager",
          "Pavlova",
          "Perth Pasties",
          "Pâté chinois",
          "Queso Cabrales",
          "Queso Manchego La Pastora",
          "Raclette Courdavault",
          "Ravioli Angelo",
          "Rhönbräu Klosterbier",
          "Rogede sild",
          "Röd Kaviar",
          "Rössle Sauerkraut",
          "Sasquatch Ale",
          "Schoggi Schokolade",
          "Scottish Longbreads",
          "Singaporean Hokkien Fried Mee",
          "Sir Rodney's Marmalade",
          "Sir Rodney's Scones",
          "Sirop d'érable",
          "Spegesild",
          "Steeleye Stout",
          "Tarte au sucre",
          "Teatime Chocolate Biscuits",
          "Thüringer Rostbratwurst",
          "Tofu",
          "Tourtière",
          "Tunnbröd",
          "Uncle Bob's Organic Dried Pears",
          "Valkoinen suklaa",
          "Vegie-spread",
          "Wimmers gute Semmelknödel",
          "Zaanse koeken"
         ],
         "xaxis": "x",
         "y": [
          0.06216216216216216,
          0.016666666666666666,
          0.051219512195121955,
          0.06392156862745098,
          0.08035714285714286,
          0.07763157894736843,
          0.10227272727272728,
          0.06666666666666667,
          0.075,
          0.075,
          0.10833333333333334,
          0.04583333333333334,
          0.1,
          0.041379310344827586,
          0.04285714285714286,
          0.04375,
          0.016666666666666666,
          0.062,
          0.06274509803921569,
          0.030833333333333334,
          0.05000000000000001,
          0.056862745098039215,
          0.07419354838709678,
          0.06041666666666667,
          0.0515625,
          0.02142857142857143,
          0.04393939393939394,
          0.07903225806451614,
          0.049999999999999996,
          0.04042553191489362,
          0.042499999999999996,
          0.052500000000000005,
          0.07727272727272727,
          0.05,
          0.0484375,
          0.03125,
          0.05128205128205128,
          0.07333333333333333,
          0.030952380952380946,
          0.1,
          0.02368421052631579,
          0.08125,
          0.06538461538461539,
          0.08611111111111111,
          0.05,
          0.06282051282051282,
          0.0669767441860465,
          0.03833333333333334,
          0.07727272727272728,
          0.05657894736842105,
          0.0642857142857143,
          0.04722222222222222,
          0.02826086956521739,
          0.05217391304347826,
          0.075,
          0.047142857142857146,
          0.03787878787878788,
          0.049999999999999996,
          0.027777777777777776,
          0.058823529411764705,
          0.055,
          0.04625,
          0.05641025641025642,
          0.07083333333333333,
          0.0637037037037037,
          0.04722222222222222,
          0.05416666666666667,
          0.055405405405405415,
          0.0640625,
          0.06727272727272728,
          0.07222222222222223,
          0.0375,
          0.027586206896551727,
          0.025,
          0.041176470588235294,
          0.041,
          0.07380952380952381
         ],
         "yaxis": "y"
        }
       ],
       "layout": {
        "barmode": "relative",
        "legend": {
         "tracegroupgap": 0
        },
        "template": {
         "data": {
          "bar": [
           {
            "error_x": {
             "color": "#2a3f5f"
            },
            "error_y": {
             "color": "#2a3f5f"
            },
            "marker": {
             "line": {
              "color": "#E5ECF6",
              "width": 0.5
             },
             "pattern": {
              "fillmode": "overlay",
              "size": 10,
              "solidity": 0.2
             }
            },
            "type": "bar"
           }
          ],
          "barpolar": [
           {
            "marker": {
             "line": {
              "color": "#E5ECF6",
              "width": 0.5
             },
             "pattern": {
              "fillmode": "overlay",
              "size": 10,
              "solidity": 0.2
             }
            },
            "type": "barpolar"
           }
          ],
          "carpet": [
           {
            "aaxis": {
             "endlinecolor": "#2a3f5f",
             "gridcolor": "white",
             "linecolor": "white",
             "minorgridcolor": "white",
             "startlinecolor": "#2a3f5f"
            },
            "baxis": {
             "endlinecolor": "#2a3f5f",
             "gridcolor": "white",
             "linecolor": "white",
             "minorgridcolor": "white",
             "startlinecolor": "#2a3f5f"
            },
            "type": "carpet"
           }
          ],
          "choropleth": [
           {
            "colorbar": {
             "outlinewidth": 0,
             "ticks": ""
            },
            "type": "choropleth"
           }
          ],
          "contour": [
           {
            "colorbar": {
             "outlinewidth": 0,
             "ticks": ""
            },
            "colorscale": [
             [
              0,
              "#0d0887"
             ],
             [
              0.1111111111111111,
              "#46039f"
             ],
             [
              0.2222222222222222,
              "#7201a8"
             ],
             [
              0.3333333333333333,
              "#9c179e"
             ],
             [
              0.4444444444444444,
              "#bd3786"
             ],
             [
              0.5555555555555556,
              "#d8576b"
             ],
             [
              0.6666666666666666,
              "#ed7953"
             ],
             [
              0.7777777777777778,
              "#fb9f3a"
             ],
             [
              0.8888888888888888,
              "#fdca26"
             ],
             [
              1,
              "#f0f921"
             ]
            ],
            "type": "contour"
           }
          ],
          "contourcarpet": [
           {
            "colorbar": {
             "outlinewidth": 0,
             "ticks": ""
            },
            "type": "contourcarpet"
           }
          ],
          "heatmap": [
           {
            "colorbar": {
             "outlinewidth": 0,
             "ticks": ""
            },
            "colorscale": [
             [
              0,
              "#0d0887"
             ],
             [
              0.1111111111111111,
              "#46039f"
             ],
             [
              0.2222222222222222,
              "#7201a8"
             ],
             [
              0.3333333333333333,
              "#9c179e"
             ],
             [
              0.4444444444444444,
              "#bd3786"
             ],
             [
              0.5555555555555556,
              "#d8576b"
             ],
             [
              0.6666666666666666,
              "#ed7953"
             ],
             [
              0.7777777777777778,
              "#fb9f3a"
             ],
             [
              0.8888888888888888,
              "#fdca26"
             ],
             [
              1,
              "#f0f921"
             ]
            ],
            "type": "heatmap"
           }
          ],
          "heatmapgl": [
           {
            "colorbar": {
             "outlinewidth": 0,
             "ticks": ""
            },
            "colorscale": [
             [
              0,
              "#0d0887"
             ],
             [
              0.1111111111111111,
              "#46039f"
             ],
             [
              0.2222222222222222,
              "#7201a8"
             ],
             [
              0.3333333333333333,
              "#9c179e"
             ],
             [
              0.4444444444444444,
              "#bd3786"
             ],
             [
              0.5555555555555556,
              "#d8576b"
             ],
             [
              0.6666666666666666,
              "#ed7953"
             ],
             [
              0.7777777777777778,
              "#fb9f3a"
             ],
             [
              0.8888888888888888,
              "#fdca26"
             ],
             [
              1,
              "#f0f921"
             ]
            ],
            "type": "heatmapgl"
           }
          ],
          "histogram": [
           {
            "marker": {
             "pattern": {
              "fillmode": "overlay",
              "size": 10,
              "solidity": 0.2
             }
            },
            "type": "histogram"
           }
          ],
          "histogram2d": [
           {
            "colorbar": {
             "outlinewidth": 0,
             "ticks": ""
            },
            "colorscale": [
             [
              0,
              "#0d0887"
             ],
             [
              0.1111111111111111,
              "#46039f"
             ],
             [
              0.2222222222222222,
              "#7201a8"
             ],
             [
              0.3333333333333333,
              "#9c179e"
             ],
             [
              0.4444444444444444,
              "#bd3786"
             ],
             [
              0.5555555555555556,
              "#d8576b"
             ],
             [
              0.6666666666666666,
              "#ed7953"
             ],
             [
              0.7777777777777778,
              "#fb9f3a"
             ],
             [
              0.8888888888888888,
              "#fdca26"
             ],
             [
              1,
              "#f0f921"
             ]
            ],
            "type": "histogram2d"
           }
          ],
          "histogram2dcontour": [
           {
            "colorbar": {
             "outlinewidth": 0,
             "ticks": ""
            },
            "colorscale": [
             [
              0,
              "#0d0887"
             ],
             [
              0.1111111111111111,
              "#46039f"
             ],
             [
              0.2222222222222222,
              "#7201a8"
             ],
             [
              0.3333333333333333,
              "#9c179e"
             ],
             [
              0.4444444444444444,
              "#bd3786"
             ],
             [
              0.5555555555555556,
              "#d8576b"
             ],
             [
              0.6666666666666666,
              "#ed7953"
             ],
             [
              0.7777777777777778,
              "#fb9f3a"
             ],
             [
              0.8888888888888888,
              "#fdca26"
             ],
             [
              1,
              "#f0f921"
             ]
            ],
            "type": "histogram2dcontour"
           }
          ],
          "mesh3d": [
           {
            "colorbar": {
             "outlinewidth": 0,
             "ticks": ""
            },
            "type": "mesh3d"
           }
          ],
          "parcoords": [
           {
            "line": {
             "colorbar": {
              "outlinewidth": 0,
              "ticks": ""
             }
            },
            "type": "parcoords"
           }
          ],
          "pie": [
           {
            "automargin": true,
            "type": "pie"
           }
          ],
          "scatter": [
           {
            "fillpattern": {
             "fillmode": "overlay",
             "size": 10,
             "solidity": 0.2
            },
            "type": "scatter"
           }
          ],
          "scatter3d": [
           {
            "line": {
             "colorbar": {
              "outlinewidth": 0,
              "ticks": ""
             }
            },
            "marker": {
             "colorbar": {
              "outlinewidth": 0,
              "ticks": ""
             }
            },
            "type": "scatter3d"
           }
          ],
          "scattercarpet": [
           {
            "marker": {
             "colorbar": {
              "outlinewidth": 0,
              "ticks": ""
             }
            },
            "type": "scattercarpet"
           }
          ],
          "scattergeo": [
           {
            "marker": {
             "colorbar": {
              "outlinewidth": 0,
              "ticks": ""
             }
            },
            "type": "scattergeo"
           }
          ],
          "scattergl": [
           {
            "marker": {
             "colorbar": {
              "outlinewidth": 0,
              "ticks": ""
             }
            },
            "type": "scattergl"
           }
          ],
          "scattermapbox": [
           {
            "marker": {
             "colorbar": {
              "outlinewidth": 0,
              "ticks": ""
             }
            },
            "type": "scattermapbox"
           }
          ],
          "scatterpolar": [
           {
            "marker": {
             "colorbar": {
              "outlinewidth": 0,
              "ticks": ""
             }
            },
            "type": "scatterpolar"
           }
          ],
          "scatterpolargl": [
           {
            "marker": {
             "colorbar": {
              "outlinewidth": 0,
              "ticks": ""
             }
            },
            "type": "scatterpolargl"
           }
          ],
          "scatterternary": [
           {
            "marker": {
             "colorbar": {
              "outlinewidth": 0,
              "ticks": ""
             }
            },
            "type": "scatterternary"
           }
          ],
          "surface": [
           {
            "colorbar": {
             "outlinewidth": 0,
             "ticks": ""
            },
            "colorscale": [
             [
              0,
              "#0d0887"
             ],
             [
              0.1111111111111111,
              "#46039f"
             ],
             [
              0.2222222222222222,
              "#7201a8"
             ],
             [
              0.3333333333333333,
              "#9c179e"
             ],
             [
              0.4444444444444444,
              "#bd3786"
             ],
             [
              0.5555555555555556,
              "#d8576b"
             ],
             [
              0.6666666666666666,
              "#ed7953"
             ],
             [
              0.7777777777777778,
              "#fb9f3a"
             ],
             [
              0.8888888888888888,
              "#fdca26"
             ],
             [
              1,
              "#f0f921"
             ]
            ],
            "type": "surface"
           }
          ],
          "table": [
           {
            "cells": {
             "fill": {
              "color": "#EBF0F8"
             },
             "line": {
              "color": "white"
             }
            },
            "header": {
             "fill": {
              "color": "#C8D4E3"
             },
             "line": {
              "color": "white"
             }
            },
            "type": "table"
           }
          ]
         },
         "layout": {
          "annotationdefaults": {
           "arrowcolor": "#2a3f5f",
           "arrowhead": 0,
           "arrowwidth": 1
          },
          "autotypenumbers": "strict",
          "coloraxis": {
           "colorbar": {
            "outlinewidth": 0,
            "ticks": ""
           }
          },
          "colorscale": {
           "diverging": [
            [
             0,
             "#8e0152"
            ],
            [
             0.1,
             "#c51b7d"
            ],
            [
             0.2,
             "#de77ae"
            ],
            [
             0.3,
             "#f1b6da"
            ],
            [
             0.4,
             "#fde0ef"
            ],
            [
             0.5,
             "#f7f7f7"
            ],
            [
             0.6,
             "#e6f5d0"
            ],
            [
             0.7,
             "#b8e186"
            ],
            [
             0.8,
             "#7fbc41"
            ],
            [
             0.9,
             "#4d9221"
            ],
            [
             1,
             "#276419"
            ]
           ],
           "sequential": [
            [
             0,
             "#0d0887"
            ],
            [
             0.1111111111111111,
             "#46039f"
            ],
            [
             0.2222222222222222,
             "#7201a8"
            ],
            [
             0.3333333333333333,
             "#9c179e"
            ],
            [
             0.4444444444444444,
             "#bd3786"
            ],
            [
             0.5555555555555556,
             "#d8576b"
            ],
            [
             0.6666666666666666,
             "#ed7953"
            ],
            [
             0.7777777777777778,
             "#fb9f3a"
            ],
            [
             0.8888888888888888,
             "#fdca26"
            ],
            [
             1,
             "#f0f921"
            ]
           ],
           "sequentialminus": [
            [
             0,
             "#0d0887"
            ],
            [
             0.1111111111111111,
             "#46039f"
            ],
            [
             0.2222222222222222,
             "#7201a8"
            ],
            [
             0.3333333333333333,
             "#9c179e"
            ],
            [
             0.4444444444444444,
             "#bd3786"
            ],
            [
             0.5555555555555556,
             "#d8576b"
            ],
            [
             0.6666666666666666,
             "#ed7953"
            ],
            [
             0.7777777777777778,
             "#fb9f3a"
            ],
            [
             0.8888888888888888,
             "#fdca26"
            ],
            [
             1,
             "#f0f921"
            ]
           ]
          },
          "colorway": [
           "#636efa",
           "#EF553B",
           "#00cc96",
           "#ab63fa",
           "#FFA15A",
           "#19d3f3",
           "#FF6692",
           "#B6E880",
           "#FF97FF",
           "#FECB52"
          ],
          "font": {
           "color": "#2a3f5f"
          },
          "geo": {
           "bgcolor": "white",
           "lakecolor": "white",
           "landcolor": "#E5ECF6",
           "showlakes": true,
           "showland": true,
           "subunitcolor": "white"
          },
          "hoverlabel": {
           "align": "left"
          },
          "hovermode": "closest",
          "mapbox": {
           "style": "light"
          },
          "paper_bgcolor": "white",
          "plot_bgcolor": "#E5ECF6",
          "polar": {
           "angularaxis": {
            "gridcolor": "white",
            "linecolor": "white",
            "ticks": ""
           },
           "bgcolor": "#E5ECF6",
           "radialaxis": {
            "gridcolor": "white",
            "linecolor": "white",
            "ticks": ""
           }
          },
          "scene": {
           "xaxis": {
            "backgroundcolor": "#E5ECF6",
            "gridcolor": "white",
            "gridwidth": 2,
            "linecolor": "white",
            "showbackground": true,
            "ticks": "",
            "zerolinecolor": "white"
           },
           "yaxis": {
            "backgroundcolor": "#E5ECF6",
            "gridcolor": "white",
            "gridwidth": 2,
            "linecolor": "white",
            "showbackground": true,
            "ticks": "",
            "zerolinecolor": "white"
           },
           "zaxis": {
            "backgroundcolor": "#E5ECF6",
            "gridcolor": "white",
            "gridwidth": 2,
            "linecolor": "white",
            "showbackground": true,
            "ticks": "",
            "zerolinecolor": "white"
           }
          },
          "shapedefaults": {
           "line": {
            "color": "#2a3f5f"
           }
          },
          "ternary": {
           "aaxis": {
            "gridcolor": "white",
            "linecolor": "white",
            "ticks": ""
           },
           "baxis": {
            "gridcolor": "white",
            "linecolor": "white",
            "ticks": ""
           },
           "bgcolor": "#E5ECF6",
           "caxis": {
            "gridcolor": "white",
            "linecolor": "white",
            "ticks": ""
           }
          },
          "title": {
           "x": 0.05
          },
          "xaxis": {
           "automargin": true,
           "gridcolor": "white",
           "linecolor": "white",
           "ticks": "",
           "title": {
            "standoff": 15
           },
           "zerolinecolor": "white",
           "zerolinewidth": 2
          },
          "yaxis": {
           "automargin": true,
           "gridcolor": "white",
           "linecolor": "white",
           "ticks": "",
           "title": {
            "standoff": 15
           },
           "zerolinecolor": "white",
           "zerolinewidth": 2
          }
         }
        },
        "title": {
         "text": "Desconto Médio por Produto"
        },
        "xaxis": {
         "anchor": "y",
         "domain": [
          0,
          1
         ],
         "title": {
          "text": "product_name"
         }
        },
        "yaxis": {
         "anchor": "x",
         "domain": [
          0,
          1
         ],
         "title": {
          "text": "discount"
         }
        }
       }
      }
     },
     "metadata": {},
     "output_type": "display_data"
    },
    {
     "data": {
      "application/vnd.plotly.v1+json": {
       "config": {
        "plotlyServerURL": "https://plot.ly"
       },
       "data": [
        {
         "geo": "geo",
         "hovertemplate": "total_sales=%{marker.size}<br>country=%{location}<extra></extra>",
         "legendgroup": "",
         "locationmode": "country names",
         "locations": [
          "Spain",
          "Singapore",
          "Italy",
          "Japan",
          "Australia",
          "USA",
          "Australia",
          "USA",
          "Sweden",
          "Italy",
          "USA",
          "UK",
          "Norway",
          "France",
          "Italy",
          "France",
          "Finland",
          "Brazil",
          "Canada",
          "Japan",
          "UK",
          "Australia",
          "Sweden",
          "France",
          "Australia",
          "Germany",
          "Germany",
          "France",
          "Germany",
          "UK",
          "USA",
          "Italy",
          "UK",
          "Sweden",
          "USA",
          "Italy",
          "Canada",
          "Australia",
          "UK",
          "USA",
          "USA",
          "USA",
          "Italy",
          "Australia",
          "Brazil",
          "Germany",
          "Japan",
          "UK",
          "USA",
          "Australia",
          "Australia",
          "Spain",
          "USA",
          "France",
          "Finland",
          "Germany",
          "Italy",
          "Norway",
          "Italy",
          "Sweden",
          "Singapore",
          "Norway",
          "UK",
          "Italy",
          "Italy",
          "Japan",
          "Italy",
          "Norway",
          "USA",
          "Finland",
          "Finland",
          "Norway",
          "Italy",
          "Brazil",
          "France",
          "Japan",
          "Japan",
          "Germany",
          "Canada",
          "Singapore",
          "France",
          "Australia",
          "Sweden",
          "Australia",
          "Brazil",
          "Canada",
          "Germany",
          "UK",
          "Brazil",
          "USA",
          "Germany",
          "Italy",
          "Japan",
          "UK",
          "France",
          "Italy",
          "Germany",
          "Singapore",
          "France",
          "USA",
          "USA",
          "UK",
          "USA",
          "Australia",
          "USA",
          "Canada",
          "Australia",
          "USA",
          "Denmark",
          "Canada",
          "UK",
          "UK",
          "Germany",
          "USA",
          "Germany",
          "Finland",
          "Germany",
          "Japan",
          "Singapore",
          "Australia",
          "UK",
          "Australia",
          "Brazil",
          "Australia",
          "Germany",
          "UK",
          "Australia",
          "Singapore",
          "France",
          "Germany",
          "Italy",
          "Spain",
          "Australia",
          "Norway",
          "France",
          "Italy",
          "UK",
          "Sweden",
          "France",
          "Canada",
          "UK",
          "Australia",
          "USA",
          "UK",
          "USA",
          "Italy",
          "Australia",
          "Germany",
          "Singapore",
          "USA",
          "USA",
          "UK",
          "Finland",
          "France",
          "Norway",
          "Australia",
          "Australia",
          "Germany",
          "France",
          "Germany",
          "Australia",
          "Canada",
          "Canada",
          "UK",
          "Norway",
          "Australia",
          "USA",
          "USA",
          "Singapore",
          "Singapore",
          "Norway",
          "Australia",
          "Canada",
          "Singapore",
          "Norway",
          "Germany",
          "Singapore",
          "Australia",
          "Germany",
          "Sweden",
          "Italy",
          "France",
          "Canada",
          "USA",
          "Australia",
          "USA",
          "Canada",
          "UK",
          "USA",
          "Finland",
          "Australia",
          "Germany",
          "Finland",
          "Norway",
          "USA",
          "Australia",
          "Japan",
          "Germany",
          "France",
          "Australia",
          "USA",
          "Denmark",
          "France",
          "Australia",
          "USA",
          "Japan",
          "Japan",
          "Italy",
          "Italy",
          "USA",
          "Italy",
          "Germany",
          "UK",
          "Spain",
          "Germany",
          "France",
          "France",
          "USA",
          "UK",
          "UK",
          "Germany",
          "France",
          "Italy",
          "Germany",
          "Italy",
          "Canada",
          "Australia",
          "Singapore",
          "Netherlands",
          "Japan",
          "UK",
          "Norway",
          "Australia",
          "UK",
          "UK",
          "Italy",
          "Italy",
          "Australia",
          "USA",
          "Sweden",
          "Germany",
          "Sweden",
          "Sweden",
          "Italy",
          "Australia",
          "Germany",
          "USA",
          "Australia",
          "Canada",
          "Australia",
          "USA",
          "Singapore",
          "Norway",
          "France",
          "UK",
          "Italy",
          "Sweden",
          "Canada",
          "Germany",
          "UK",
          "Finland",
          "USA",
          "USA",
          "USA",
          "UK",
          "Singapore",
          "Australia",
          "Italy",
          "Germany",
          "France",
          "USA",
          "Germany",
          "UK",
          "Sweden",
          "Canada",
          "Finland",
          "Norway",
          "France",
          "USA",
          "Singapore",
          "USA",
          "Brazil",
          "Canada",
          "Spain",
          "France",
          "UK",
          "Germany",
          "Brazil",
          "Italy",
          "Italy",
          "Canada",
          "Norway",
          "Japan",
          "Germany",
          "France",
          "Brazil",
          "USA",
          "Sweden",
          "Australia",
          "Italy",
          "France",
          "Germany",
          "Germany",
          "France",
          "Finland",
          "Canada",
          "France",
          "France",
          "Germany",
          "Australia",
          "Canada",
          "Italy",
          "Germany",
          "Finland",
          "Norway",
          "Norway",
          "Spain",
          "USA",
          "Germany",
          "USA",
          "Canada",
          "USA",
          "Germany",
          "UK",
          "Germany",
          "Italy",
          "Germany",
          "Germany",
          "Italy",
          "UK",
          "Germany",
          "Japan",
          "Sweden",
          "UK",
          "France",
          "France",
          "Italy",
          "France",
          "Norway",
          "Italy",
          "France",
          "Japan",
          "Canada",
          "Italy",
          "Germany",
          "France",
          "Norway",
          "USA",
          "Australia",
          "USA",
          "Germany",
          "Australia",
          "France",
          "Australia",
          "Japan",
          "USA",
          "Australia",
          "Germany",
          "Norway",
          "Japan",
          "Japan",
          "Finland",
          "Italy",
          "UK",
          "France",
          "USA",
          "France",
          "UK",
          "Brazil",
          "USA",
          "Brazil",
          "Germany",
          "France",
          "Norway",
          "Denmark",
          "Australia",
          "Australia",
          "Japan",
          "Canada",
          "Canada",
          "Australia",
          "Italy",
          "USA",
          "Denmark",
          "Italy",
          "Japan",
          "Norway",
          "UK",
          "Japan",
          "Germany",
          "Germany",
          "Italy",
          "Japan",
          "Canada",
          "Denmark",
          "Australia",
          "Norway",
          "Sweden",
          "Norway",
          "Italy",
          "UK",
          "Australia",
          "USA",
          "Canada",
          "UK",
          "Norway",
          "Finland",
          "Germany",
          "Germany",
          "USA",
          "Finland",
          "Germany",
          "Italy",
          "USA",
          "Norway",
          "Sweden",
          "Australia",
          "Australia",
          "Netherlands",
          "Germany",
          "Singapore",
          "Finland",
          "UK",
          "UK",
          "UK",
          "Germany",
          "Sweden",
          "USA",
          "Spain",
          "Norway",
          "Norway",
          "Sweden",
          "Canada",
          "Canada",
          "Japan",
          "UK",
          "Norway",
          "France",
          "USA",
          "Singapore",
          "France",
          "Japan",
          "UK",
          "Canada",
          "Finland",
          "UK",
          "Norway",
          "Australia",
          "Norway",
          "UK",
          "Australia",
          "Italy",
          "France",
          "Denmark",
          "UK",
          "Germany",
          "UK",
          "Netherlands",
          "Canada",
          "Japan",
          "France",
          "Norway",
          "Japan",
          "Japan",
          "Australia",
          "Sweden",
          "UK",
          "Germany",
          "Australia",
          "Germany",
          "Germany",
          "Italy",
          "France",
          "USA",
          "France",
          "UK",
          "Canada",
          "Finland",
          "Italy",
          "Germany",
          "Japan",
          "Denmark",
          "Finland",
          "Australia",
          "Australia",
          "UK",
          "Italy",
          "France",
          "Australia",
          "USA",
          "Netherlands",
          "Germany",
          "Canada",
          "Italy",
          "Spain",
          "Finland",
          "UK",
          "Sweden",
          "Italy",
          "Denmark",
          "Italy",
          "Germany",
          "Germany",
          "Australia",
          "UK",
          "USA",
          "Italy",
          "Spain",
          "Australia",
          "Germany",
          "Japan",
          "UK",
          "Australia",
          "Germany",
          "Canada",
          "Germany",
          "Spain",
          "Canada",
          "USA",
          "Spain",
          "Germany",
          "Australia",
          "Germany",
          "USA",
          "USA",
          "France",
          "Canada",
          "UK",
          "Brazil",
          "Italy",
          "Australia",
          "UK",
          "USA",
          "Norway",
          "Germany",
          "USA",
          "Japan",
          "Australia",
          "Canada",
          "Japan",
          "Canada",
          "Canada",
          "Germany",
          "USA",
          "Germany",
          "Germany",
          "Singapore",
          "Netherlands",
          "Australia",
          "Australia",
          "Norway",
          "Denmark",
          "France",
          "Australia",
          "Canada",
          "Norway",
          "UK",
          "Finland",
          "France",
          "Germany",
          "Germany",
          "Singapore",
          "Italy",
          "Norway",
          "USA",
          "Denmark",
          "Italy",
          "UK",
          "Germany",
          "UK",
          "Germany",
          "Canada",
          "Japan",
          "Sweden",
          "UK",
          "Singapore",
          "USA",
          "Singapore",
          "Italy",
          "France",
          "Brazil",
          "Germany",
          "USA",
          "Denmark",
          "Finland",
          "Spain",
          "Denmark",
          "Brazil",
          "Germany",
          "Germany",
          "Singapore",
          "UK",
          "Australia",
          "Singapore",
          "Australia",
          "Sweden",
          "Germany",
          "USA",
          "Italy",
          "Brazil",
          "Australia",
          "Norway",
          "Norway",
          "Japan",
          "Germany",
          "USA",
          "Germany",
          "Italy",
          "USA",
          "Finland",
          "Canada",
          "Australia",
          "UK",
          "UK",
          "France",
          "Japan",
          "France",
          "Australia",
          "France",
          "Germany",
          "Netherlands",
          "France",
          "Finland",
          "France",
          "USA",
          "USA",
          "Germany",
          "UK",
          "USA",
          "Australia",
          "UK",
          "UK",
          "Canada",
          "Australia",
          "Spain",
          "Australia",
          "Japan",
          "UK",
          "Germany",
          "Canada",
          "France",
          "Sweden",
          "Spain",
          "Australia",
          "France",
          "UK",
          "Germany",
          "Singapore",
          "Germany",
          "Germany",
          "Singapore",
          "USA",
          "USA",
          "Norway",
          "Italy",
          "Sweden",
          "USA",
          "Germany",
          "Italy",
          "Italy",
          "Italy",
          "Germany",
          "Brazil",
          "USA",
          "Singapore",
          "Germany",
          "Finland",
          "Japan",
          "Germany",
          "Canada",
          "Denmark",
          "Australia",
          "USA",
          "Japan",
          "USA",
          "UK",
          "UK",
          "Australia",
          "Canada",
          "Canada",
          "Germany",
          "Australia",
          "Singapore",
          "Netherlands",
          "Japan",
          "France",
          "Germany",
          "Germany",
          "Germany",
          "USA",
          "USA",
          "USA",
          "Brazil",
          "Denmark",
          "Netherlands",
          "France",
          "UK",
          "Italy",
          "Canada",
          "UK",
          "Germany",
          "Italy",
          "USA",
          "Germany",
          "Japan",
          "Australia",
          "Germany",
          "Norway",
          "France",
          "Australia",
          "USA",
          "Singapore",
          "Australia",
          "France",
          "Australia",
          "Brazil",
          "France",
          "Singapore",
          "Japan",
          "Italy",
          "France",
          "Brazil",
          "Australia",
          "USA",
          "USA",
          "UK",
          "UK",
          "USA",
          "Germany",
          "USA",
          "Australia",
          "UK",
          "Sweden",
          "USA",
          "Japan",
          "Germany",
          "Singapore",
          "Canada",
          "Sweden",
          "USA",
          "UK",
          "Japan",
          "Italy",
          "USA",
          "Sweden",
          "Spain",
          "Norway",
          "Italy",
          "Canada",
          "UK",
          "Norway",
          "Australia",
          "Singapore",
          "Canada",
          "Finland",
          "France",
          "Germany",
          "USA",
          "USA",
          "Italy",
          "Sweden",
          "Germany",
          "USA",
          "Canada",
          "Spain",
          "USA",
          "Italy",
          "France",
          "Spain",
          "Italy",
          "Norway",
          "France",
          "Italy",
          "Australia",
          "France",
          "Italy",
          "Sweden",
          "Australia",
          "Italy",
          "Japan",
          "UK",
          "Norway",
          "Finland",
          "UK",
          "Germany",
          "France",
          "UK",
          "Brazil",
          "France",
          "USA",
          "Norway",
          "Spain",
          "Canada",
          "Spain",
          "Sweden",
          "Germany",
          "USA",
          "Spain",
          "USA",
          "USA",
          "Canada",
          "Italy",
          "Sweden",
          "USA",
          "USA",
          "Italy",
          "Denmark",
          "Australia",
          "Australia",
          "UK",
          "UK",
          "Canada",
          "Australia",
          "USA",
          "Singapore",
          "Norway",
          "Germany",
          "Spain",
          "Australia",
          "Sweden",
          "Italy",
          "USA",
          "Australia",
          "Sweden",
          "Canada",
          "Germany",
          "Japan",
          "UK",
          "Brazil",
          "Australia",
          "Italy",
          "Italy",
          "Germany",
          "Germany",
          "Netherlands",
          "Australia",
          "Australia",
          "Australia",
          "Sweden",
          "USA",
          "Canada",
          "Germany",
          "Canada",
          "Singapore",
          "Australia",
          "Norway",
          "Canada",
          "Sweden",
          "Australia",
          "Australia",
          "Italy",
          "Canada",
          "Brazil",
          "Germany",
          "Spain",
          "Australia",
          "Finland",
          "Italy",
          "Australia",
          "France",
          "Japan",
          "Italy",
          "Finland",
          "Spain",
          "Italy",
          "Japan",
          "Singapore",
          "Australia",
          "Italy",
          "USA",
          "Germany",
          "Australia",
          "USA",
          "Australia",
          "Norway",
          "USA",
          "Canada",
          "Germany",
          "France",
          "Australia",
          "Italy",
          "Finland",
          "UK",
          "Italy",
          "Singapore",
          "France",
          "Germany",
          "Germany",
          "USA",
          "Italy",
          "Japan",
          "Germany",
          "Japan",
          "USA",
          "USA",
          "Germany",
          "Italy",
          "Finland",
          "Germany",
          "France",
          "Norway",
          "Italy",
          "Netherlands",
          "Australia",
          "Germany",
          "USA",
          "Germany",
          "Australia",
          "Singapore",
          "USA",
          "UK",
          "Germany",
          "UK",
          "USA",
          "Canada",
          "Japan",
          "Germany",
          "UK",
          "Norway",
          "Finland",
          "Australia",
          "France",
          "USA",
          "Canada",
          "Norway",
          "Italy",
          "Australia",
          "Germany",
          "Brazil",
          "Italy",
          "USA",
          "Germany",
          "Norway",
          "Canada",
          "Canada",
          "Sweden",
          "Japan",
          "France",
          "Germany",
          "Sweden",
          "Finland",
          "Netherlands",
          "Finland",
          "Australia",
          "France",
          "France",
          "Norway",
          "USA",
          "Canada",
          "Canada",
          "USA",
          "Australia",
          "Norway",
          "USA",
          "Italy",
          "Italy",
          "UK",
          "Japan",
          "UK",
          "Sweden",
          "UK",
          "UK",
          "France",
          "Japan",
          "Sweden",
          "Finland",
          "France",
          "Finland",
          "Japan",
          "Germany",
          "Spain",
          "UK",
          "France",
          "Canada",
          "France",
          "Italy",
          "Australia",
          "Norway",
          "France",
          "USA",
          "Italy",
          "UK",
          "UK",
          "Sweden",
          "Brazil",
          "Australia",
          "UK",
          "Sweden",
          "Australia",
          "Norway",
          "UK",
          "UK",
          "Japan",
          "UK",
          "UK",
          "Brazil",
          "USA",
          "Germany",
          "Germany",
          "Singapore",
          "Japan",
          "Singapore",
          "France",
          "Australia",
          "France",
          "Norway",
          "Canada",
          "Sweden",
          "UK",
          "Germany",
          "Germany",
          "Canada",
          "Finland",
          "Germany",
          "UK",
          "Norway",
          "Spain",
          "Japan",
          "Germany",
          "Canada",
          "USA",
          "Australia",
          "Australia",
          "Germany",
          "USA",
          "USA",
          "Sweden",
          "USA",
          "France",
          "Spain",
          "Finland",
          "Italy",
          "Denmark",
          "USA",
          "Italy",
          "Australia",
          "Norway",
          "Australia",
          "UK",
          "USA",
          "UK",
          "Canada",
          "Germany",
          "France",
          "Denmark",
          "Australia",
          "Singapore",
          "Denmark",
          "Australia",
          "Sweden",
          "UK",
          "Japan",
          "Norway",
          "Germany",
          "UK",
          "France",
          "Sweden",
          "Brazil",
          "Germany",
          "Italy",
          "Germany",
          "Australia",
          "Canada",
          "UK",
          "Sweden",
          "Germany",
          "Singapore",
          "Australia",
          "France",
          "USA",
          "France",
          "Canada",
          "USA",
          "Japan",
          "Singapore",
          "Netherlands",
          "Japan",
          "USA",
          "Denmark",
          "Netherlands",
          "Italy",
          "France",
          "UK",
          "USA",
          "France",
          "Germany",
          "Italy",
          "USA",
          "Australia",
          "UK",
          "France",
          "France",
          "UK",
          "USA",
          "Singapore",
          "Australia",
          "Japan",
          "Italy",
          "USA",
          "Australia",
          "France",
          "Finland",
          "Germany",
          "USA",
          "Norway",
          "Norway",
          "Italy",
          "Canada",
          "Germany",
          "Sweden",
          "Sweden",
          "Denmark",
          "USA",
          "Sweden",
          "Germany",
          "Australia",
          "Canada",
          "USA",
          "France",
          "Norway",
          "Australia",
          "Singapore",
          "Singapore",
          "Sweden",
          "Japan",
          "Australia",
          "France",
          "Japan",
          "UK",
          "Singapore",
          "Germany",
          "Norway",
          "Spain",
          "Norway",
          "USA",
          "Canada",
          "France",
          "Australia",
          "Italy",
          "Singapore",
          "UK",
          "UK",
          "Germany",
          "Norway",
          "USA",
          "Germany",
          "Australia",
          "USA",
          "Netherlands",
          "France",
          "Japan",
          "USA",
          "Netherlands",
          "Australia",
          "Germany",
          "Japan",
          "Germany",
          "Sweden",
          "Japan",
          "Germany",
          "USA",
          "UK",
          "Italy",
          "Germany",
          "UK",
          "Germany",
          "Singapore",
          "Singapore",
          "Canada",
          "Australia",
          "Japan",
          "Canada",
          "Norway",
          "Sweden",
          "USA",
          "France",
          "Australia",
          "USA",
          "Spain",
          "Brazil",
          "Australia",
          "Denmark",
          "UK",
          "USA",
          "France",
          "Australia",
          "Spain",
          "Australia",
          "Germany",
          "USA",
          "Australia",
          "Netherlands",
          "UK",
          "USA",
          "UK",
          "Norway",
          "France",
          "Norway",
          "Finland",
          "UK",
          "Finland",
          "UK",
          "France",
          "Sweden",
          "USA",
          "Brazil",
          "Netherlands",
          "Italy",
          "Italy",
          "Australia",
          "Singapore",
          "France",
          "Canada",
          "Italy",
          "Australia",
          "USA",
          "Sweden",
          "USA",
          "Australia",
          "France",
          "UK",
          "Netherlands",
          "UK",
          "USA",
          "Australia",
          "Australia",
          "Italy",
          "Japan",
          "Germany",
          "Denmark",
          "Denmark",
          "UK",
          "Australia",
          "Netherlands",
          "Italy",
          "France",
          "Japan",
          "Norway",
          "UK",
          "Australia",
          "Canada",
          "UK",
          "Canada",
          "Norway",
          "Spain",
          "Australia",
          "Sweden",
          "Canada",
          "Australia",
          "Germany",
          "Canada",
          "USA",
          "Norway",
          "Singapore",
          "UK",
          "Italy",
          "UK",
          "Germany",
          "Germany",
          "Japan",
          "Canada",
          "USA",
          "Australia",
          "Canada",
          "USA",
          "Spain",
          "Australia",
          "Italy",
          "France",
          "Germany",
          "USA",
          "Canada",
          "France",
          "UK",
          "UK",
          "Finland",
          "Australia",
          "Italy",
          "USA",
          "UK",
          "Australia",
          "Finland",
          "Japan",
          "Germany",
          "Australia",
          "USA",
          "Germany",
          "Finland",
          "Canada",
          "Germany",
          "USA",
          "Germany",
          "Japan",
          "USA",
          "Australia",
          "Sweden",
          "Australia",
          "Germany",
          "USA",
          "Denmark",
          "Italy",
          "UK",
          "UK",
          "France",
          "Italy",
          "Denmark",
          "USA",
          "Australia",
          "Singapore",
          "France",
          "Italy",
          "Japan",
          "Singapore",
          "Canada",
          "Norway",
          "Italy",
          "USA",
          "Australia",
          "Norway",
          "Sweden",
          "USA",
          "Italy",
          "Italy",
          "France",
          "Finland",
          "Japan",
          "Denmark",
          "France",
          "Germany",
          "Germany",
          "Finland",
          "Sweden",
          "UK",
          "Norway",
          "Denmark",
          "Japan",
          "USA",
          "Netherlands",
          "Italy",
          "Italy",
          "Norway",
          "Australia",
          "Sweden",
          "UK",
          "Norway",
          "USA",
          "France",
          "Canada",
          "Germany",
          "Germany",
          "Australia",
          "Australia",
          "Italy",
          "Germany",
          "Germany",
          "Singapore",
          "Germany",
          "Germany",
          "France",
          "Netherlands",
          "Australia",
          "Italy",
          "UK",
          "Sweden",
          "Brazil",
          "UK",
          "France",
          "USA",
          "UK",
          "USA",
          "UK",
          "Singapore",
          "Sweden",
          "Italy",
          "France",
          "Norway",
          "USA",
          "Australia",
          "Canada",
          "Canada",
          "Spain",
          "Norway",
          "Germany",
          "France",
          "Australia",
          "Italy",
          "Germany",
          "Italy",
          "USA",
          "Japan",
          "USA",
          "Italy",
          "Singapore",
          "Denmark",
          "Australia",
          "Singapore",
          "USA",
          "Australia",
          "Canada",
          "Australia",
          "Germany",
          "Canada",
          "Italy",
          "Japan",
          "Italy",
          "Italy",
          "France",
          "Sweden",
          "France",
          "Italy",
          "Japan",
          "Germany",
          "USA",
          "Germany",
          "Germany",
          "UK",
          "Germany",
          "UK",
          "Germany",
          "Australia",
          "USA",
          "Australia",
          "UK",
          "USA",
          "Italy",
          "Germany",
          "USA",
          "UK",
          "Canada",
          "UK",
          "USA",
          "Australia",
          "Japan",
          "Canada",
          "Australia",
          "Australia",
          "Germany",
          "Singapore",
          "Germany",
          "Norway",
          "Spain",
          "Canada",
          "Italy",
          "Japan",
          "Brazil",
          "France",
          "Spain",
          "Australia",
          "Canada",
          "Australia",
          "Germany",
          "Germany",
          "Australia",
          "Canada",
          "Canada",
          "UK",
          "Germany",
          "France",
          "Japan",
          "Germany",
          "Finland",
          "USA",
          "France",
          "UK",
          "USA",
          "Japan",
          "USA",
          "Italy",
          "Finland",
          "Australia",
          "Japan",
          "Germany",
          "Australia",
          "UK",
          "Sweden",
          "USA",
          "Italy",
          "Italy",
          "Germany",
          "UK",
          "Denmark",
          "USA",
          "Singapore",
          "Netherlands",
          "Canada",
          "Norway",
          "France",
          "Canada",
          "Germany",
          "France",
          "USA",
          "Canada",
          "Italy",
          "USA",
          "Singapore",
          "Germany",
          "Italy",
          "USA",
          "Australia",
          "Canada",
          "Australia",
          "Spain",
          "Italy",
          "France",
          "Germany",
          "USA",
          "Australia",
          "Germany",
          "Australia",
          "Italy",
          "Italy",
          "Japan",
          "France",
          "UK",
          "France",
          "UK",
          "USA",
          "Japan",
          "France",
          "USA",
          "France",
          "France",
          "UK",
          "UK",
          "USA",
          "France",
          "Singapore",
          "Japan",
          "Germany",
          "Singapore",
          "Germany",
          "USA",
          "Italy",
          "Australia",
          "Germany",
          "Germany",
          "France",
          "Germany",
          "Sweden",
          "USA",
          "Italy",
          "France",
          "Germany",
          "Japan",
          "USA",
          "Netherlands",
          "Finland",
          "UK",
          "Australia",
          "Sweden",
          "France",
          "Italy",
          "Germany",
          "France",
          "Japan",
          "Italy",
          "France",
          "Germany",
          "Spain",
          "Singapore",
          "UK",
          "Australia",
          "Australia",
          "Sweden",
          "Sweden",
          "USA",
          "Singapore",
          "France",
          "Germany",
          "USA",
          "Australia",
          "Japan",
          "UK",
          "UK",
          "Sweden",
          "Denmark",
          "France",
          "Norway",
          "USA",
          "Japan",
          "UK",
          "Germany",
          "Germany",
          "Norway",
          "Australia",
          "UK",
          "Germany",
          "Italy",
          "France",
          "UK",
          "Australia",
          "Canada",
          "Australia",
          "Japan",
          "Japan",
          "Australia",
          "Italy",
          "Italy",
          "USA",
          "UK",
          "Singapore",
          "UK",
          "Germany",
          "Germany",
          "USA",
          "Germany",
          "Australia",
          "Brazil",
          "Canada",
          "Germany",
          "Australia",
          "Finland",
          "Australia",
          "Australia",
          "UK",
          "Norway",
          "Canada",
          "Spain",
          "Australia",
          "UK",
          "France",
          "USA",
          "USA",
          "France",
          "France",
          "UK",
          "Brazil",
          "Germany",
          "Australia",
          "Germany",
          "USA",
          "Finland",
          "UK",
          "Spain",
          "Sweden",
          "UK",
          "USA",
          "Australia",
          "USA",
          "Australia",
          "Australia",
          "Canada",
          "Canada",
          "Germany",
          "USA",
          "UK",
          "Germany",
          "Japan",
          "UK",
          "Netherlands",
          "Finland",
          "Denmark",
          "Germany",
          "Australia",
          "Australia",
          "UK",
          "USA",
          "USA",
          "Finland",
          "Sweden",
          "Canada",
          "Australia",
          "Sweden",
          "Singapore",
          "Finland",
          "Canada",
          "Brazil",
          "UK",
          "Italy",
          "USA",
          "UK",
          "Brazil",
          "Australia",
          "Germany",
          "Japan",
          "Italy",
          "Germany",
          "Germany",
          "UK",
          "UK",
          "Spain",
          "France",
          "Australia",
          "USA",
          "USA",
          "Germany",
          "France",
          "USA",
          "Brazil",
          "Germany",
          "Germany",
          "Sweden",
          "Japan",
          "Norway",
          "Germany",
          "Brazil",
          "France",
          "USA",
          "France",
          "Denmark",
          "Italy",
          "Germany",
          "Germany",
          "Japan",
          "France",
          "Australia",
          "USA",
          "Norway",
          "Canada",
          "Canada",
          "Japan",
          "USA",
          "UK",
          "France",
          "Canada",
          "UK",
          "Canada",
          "Germany",
          "USA",
          "Australia",
          "USA",
          "Australia",
          "USA",
          "UK",
          "Finland",
          "Canada",
          "UK",
          "Australia",
          "USA",
          "Spain",
          "Germany",
          "USA",
          "Norway",
          "France",
          "Norway",
          "Australia",
          "Norway",
          "Canada",
          "Australia",
          "Italy",
          "Italy",
          "Germany",
          "France",
          "UK",
          "France",
          "Australia",
          "Germany",
          "USA",
          "Finland",
          "USA",
          "Australia",
          "Australia",
          "Brazil",
          "Singapore",
          "Singapore",
          "USA",
          "Japan",
          "Germany",
          "Germany",
          "Sweden",
          "Australia",
          "Spain",
          "Japan",
          "UK",
          "Italy",
          "UK",
          "Australia",
          "Finland",
          "Netherlands",
          "Finland",
          "UK",
          "Germany",
          "Germany",
          "UK",
          "Germany",
          "Canada",
          "France",
          "Japan",
          "Italy",
          "Australia",
          "Canada",
          "Italy",
          "Germany",
          "Australia",
          "Canada",
          "USA",
          "UK",
          "Australia",
          "Sweden",
          "Sweden",
          "Germany",
          "USA",
          "Japan",
          "Singapore",
          "France",
          "Norway",
          "UK",
          "USA",
          "USA",
          "Japan",
          "Italy",
          "Canada",
          "UK",
          "Italy",
          "Finland",
          "Japan",
          "Sweden",
          "Denmark",
          "Spain",
          "Singapore",
          "Italy",
          "Japan",
          "Italy",
          "Japan",
          "Brazil",
          "Germany",
          "France",
          "Finland",
          "Australia",
          "Canada",
          "USA",
          "Japan",
          "Australia",
          "Canada",
          "USA",
          "Norway",
          "USA",
          "Germany",
          "USA",
          "Germany",
          "UK",
          "Italy",
          "Australia",
          "Italy",
          "Denmark",
          "France",
          "Germany",
          "UK",
          "Netherlands",
          "Australia",
          "Germany",
          "USA",
          "Germany",
          "USA",
          "USA",
          "Italy",
          "Germany",
          "Brazil",
          "USA",
          "Australia",
          "Finland",
          "USA",
          "Japan",
          "Australia",
          "Norway",
          "Finland",
          "France",
          "Australia",
          "France",
          "Norway",
          "Australia",
          "Sweden",
          "Italy",
          "Canada",
          "UK",
          "Finland",
          "Spain",
          "Brazil",
          "Germany",
          "Denmark",
          "Australia",
          "Germany",
          "Australia",
          "Norway",
          "Germany",
          "USA",
          "Germany",
          "Australia",
          "USA",
          "Germany",
          "Germany",
          "France",
          "Netherlands",
          "Australia",
          "Australia",
          "USA",
          "UK",
          "USA",
          "Singapore",
          "USA",
          "Spain",
          "Brazil",
          "Germany",
          "Italy",
          "Australia",
          "Germany",
          "France",
          "USA",
          "Singapore",
          "Japan",
          "Italy",
          "Australia",
          "Brazil",
          "Sweden",
          "Australia",
          "Australia",
          "Italy",
          "Spain",
          "UK",
          "Finland",
          "Germany",
          "USA",
          "Singapore",
          "Italy",
          "USA",
          "Canada",
          "USA",
          "Spain",
          "USA",
          "UK",
          "USA",
          "Canada",
          "Canada",
          "UK",
          "Australia",
          "Finland",
          "Italy",
          "Germany",
          "USA",
          "France",
          "Australia",
          "France",
          "Singapore",
          "Italy",
          "Denmark",
          "Australia",
          "Brazil",
          "Canada",
          "Japan",
          "Germany",
          "USA",
          "Australia",
          "Germany",
          "USA",
          "Brazil",
          "Germany",
          "USA",
          "Sweden",
          "Denmark",
          "Canada",
          "Japan",
          "USA",
          "Singapore",
          "Canada",
          "UK",
          "USA",
          "Australia",
          "Germany",
          "Finland",
          "UK",
          "France",
          "UK",
          "Germany",
          "USA",
          "Germany",
          "Singapore",
          "Germany",
          "USA",
          "Norway",
          "Brazil",
          "Sweden",
          "France",
          "USA",
          "Brazil",
          "France",
          "Norway",
          "UK",
          "France",
          "Norway",
          "Sweden",
          "Singapore",
          "Denmark",
          "UK",
          "USA",
          "Germany",
          "Germany",
          "Italy",
          "Sweden",
          "UK",
          "France",
          "Australia",
          "Spain",
          "Australia",
          "Italy",
          "Denmark",
          "Finland",
          "Japan",
          "UK",
          "UK",
          "Germany",
          "Australia",
          "Italy",
          "UK",
          "Norway",
          "USA",
          "Singapore",
          "Germany",
          "Norway",
          "USA",
          "Norway",
          "UK",
          "Japan",
          "Australia",
          "Australia",
          "Brazil",
          "Canada",
          "Canada",
          "France",
          "Italy",
          "Australia",
          "UK",
          "USA",
          "Germany",
          "France",
          "UK",
          "Japan",
          "Brazil",
          "Germany",
          "Norway",
          "Sweden",
          "France",
          "France",
          "Australia",
          "Norway",
          "UK",
          "Singapore",
          "Canada",
          "UK",
          "USA",
          "Singapore",
          "Canada",
          "Japan",
          "France",
          "Australia",
          "USA",
          "Australia",
          "Norway",
          "Germany",
          "USA",
          "Finland",
          "Italy",
          "UK",
          "UK",
          "Australia",
          "Singapore",
          "Canada",
          "Spain",
          "Canada",
          "Norway",
          "Australia",
          "Spain",
          "Italy",
          "USA",
          "UK",
          "USA",
          "UK",
          "UK",
          "Spain",
          "Finland",
          "Brazil",
          "Singapore",
          "Canada",
          "Australia",
          "Italy",
          "Germany",
          "Norway",
          "USA",
          "Brazil",
          "Germany",
          "Australia",
          "Italy",
          "USA",
          "Canada",
          "France",
          "Australia",
          "UK",
          "France",
          "Canada",
          "Japan",
          "Australia",
          "France",
          "France",
          "Germany",
          "France",
          "Australia",
          "Australia",
          "USA",
          "USA",
          "USA",
          "Australia",
          "USA",
          "Australia",
          "Canada",
          "UK",
          "Germany",
          "Canada",
          "Australia",
          "UK",
          "USA",
          "USA",
          "Germany",
          "Singapore",
          "Germany",
          "France",
          "UK",
          "UK",
          "Australia",
          "Italy",
          "USA",
          "Japan",
          "UK",
          "USA",
          "Finland",
          "Germany",
          "Spain",
          "Brazil",
          "Australia",
          "UK",
          "Denmark",
          "Finland",
          "USA",
          "Japan",
          "UK",
          "UK",
          "UK",
          "USA",
          "USA",
          "USA",
          "USA",
          "Japan",
          "Spain",
          "Japan",
          "Japan",
          "Australia",
          "UK",
          "Sweden",
          "Italy",
          "France",
          "USA",
          "Denmark",
          "Australia",
          "Canada",
          "France",
          "Germany",
          "USA",
          "Sweden",
          "Germany",
          "Germany",
          "Germany"
         ],
         "marker": {
          "color": "#636efa",
          "size": [
           168,
           98,
           174,
           167.4,
           1696,
           77,
           1261.3999999999999,
           214.2,
           95.76,
           222.29999999999998,
           336,
           2462.4,
           47.5,
           1088,
           200,
           604.8000000000001,
           640,
           45.9,
           342.71999999999997,
           168,
           304,
           486.5,
           380,
           1320,
           393,
           124.80000000000001,
           877.5,
           86.4,
           156,
           608,
           884,
           122.88000000000002,
           80,
           20.8,
           92.4,
           780,
           443.25,
           189,
           160,
           288,
           163.20000000000002,
           360,
           60.8,
           625.5,
           100.8,
           931.5,
           216,
           532,
           163.625,
           936,
           240,
           346.55999999999995,
           735,
           2618,
           183.6,
           990,
           111.2,
           114,
           528.1999999999999,
           456,
           919.9999999999999,
           48,
           388.79999999999995,
           400,
           667.2,
           565.44,
           142.5,
           40,
           837.9,
           451.43999999999994,
           451.43999999999994,
           344,
           194.6,
           41.04,
           250.79999999999998,
           372,
           48,
           728,
           472.79999999999995,
           248,
           660,
           280.8,
           300,
           351,
           43.2,
           384,
           186,
           7.3,
           21.6,
           57.6,
           124.19999999999999,
           31.2,
           248,
           131.4,
           952,
           83.4,
           394.875,
           325.5,
           408,
           42,
           42,
           518.4,
           470.40000000000003,
           754.56,
           1440,
           1576,
           472.59999999999997,
           224,
           122.39999999999999,
           53.1,
           27,
           240,
           239.4,
           340,
           1485,
           240,
           104,
           86.4,
           334.8,
           76.32,
           1296,
           600,
           36,
           175.5,
           37.2,
           259.2,
           468,
           552,
           571.1999999999999,
           37.2,
           121.6,
           201.60000000000002,
           417,
           432,
           864,
           556,
           608,
           456,
           990,
           591,
           109.5,
           240,
           408,
           200,
           147,
           608,
           1248,
           1019.1999999999999,
           441.59999999999997,
           529.2,
           453.6,
           135,
           480,
           440,
           34.4,
           1125,
           1125,
           2227.5,
           388.8,
           207,
           262,
           29.5,
           394,
           30,
           28.8,
           60,
           352,
           600,
           22.4,
           736,
           51.599999999999994,
           139,
           197,
           67.19999999999999,
           201.6,
           145.6,
           883.1999999999999,
           524,
           62,
           182.39999999999998,
           921.6,
           286.2,
           886.5,
           156.79999999999998,
           360,
           77,
           2758,
           288,
           154,
           86.4,
           249.6,
           509.59999999999997,
           432,
           516,
           144,
           112,
           62,
           44.8,
           57.6,
           248.115,
           856.8,
           288,
           1496,
           2386.7999999999997,
           120,
           57.599999999999994,
           167.4,
           40,
           1112,
           422.40000000000003,
           249.6,
           310,
           304,
           672,
           579.6,
           254.4,
           396,
           672,
           100,
           69.35,
           157.32,
           4005.2,
           346.55999999999995,
           1058.25,
           590.75,
           88.5,
           1600,
           89.60000000000001,
           97.28,
           186,
           72,
           619.2,
           44.8,
           100,
           85.12,
           200,
           122.88000000000002,
           1628.1599999999999,
           285.12,
           288,
           597.5999999999999,
           304,
           582.4,
           695,
           624,
           310.5,
           176,
           2074.7999999999997,
           1103.2,
           950,
           87.78,
           1398.3999999999999,
           16,
           336.59999999999997,
           291.84,
           448,
           486.40000000000003,
           614.4000000000001,
           1330,
           38,
           216,
           616,
           1680,
           2240,
           584,
           100.8,
           1010.8800000000001,
           608,
           112,
           612,
           58.8,
           31.62,
           183.6,
           180,
           141.60000000000002,
           175.5,
           466.56,
           4005.2,
           100.10000000000001,
           1133.825,
           159.6,
           36,
           100.3,
           161.28000000000003,
           8432,
           172.8,
           396,
           90,
           390,
           300,
           230.39999999999998,
           576,
           595.2,
           398.4,
           174.08,
           34.199999999999996,
           106.39999999999999,
           288.8,
           739.4799999999999,
           665,
           2067.2,
           1092,
           3465,
           2108,
           560,
           165.20000000000002,
           699.84,
           1346.4,
           560,
           848,
           141.60000000000002,
           200,
           74.4,
           172.8,
           864,
           86,
           403.20000000000005,
           84,
           52,
           403.2,
           106.2,
           252,
           72.8,
           36,
           425.88,
           390,
           837.9,
           1980,
           410.4,
           183.6,
           798,
           136,
           72.96,
           583.1999999999999,
           6324,
           1428,
           875.7,
           678.4000000000001,
           688,
           300,
           159,
           279,
           59,
           399,
           618.8,
           244.79999999999998,
           103.19999999999999,
           55.440000000000005,
           505.44000000000005,
           302.40000000000003,
           335.34,
           471.6,
           146.88,
           360,
           112,
           544,
           450,
           1386,
           120,
           400,
           96,
           195,
           608,
           1814.3999999999999,
           408,
           192,
           435.20000000000005,
           64,
           54,
           112,
           54,
           218.39999999999998,
           528,
           258,
           91.2,
           89.60000000000001,
           1048,
           396.8,
           288,
           788,
           360,
           540,
           518.4,
           432,
           600.48,
           86.39999999999999,
           1440,
           285,
           585.9000000000001,
           58.8,
           1307.25,
           320,
           48,
           394,
           241.92000000000002,
           1650.6000000000001,
           230.4,
           288,
           1032,
           583.8000000000001,
           68,
           648.7199999999999,
           432,
           2073.6,
           600,
           516,
           504,
           145.6,
           2079,
           504,
           480,
           372.59999999999997,
           2128,
           336,
           1032,
           432,
           2281.5,
           248.115,
           606.9,
           709.65,
           425.59999999999997,
           456,
           400,
           144,
           216,
           1375.92,
           68.4,
           26.46,
           504,
           432,
           258,
           208,
           35.400000000000006,
           1379,
           223.20000000000002,
           96,
           98,
           704,
           154,
           496,
           316.8,
           334.8,
           345.6,
           1576,
           201.6,
           124.83,
           100,
           62.4,
           40,
           146,
           262,
           312,
           10540,
           14.399999999999999,
           270,
           364,
           912,
           418,
           364.8,
           120,
           1550.3999999999999,
           547.1999999999999,
           1396.8,
           8.64,
           86.4,
           216,
           24.82,
           747,
           334.05,
           88.39999999999999,
           49.8,
           140,
           880,
           691.2,
           8263.36,
           240,
           144,
           216,
           152,
           186.20000000000002,
           651,
           192,
           520,
           921.375,
           1123.2,
           400,
           912,
           2464,
           1170,
           551.25,
           171,
           249,
           236,
           851.1999999999999,
           100.80000000000001,
           220.32,
           152,
           201.60000000000002,
           278,
           48,
           1094.4,
           718.2,
           133.92000000000002,
           393,
           87.60000000000001,
           179.20000000000002,
           187.20000000000002,
           456,
           222.4,
           159.60000000000002,
           240,
           581.4,
           578.9350000000001,
           2019.6,
           1744.2,
           1755,
           504,
           472,
           816,
           80.64000000000001,
           436.79999999999995,
           312,
           373.5,
           115.2,
           231,
           86.4,
           88.5,
           78.84,
           64.8,
           27,
           75.60000000000001,
           292,
           588,
           34.4,
           149.39999999999998,
           294,
           347.2,
           112,
           1379,
           396.8,
           28.320000000000007,
           2073.6,
           837.9,
           423.36,
           514.8000000000001,
           546,
           1472.5,
           137.70000000000002,
           270,
           222.4,
           32,
           76.80000000000001,
           288,
           1310,
           570,
           516,
           272,
           285.59999999999997,
           1584,
           747,
           1092,
           736,
           456,
           860,
           364.79999999999995,
           182.39999999999998,
           1112,
           157.5,
           18.6,
           240,
           434.70000000000005,
           864,
           4.8,
           151.20000000000002,
           153.29999999999998,
           560,
           225.28000000000003,
           110.39999999999999,
           729.6,
           544,
           90,
           1603.8,
           294,
           205.20000000000002,
           325,
           168,
           48,
           100.8,
           134.39999999999998,
           165.6,
           552,
           516.8,
           413.525,
           26.349999999999998,
           1500,
           108,
           212.8,
           720,
           608,
           273.59999999999997,
           763.1999999999999,
           24,
           206.39999999999998,
           223.20000000000002,
           655.1999999999999,
           308.7,
           62,
           297.5,
           693.6,
           514.08,
           36.48,
           144,
           216,
           126,
           216,
           471.2,
           6324,
           733.6,
           2640,
           798,
           228,
           528,
           384,
           1088,
           147,
           372.4,
           296.4,
           112,
           147,
           127.19999999999999,
           273.6,
           144,
           518.4,
           648,
           84,
           1060,
           128,
           36.5,
           747,
           106.20000000000002,
           1320,
           192,
           189,
           250.20000000000002,
           2640,
           300,
           223.20000000000002,
           197.625,
           61.879999999999995,
           638.4,
           212.79999999999998,
           226.8,
           122.4,
           259.2,
           912,
           72,
           154,
           52,
           190,
           425.59999999999997,
           695,
           260,
           63,
           92,
           420,
           912,
           500,
           176.7,
           346.56,
           149,
           199.5,
           196.79999999999998,
           420,
           1627.5,
           421,
           228,
           120,
           328,
           712.5,
           147.89999999999998,
           226.8,
           189,
           586.5,
           162.5625,
           60,
           180,
           136.8,
           4456.4400000000005,
           251.1,
           935,
           1275,
           340,
           38.25,
           91.8,
           48.449999999999996,
           346.8,
           320,
           1280,
           342,
           3159,
           1596,
           2660,
           820.95,
           387.5,
           1319.2,
           872.5,
           5268,
           34,
           2427.6,
           1406.25,
           694.8000000000001,
           280,
           42,
           220,
           90,
           22.5,
           3952.5,
           175.04999999999998,
           471.2,
           1520,
           323,
           36,
           164,
           54,
           96.5,
           75,
           576,
           960,
           414.24,
           368,
           877.5,
           1093.5,
           421.2,
           52.11000000000001,
           62,
           258.9,
           2760,
           111.75,
           570,
           248.4,
           122.39999999999999,
           60,
           969,
           990,
           513,
           63,
           16,
           313.2,
           336,
           250,
           360,
           1560,
           1150,
           570,
           900,
           110,
           388.35,
           408,
           1045,
           835.1999999999999,
           342,
           258.9,
           147.20000000000002,
           59.6,
           945,
           165.6,
           87.75,
           742.5,
           427.5,
           250,
           75,
           892.5,
           375,
           318,
           265,
           730.8,
           135,
           105,
           34.8,
           48,
           150,
           37.5,
           120,
           600,
           1249.2,
           7905,
           437.5,
           141.75,
           948.6,
           682.0200000000001,
           174.15,
           299.25,
           169.86,
           969,
           535.5,
           319.2,
           98,
           210,
           300,
           540,
           1972,
           652.8,
           1140,
           105,
           135.1,
           584.375,
           807.5,
           2162.4,
           280.8,
           92,
           54,
           256.5,
           593.3,
           306,
           778,
           648,
           232.5,
           315,
           244.29999999999998,
           504,
           375,
           108,
           497.325,
           171,
           936.6999999999999,
           123.5,
           558,
           257.6,
           64.8,
           848,
           1216,
           835.1999999999999,
           997.5,
           155,
           237.5,
           1060,
           210,
           590.4,
           45,
           110.01,
           410.4,
           517.8,
           554.625,
           194.5,
           2650,
           45,
           443.7,
           475,
           490,
           592.8,
           71.25,
           570,
           101.25,
           538.65,
           624.75,
           956.25,
           180,
           600,
           159,
           1760,
           155,
           350,
           540,
           299.25,
           2166,
           217.3875,
           333.2,
           188.45999999999998,
           288,
           919.9999999999999,
           104.625,
           702,
           560,
           819.9999999999999,
           35,
           36.8,
           493,
           199.5,
           660,
           263.4,
           1044,
           180,
           180,
           250,
           408.45,
           180,
           155,
           234,
           360,
           117,
           155,
           162.75,
           331.3125,
           82.50750000000001,
           599.925,
           310,
           78,
           252,
           1237.9,
           693.6,
           306,
           593.75,
           142.5,
           23.8,
           187.38,
           360,
           260,
           2000,
           1120,
           72,
           360,
           741,
           140,
           300,
           372.5,
           368.125,
           148.3425,
           1360.8000000000002,
           576,
           57.6,
           168,
           397.5,
           405,
           2565,
           1755,
           152,
           842.88,
           186,
           126,
           390,
           202.08000000000004,
           2195,
           193.5,
           493,
           29.8,
           450,
           360,
           1925,
           48.75,
           1008,
           475,
           68.85000000000001,
           162,
           497.325,
           1045,
           2261,
           306.375,
           352,
           384,
           394.40000000000003,
           1350,
           3900,
           35,
           772.8,
           417.59999999999997,
           1064,
           54,
           310,
           60,
           299.25,
           108,
           190,
           510,
           2170,
           1045,
           360,
           1360,
           1440,
           43.2,
           310,
           294,
           80,
           90,
           120,
           3754.875,
           532,
           213.75,
           306.375,
           1402.5,
           1750,
           760,
           187.5,
           420,
           840,
           22.5,
           35,
           46,
           90,
           300,
           322.5,
           380,
           180,
           488.25,
           124.2,
           225,
           13.5,
           486,
           456,
           742.74,
           194.5,
           69.75,
           70,
           340,
           393.59999999999997,
           680,
           430,
           739.5,
           446.25,
           450,
           2475.8,
           299.25,
           273.59999999999997,
           630,
           55.800000000000004,
           541.5,
           47.5,
           1162.8,
           66.3,
           929.0925,
           3352.4,
           1050,
           3125,
           795,
           15.5,
           198,
           288.225,
           840,
           550,
           79.5,
           210,
           385.9375,
           2166,
           190,
           442.05,
           2088,
           500,
           540,
           168.75,
           950,
           1104,
           240,
           456,
           513,
           283.5,
           18,
           225,
           920,
           226.8,
           1250,
           285,
           202.5,
           418.5,
           483.75,
           341.25,
           276,
           360,
           315,
           57.375,
           912,
           522,
           776.7,
           778.9999999999999,
           223.5,
           82.8,
           315,
           38.835,
           280,
           471.15000000000003,
           612,
           237.6,
           324,
           40.230000000000004,
           154.4,
           62.775,
           490.14000000000004,
           51.300000000000004,
           775,
           231.60000000000002,
           540,
           95,
           1710,
           1020,
           600,
           1223.6,
           1776.5,
           864.5,
           237.5,
           419.5199999999999,
           570,
           1701,
           43.2,
           519.4,
           125,
           524.4,
           399,
           1007,
           632.4,
           387.59999999999997,
           268.3875,
           1060,
           55,
           180,
           4456.4400000000005,
           210.5,
           1296,
           240.8,
           90,
           86.4,
           448.875,
           570,
           288,
           720,
           350,
           750,
           193.75,
           174.5,
           493,
           252.60000000000002,
           3557.25,
           258,
           52.349999999999994,
           84,
           276,
           45,
           697.5,
           328,
           397.5,
           62,
           64.39999999999999,
           408.45,
           796.365,
           17,
           3800,
           75,
           1158,
           223.5,
           660,
           654.375,
           187.5,
           420,
           248.4,
           108,
           931,
           75,
           68,
           232.5,
           63,
           368,
           380,
           1020,
           620,
           38.6,
           142.5,
           936,
           468.45,
           3637.5,
           1237.9,
           85.5,
           502.2,
           2462.4,
           196,
           472.5,
           570,
           292.5,
           540,
           4951.6,
           1840,
           466.79999999999995,
           2366.3999999999996,
           878,
           582,
           379.95,
           918,
           191.25,
           2700,
           1375,
           750,
           400,
           152,
           90,
           780,
           216,
           48.3,
           121.5,
           298.125,
           337.5,
           315,
           296.4,
           1411.206,
           1299.8374999999999,
           114,
           114,
           72,
           134.4,
           400,
           1032,
           1963.5,
           365.5,
           535.5,
           60,
           270,
           95,
           1925,
           525,
           132,
           157.5,
           306,
           250,
           128,
           349,
           1104,
           440,
           504,
           780,
           357,
           85.4,
           95,
           1600,
           1484,
           340,
           46,
           47.5,
           110.39999999999999,
           405.3,
           3935.9999999999995,
           93.47999999999999,
           1140,
           558,
           936.9,
           1045,
           288,
           427.5,
           789.75,
           356.25,
           513,
           119.25,
           651,
           645,
           50,
           371,
           285,
           304,
           111.75,
           855,
           1368,
           349,
           760,
           986,
           562.5,
           58.2525,
           223.5,
           378,
           172,
           923.875,
           57,
           625,
           562.5,
           325.5,
           468.45,
           496,
           142.5,
           115.80000000000001,
           28,
           144,
           550,
           105,
           741,
           361,
           522.5,
           388.35,
           110.39999999999999,
           288,
           510,
           900,
           300,
           650,
           248.6625,
           35.625,
           199.975,
           380,
           1510.5,
           360,
           372,
           912,
           175,
           750,
           388.35,
           360,
           513,
           23.400000000000002,
           842,
           155,
           24,
           115.80000000000001,
           52.349999999999994,
           114,
           126,
           182.4,
           504,
           304,
           425.6,
           228,
           200,
           1700,
           1218,
           319.2,
           736,
           1500,
           311.2,
           2475,
           243.59999999999997,
           36,
           392,
           443.7,
           1440,
           100,
           337.75,
           395.09999999999997,
           1080,
           396,
           736,
           1064,
           570,
           330,
           180,
           98.8125,
           323,
           1168.75,
           337.284,
           776.7,
           292.5,
           225,
           144,
           108,
           38,
           50,
           55.199999999999996,
           213.75,
           855,
           204.75,
           675,
           1050,
           304,
           60,
           576,
           420,
           385,
           1479,
           798,
           624.6,
           420,
           600,
           320,
           126,
           1756,
           1035,
           367.5,
           139.5,
           288,
           285,
           1484,
           2280,
           400,
           126,
           90,
           180,
           2106,
           1515.6000000000001,
           760,
           1050,
           500,
           28,
           84,
           625,
           510,
           258,
           275.025,
           99.75,
           570,
           739.5,
           236.25,
           344,
           2228.2200000000003,
           1375,
           1287,
           700,
           43.400000000000006,
           18.75,
           850,
           186,
           42,
           190,
           159.6,
           243.67499999999998,
           6042,
           224,
           96.5,
           349,
           986,
           525,
           195,
           17.880000000000003,
           608,
           350,
           12.5,
           125,
           1317.5,
           570,
           30.599999999999998,
           887.4,
           310,
           77.5,
           960,
           310.68000000000006,
           260.40000000000003,
           270.75,
           2352.01,
           436.99999999999994,
           294.5,
           1875,
           270,
           1317,
           225,
           76.5,
           646,
           1646.4070000000002,
           183.35,
           190,
           22.35,
           187.5,
           135.1,
           56,
           279,
           35.760000000000005,
           1134.25,
           1023.75,
           524.6640000000001,
           194.5,
           931,
           691.2,
           420,
           98.6,
           348,
           102,
           76.5,
           1375,
           945,
           477,
           46.935,
           1170,
           1856.8500000000001,
           485.4375,
           1192.5,
           1080,
           184.875,
           209.75999999999996,
           199.5,
           783.75,
           1116,
           1094.4,
           68,
           140,
           2635,
           285,
           42.1,
           112.5,
           18.4,
           646,
           765,
           140,
           42,
           70,
           75,
           138,
           162,
           552,
           180,
           1252.8,
           260,
           182.4,
           420,
           193,
           782,
           86.7,
           726.75,
           40,
           7509.75,
           936.6999999999999,
           1061.82,
           7905,
           938.4,
           1047.625,
           640,
           193,
           322,
           155,
           1140,
           360,
           318,
           147.89999999999998,
           90,
           378,
           292.5,
           1980,
           175.5,
           115.80000000000001,
           135,
           374.76,
           656,
           437.5,
           292.5,
           465,
           378,
           405,
           527,
           190,
           800,
           60,
           714,
           150,
           504,
           1020,
           300,
           18.4,
           144,
           2108,
           414,
           14.4,
           112,
           248.96,
           99.75,
           540,
           101.25,
           265.68,
           940.804,
           491.9099999999999,
           825,
           20.8,
           1092,
           108,
           468,
           2040,
           997.5,
           36,
           459.99999999999994,
           285,
           283.5,
           54,
           1171.875,
           712.5,
           357.75,
           469.8,
           67.2,
           144,
           496,
           1140,
           2750,
           195,
           315,
           230,
           250,
           180,
           159,
           735,
           567,
           405,
           529.2,
           715.5,
           1596,
           462,
           450,
           200,
           1152,
           88.32,
           1248,
           273.6,
           1224,
           946,
           640.5,
           291,
           490,
           477.81899999999996,
           238,
           8.5,
           382.5,
           90.25,
           133,
           185.25,
           2194.5,
           285,
           234,
           2465,
           625,
           2635,
           331.5,
           872.5,
           175,
           912,
           268.3875,
           380,
           280,
           300,
           819.7874999999999,
           928.4250000000001,
           150,
           439,
           60,
           135,
           195.5625,
           748.125,
           159,
           360,
           1638,
           1250,
           400,
           87.5,
           147.89999999999998,
           525,
           56,
           306,
           135.15,
           72,
           210,
           15019.5,
           1368,
           299.25,
           20.25,
           776.6999999999999,
           98.39999999999999,
           624.6,
           540,
           756,
           720,
           210,
           450,
           250,
           54,
           106,
           1187.5,
           198.92999999999998,
           592.8,
           228,
           936.6999999999999,
           473.8125,
           419.9475,
           200,
           136.8,
           310,
           229.99999999999997,
           179.55,
           300,
           252,
           665,
           392.625,
           1562.5,
           1539,
           220.79999999999998,
           210.5,
           180,
           216,
           684,
           600,
           150,
           350,
           340,
           202.64,
           36,
           380,
           758.0999999999999,
           239.97,
           380,
           54,
           450,
           325,
           2170,
           437.5,
           520,
           70,
           380,
           225,
           840,
           10540,
           585,
           140,
           135.1,
           368.9325,
           2090,
           1200,
           45,
           2970.96,
           906.15,
           380,
           159.6,
           1710,
           883.5,
           495,
           810,
           1674.3999999999999,
           3400,
           142.5,
           608,
           9903.2,
           932.04,
           30,
           122.39999999999999,
           33.75,
           289.5,
           645,
           612,
           251.42999999999995,
           240,
           442.05,
           250,
           198.75,
           1725.5,
           342,
           427.5,
           108.5,
           570,
           93.1,
           360,
           261.75,
           48.25,
           110.39999999999999,
           200,
           142.5,
           180,
           468,
           210,
           630,
           5570.55,
           495,
           75,
           198.75,
           537.5,
           390,
           75,
           74.5,
           104.69999999999999,
           192,
           390,
           25.89,
           340,
           810,
           637.5,
           418.79999999999995,
           336,
           368,
           390,
           180,
           1756,
           585,
           157.5,
           112,
           368,
           268.8,
           558,
           1231.2,
           46.5,
           403.75,
           71.39999999999999,
           42,
           60,
           64.39999999999999,
           348,
           405,
           35,
           360,
           47.5,
           90,
           600,
           379.75,
           195,
           360,
           1097.5,
           480,
           318,
           214.2,
           585,
           471.15000000000003,
           621.18,
           556.8,
           139.5,
           65.6,
           855,
           500,
           378,
           187.5,
           54,
           456,
           364.8,
           280,
           90,
           828,
           1249.5,
           564.375,
           161.5,
           476,
           240,
           120,
           412.5,
           1109.25,
           750,
           1739.9999999999998,
           560,
           90,
           441,
           180,
           78.75,
           262.575,
           684,
           120,
           125,
           775,
           112.5,
           520,
           220,
           146.25,
           2120,
           96,
           300,
           930,
           234,
           2958,
           110,
           35.625,
           55.005,
           368.125,
           380,
           91.2,
           3847.5,
           593.75,
           415.30999999999995,
           265.625,
           285,
           693.6,
           74.4,
           120,
           133,
           424,
           776.7,
           720,
           266,
           427,
           180,
           174,
           131.75,
           33.75,
           231.60000000000002,
           39.9,
           1080,
           1350,
           462,
           656,
           324,
           792,
           57.8,
           375,
           1317.5,
           360,
           848,
           208,
           387.59999999999997,
           502.8599999999999,
           110.39999999999999,
           800,
           1140,
           135,
           133,
           108,
           224,
           1733.0600000000002,
           234,
           17.5,
           156.15,
           57.900000000000006,
           77.5,
           439,
           640,
           77.5,
           912,
           540,
           285,
           530,
           878,
           680,
           340,
           184,
           99.195,
           540,
           760,
           360,
           1317,
           300,
           1536.5,
           248,
           15810,
           600,
           414,
           428.4,
           292.5,
           959.75,
           90,
           760,
           565.38,
           450,
           1008,
           630,
           1215,
           180,
           195,
           1800,
           276,
           696,
           1800,
           1774.8,
           1000,
           315,
           38.6,
           650,
           714,
           1326,
           1598.85,
           760,
           240,
           1296,
           69.6,
           4642.125,
           253.3125,
           940.5,
           1060,
           136,
           560,
           1600,
           180,
           105,
           54,
           199.5,
           200,
           232.5,
           183.35,
           755.25,
           259.34999999999997,
           412.5,
           101.25,
           390,
           1800,
           525,
           300,
           144,
           336,
           229.5,
           285.59999999999997,
           960,
           72,
           184,
           70,
           187.38,
           108,
           36,
           550,
           144,
           185.685,
           1200,
           1237.9,
           196,
           3032.3999999999996,
           1197,
           451.5,
           54,
           256.5,
           306,
           600,
           45,
           503.5,
           430,
           436.99999999999994,
           1162.8,
           1225.5,
           90,
           56,
           190,
           25,
           243.18,
           388.35,
           234,
           187.5,
           304,
           250,
           6050,
           450,
           760,
           625,
           190,
           36,
           40,
           632.4,
           156.75,
           1215,
           1967.49,
           1749,
           1218,
           322,
           1080,
           120,
           1380,
           374.76,
           75,
           442.05,
           1075,
           162,
           108,
           500,
           530,
           101.25,
           776.4749999999999,
           840,
           1320,
           760,
           526.8,
           1425,
           1494.5,
           5570.55,
           4125,
           810,
           480,
           94.5,
           665,
           344,
           665,
           6587.5,
           1650,
           2066.4,
           1166.4,
           135,
           233.39999999999998,
           171,
           180,
           1080,
           420,
           74.5,
           42,
           1650,
           60,
           73.60000000000001,
           14,
           645,
           912,
           432,
           1200,
           546,
           200,
           456,
           1317,
           291.75,
           114,
           210,
           591.5999999999999,
           37.5,
           1272,
           722,
           456,
           307.8,
           337.5,
           480.375,
           525,
           152,
           121.60000000000001,
           810,
           36,
           1104,
           228,
           1750,
           640,
           665,
           25,
           280,
           67.5,
           210,
           1060,
           390,
           1200,
           840,
           1700,
           45,
           30,
           714,
           114,
           180,
           468,
           1190,
           136,
           130,
           510,
           262.40000000000003,
           144,
           420,
           662.4,
           260.55,
           2702.7000000000003,
           115.80000000000001,
           737.9999999999999,
           86.4,
           687.5,
           77.67,
           111.75,
           52.349999999999994,
           386.4,
           490,
           86.85000000000001,
           310.08,
           1407.6,
           309.4,
           360,
           612,
           323,
           444.97499999999997,
           250,
           427.5,
           57,
           152,
           386,
           357.5,
           4322.5,
           210,
           90,
           232.08499999999998,
           161.5,
           306,
           30.599999999999998,
           375,
           348.75,
           69,
           364.8,
           40,
           22,
           24.5,
           28.5,
           72,
           31,
           72.2,
           24,
           22.5525,
           33.852999999999994,
           77.75999999999999,
           18,
           32,
           34.199999999999996,
           28.950000000000003,
           35.28,
           14,
           48,
           63.919999999999995,
           64.505,
           17,
           29.7,
           31,
           26,
           26
          ],
          "sizemode": "area",
          "sizeref": 39.525,
          "symbol": "circle"
         },
         "mode": "markers",
         "name": "",
         "showlegend": false,
         "type": "scattergeo"
        }
       ],
       "layout": {
        "geo": {
         "center": {},
         "domain": {
          "x": [
           0,
           1
          ],
          "y": [
           0,
           1
          ]
         }
        },
        "legend": {
         "itemsizing": "constant",
         "tracegroupgap": 0
        },
        "template": {
         "data": {
          "bar": [
           {
            "error_x": {
             "color": "#2a3f5f"
            },
            "error_y": {
             "color": "#2a3f5f"
            },
            "marker": {
             "line": {
              "color": "#E5ECF6",
              "width": 0.5
             },
             "pattern": {
              "fillmode": "overlay",
              "size": 10,
              "solidity": 0.2
             }
            },
            "type": "bar"
           }
          ],
          "barpolar": [
           {
            "marker": {
             "line": {
              "color": "#E5ECF6",
              "width": 0.5
             },
             "pattern": {
              "fillmode": "overlay",
              "size": 10,
              "solidity": 0.2
             }
            },
            "type": "barpolar"
           }
          ],
          "carpet": [
           {
            "aaxis": {
             "endlinecolor": "#2a3f5f",
             "gridcolor": "white",
             "linecolor": "white",
             "minorgridcolor": "white",
             "startlinecolor": "#2a3f5f"
            },
            "baxis": {
             "endlinecolor": "#2a3f5f",
             "gridcolor": "white",
             "linecolor": "white",
             "minorgridcolor": "white",
             "startlinecolor": "#2a3f5f"
            },
            "type": "carpet"
           }
          ],
          "choropleth": [
           {
            "colorbar": {
             "outlinewidth": 0,
             "ticks": ""
            },
            "type": "choropleth"
           }
          ],
          "contour": [
           {
            "colorbar": {
             "outlinewidth": 0,
             "ticks": ""
            },
            "colorscale": [
             [
              0,
              "#0d0887"
             ],
             [
              0.1111111111111111,
              "#46039f"
             ],
             [
              0.2222222222222222,
              "#7201a8"
             ],
             [
              0.3333333333333333,
              "#9c179e"
             ],
             [
              0.4444444444444444,
              "#bd3786"
             ],
             [
              0.5555555555555556,
              "#d8576b"
             ],
             [
              0.6666666666666666,
              "#ed7953"
             ],
             [
              0.7777777777777778,
              "#fb9f3a"
             ],
             [
              0.8888888888888888,
              "#fdca26"
             ],
             [
              1,
              "#f0f921"
             ]
            ],
            "type": "contour"
           }
          ],
          "contourcarpet": [
           {
            "colorbar": {
             "outlinewidth": 0,
             "ticks": ""
            },
            "type": "contourcarpet"
           }
          ],
          "heatmap": [
           {
            "colorbar": {
             "outlinewidth": 0,
             "ticks": ""
            },
            "colorscale": [
             [
              0,
              "#0d0887"
             ],
             [
              0.1111111111111111,
              "#46039f"
             ],
             [
              0.2222222222222222,
              "#7201a8"
             ],
             [
              0.3333333333333333,
              "#9c179e"
             ],
             [
              0.4444444444444444,
              "#bd3786"
             ],
             [
              0.5555555555555556,
              "#d8576b"
             ],
             [
              0.6666666666666666,
              "#ed7953"
             ],
             [
              0.7777777777777778,
              "#fb9f3a"
             ],
             [
              0.8888888888888888,
              "#fdca26"
             ],
             [
              1,
              "#f0f921"
             ]
            ],
            "type": "heatmap"
           }
          ],
          "heatmapgl": [
           {
            "colorbar": {
             "outlinewidth": 0,
             "ticks": ""
            },
            "colorscale": [
             [
              0,
              "#0d0887"
             ],
             [
              0.1111111111111111,
              "#46039f"
             ],
             [
              0.2222222222222222,
              "#7201a8"
             ],
             [
              0.3333333333333333,
              "#9c179e"
             ],
             [
              0.4444444444444444,
              "#bd3786"
             ],
             [
              0.5555555555555556,
              "#d8576b"
             ],
             [
              0.6666666666666666,
              "#ed7953"
             ],
             [
              0.7777777777777778,
              "#fb9f3a"
             ],
             [
              0.8888888888888888,
              "#fdca26"
             ],
             [
              1,
              "#f0f921"
             ]
            ],
            "type": "heatmapgl"
           }
          ],
          "histogram": [
           {
            "marker": {
             "pattern": {
              "fillmode": "overlay",
              "size": 10,
              "solidity": 0.2
             }
            },
            "type": "histogram"
           }
          ],
          "histogram2d": [
           {
            "colorbar": {
             "outlinewidth": 0,
             "ticks": ""
            },
            "colorscale": [
             [
              0,
              "#0d0887"
             ],
             [
              0.1111111111111111,
              "#46039f"
             ],
             [
              0.2222222222222222,
              "#7201a8"
             ],
             [
              0.3333333333333333,
              "#9c179e"
             ],
             [
              0.4444444444444444,
              "#bd3786"
             ],
             [
              0.5555555555555556,
              "#d8576b"
             ],
             [
              0.6666666666666666,
              "#ed7953"
             ],
             [
              0.7777777777777778,
              "#fb9f3a"
             ],
             [
              0.8888888888888888,
              "#fdca26"
             ],
             [
              1,
              "#f0f921"
             ]
            ],
            "type": "histogram2d"
           }
          ],
          "histogram2dcontour": [
           {
            "colorbar": {
             "outlinewidth": 0,
             "ticks": ""
            },
            "colorscale": [
             [
              0,
              "#0d0887"
             ],
             [
              0.1111111111111111,
              "#46039f"
             ],
             [
              0.2222222222222222,
              "#7201a8"
             ],
             [
              0.3333333333333333,
              "#9c179e"
             ],
             [
              0.4444444444444444,
              "#bd3786"
             ],
             [
              0.5555555555555556,
              "#d8576b"
             ],
             [
              0.6666666666666666,
              "#ed7953"
             ],
             [
              0.7777777777777778,
              "#fb9f3a"
             ],
             [
              0.8888888888888888,
              "#fdca26"
             ],
             [
              1,
              "#f0f921"
             ]
            ],
            "type": "histogram2dcontour"
           }
          ],
          "mesh3d": [
           {
            "colorbar": {
             "outlinewidth": 0,
             "ticks": ""
            },
            "type": "mesh3d"
           }
          ],
          "parcoords": [
           {
            "line": {
             "colorbar": {
              "outlinewidth": 0,
              "ticks": ""
             }
            },
            "type": "parcoords"
           }
          ],
          "pie": [
           {
            "automargin": true,
            "type": "pie"
           }
          ],
          "scatter": [
           {
            "fillpattern": {
             "fillmode": "overlay",
             "size": 10,
             "solidity": 0.2
            },
            "type": "scatter"
           }
          ],
          "scatter3d": [
           {
            "line": {
             "colorbar": {
              "outlinewidth": 0,
              "ticks": ""
             }
            },
            "marker": {
             "colorbar": {
              "outlinewidth": 0,
              "ticks": ""
             }
            },
            "type": "scatter3d"
           }
          ],
          "scattercarpet": [
           {
            "marker": {
             "colorbar": {
              "outlinewidth": 0,
              "ticks": ""
             }
            },
            "type": "scattercarpet"
           }
          ],
          "scattergeo": [
           {
            "marker": {
             "colorbar": {
              "outlinewidth": 0,
              "ticks": ""
             }
            },
            "type": "scattergeo"
           }
          ],
          "scattergl": [
           {
            "marker": {
             "colorbar": {
              "outlinewidth": 0,
              "ticks": ""
             }
            },
            "type": "scattergl"
           }
          ],
          "scattermapbox": [
           {
            "marker": {
             "colorbar": {
              "outlinewidth": 0,
              "ticks": ""
             }
            },
            "type": "scattermapbox"
           }
          ],
          "scatterpolar": [
           {
            "marker": {
             "colorbar": {
              "outlinewidth": 0,
              "ticks": ""
             }
            },
            "type": "scatterpolar"
           }
          ],
          "scatterpolargl": [
           {
            "marker": {
             "colorbar": {
              "outlinewidth": 0,
              "ticks": ""
             }
            },
            "type": "scatterpolargl"
           }
          ],
          "scatterternary": [
           {
            "marker": {
             "colorbar": {
              "outlinewidth": 0,
              "ticks": ""
             }
            },
            "type": "scatterternary"
           }
          ],
          "surface": [
           {
            "colorbar": {
             "outlinewidth": 0,
             "ticks": ""
            },
            "colorscale": [
             [
              0,
              "#0d0887"
             ],
             [
              0.1111111111111111,
              "#46039f"
             ],
             [
              0.2222222222222222,
              "#7201a8"
             ],
             [
              0.3333333333333333,
              "#9c179e"
             ],
             [
              0.4444444444444444,
              "#bd3786"
             ],
             [
              0.5555555555555556,
              "#d8576b"
             ],
             [
              0.6666666666666666,
              "#ed7953"
             ],
             [
              0.7777777777777778,
              "#fb9f3a"
             ],
             [
              0.8888888888888888,
              "#fdca26"
             ],
             [
              1,
              "#f0f921"
             ]
            ],
            "type": "surface"
           }
          ],
          "table": [
           {
            "cells": {
             "fill": {
              "color": "#EBF0F8"
             },
             "line": {
              "color": "white"
             }
            },
            "header": {
             "fill": {
              "color": "#C8D4E3"
             },
             "line": {
              "color": "white"
             }
            },
            "type": "table"
           }
          ]
         },
         "layout": {
          "annotationdefaults": {
           "arrowcolor": "#2a3f5f",
           "arrowhead": 0,
           "arrowwidth": 1
          },
          "autotypenumbers": "strict",
          "coloraxis": {
           "colorbar": {
            "outlinewidth": 0,
            "ticks": ""
           }
          },
          "colorscale": {
           "diverging": [
            [
             0,
             "#8e0152"
            ],
            [
             0.1,
             "#c51b7d"
            ],
            [
             0.2,
             "#de77ae"
            ],
            [
             0.3,
             "#f1b6da"
            ],
            [
             0.4,
             "#fde0ef"
            ],
            [
             0.5,
             "#f7f7f7"
            ],
            [
             0.6,
             "#e6f5d0"
            ],
            [
             0.7,
             "#b8e186"
            ],
            [
             0.8,
             "#7fbc41"
            ],
            [
             0.9,
             "#4d9221"
            ],
            [
             1,
             "#276419"
            ]
           ],
           "sequential": [
            [
             0,
             "#0d0887"
            ],
            [
             0.1111111111111111,
             "#46039f"
            ],
            [
             0.2222222222222222,
             "#7201a8"
            ],
            [
             0.3333333333333333,
             "#9c179e"
            ],
            [
             0.4444444444444444,
             "#bd3786"
            ],
            [
             0.5555555555555556,
             "#d8576b"
            ],
            [
             0.6666666666666666,
             "#ed7953"
            ],
            [
             0.7777777777777778,
             "#fb9f3a"
            ],
            [
             0.8888888888888888,
             "#fdca26"
            ],
            [
             1,
             "#f0f921"
            ]
           ],
           "sequentialminus": [
            [
             0,
             "#0d0887"
            ],
            [
             0.1111111111111111,
             "#46039f"
            ],
            [
             0.2222222222222222,
             "#7201a8"
            ],
            [
             0.3333333333333333,
             "#9c179e"
            ],
            [
             0.4444444444444444,
             "#bd3786"
            ],
            [
             0.5555555555555556,
             "#d8576b"
            ],
            [
             0.6666666666666666,
             "#ed7953"
            ],
            [
             0.7777777777777778,
             "#fb9f3a"
            ],
            [
             0.8888888888888888,
             "#fdca26"
            ],
            [
             1,
             "#f0f921"
            ]
           ]
          },
          "colorway": [
           "#636efa",
           "#EF553B",
           "#00cc96",
           "#ab63fa",
           "#FFA15A",
           "#19d3f3",
           "#FF6692",
           "#B6E880",
           "#FF97FF",
           "#FECB52"
          ],
          "font": {
           "color": "#2a3f5f"
          },
          "geo": {
           "bgcolor": "white",
           "lakecolor": "white",
           "landcolor": "#E5ECF6",
           "showlakes": true,
           "showland": true,
           "subunitcolor": "white"
          },
          "hoverlabel": {
           "align": "left"
          },
          "hovermode": "closest",
          "mapbox": {
           "style": "light"
          },
          "paper_bgcolor": "white",
          "plot_bgcolor": "#E5ECF6",
          "polar": {
           "angularaxis": {
            "gridcolor": "white",
            "linecolor": "white",
            "ticks": ""
           },
           "bgcolor": "#E5ECF6",
           "radialaxis": {
            "gridcolor": "white",
            "linecolor": "white",
            "ticks": ""
           }
          },
          "scene": {
           "xaxis": {
            "backgroundcolor": "#E5ECF6",
            "gridcolor": "white",
            "gridwidth": 2,
            "linecolor": "white",
            "showbackground": true,
            "ticks": "",
            "zerolinecolor": "white"
           },
           "yaxis": {
            "backgroundcolor": "#E5ECF6",
            "gridcolor": "white",
            "gridwidth": 2,
            "linecolor": "white",
            "showbackground": true,
            "ticks": "",
            "zerolinecolor": "white"
           },
           "zaxis": {
            "backgroundcolor": "#E5ECF6",
            "gridcolor": "white",
            "gridwidth": 2,
            "linecolor": "white",
            "showbackground": true,
            "ticks": "",
            "zerolinecolor": "white"
           }
          },
          "shapedefaults": {
           "line": {
            "color": "#2a3f5f"
           }
          },
          "ternary": {
           "aaxis": {
            "gridcolor": "white",
            "linecolor": "white",
            "ticks": ""
           },
           "baxis": {
            "gridcolor": "white",
            "linecolor": "white",
            "ticks": ""
           },
           "bgcolor": "#E5ECF6",
           "caxis": {
            "gridcolor": "white",
            "linecolor": "white",
            "ticks": ""
           }
          },
          "title": {
           "x": 0.05
          },
          "xaxis": {
           "automargin": true,
           "gridcolor": "white",
           "linecolor": "white",
           "ticks": "",
           "title": {
            "standoff": 15
           },
           "zerolinecolor": "white",
           "zerolinewidth": 2
          },
          "yaxis": {
           "automargin": true,
           "gridcolor": "white",
           "linecolor": "white",
           "ticks": "",
           "title": {
            "standoff": 15
           },
           "zerolinecolor": "white",
           "zerolinewidth": 2
          }
         }
        },
        "title": {
         "text": "Mapa de Vendas por Região"
        }
       }
      }
     },
     "metadata": {},
     "output_type": "display_data"
    },
    {
     "data": {
      "application/vnd.plotly.v1+json": {
       "config": {
        "plotlyServerURL": "https://plot.ly"
       },
       "data": [
        {
         "domain": {
          "x": [
           0,
           1
          ],
          "y": [
           0,
           1
          ]
         },
         "hovertemplate": "company_name=%{label}<br>total_sales=%{value}<extra></extra>",
         "labels": [
          "Aux joyeux ecclésiastiques",
          "Bigfoot Breweries",
          "Cooperativa de Quesos 'Las Cabras'",
          "Escargots Nouveaux",
          "Exotic Liquids",
          "Formaggi Fortini s.r.l.",
          "Forêts d'érables",
          "G'day, Mate",
          "Gai pâturage",
          "Grandma Kelly's Homestead",
          "Heli Süßwaren GmbH & Co. KG",
          "Karkki Oy",
          "Leka Trading",
          "Lyngbysild",
          "Ma Maison",
          "Mayumi's",
          "New England Seafood Cannery",
          "New Orleans Cajun Delights",
          "Nord-Ost-Fisch Handelsgesellschaft mbH",
          "Norske Meierier",
          "PB Knäckebröd AB",
          "Pasta Buttini s.r.l.",
          "Pavlova, Ltd.",
          "Plutzer Lebensmittelgroßmärkte AG",
          "Refrescos Americanas LTDA",
          "Specialty Biscuits, Ltd.",
          "Svensk Sjöföda AB",
          "Tokyo Traders",
          "Zaanse Snoepfabriek"
         ],
         "legendgroup": "",
         "name": "",
         "showlegend": true,
         "type": "pie",
         "values": [
          153691.275,
          22433.2,
          25159.43,
          5881.675,
          19399.96,
          48225.165,
          61587.57,
          65626.77,
          117981.18,
          41953.3,
          38653.4195,
          28894.1675,
          42017.645,
          10221.175,
          22154.6375,
          14736.755,
          26590.975,
          31167.99,
          13424.1975,
          43141.51,
          11724.06,
          50254.61,
          107584.7755,
          145398.3995,
          4504.365,
          59032.08,
          20144.06,
          30526.34,
          5326.7925
         ]
        }
       ],
       "layout": {
        "legend": {
         "tracegroupgap": 0
        },
        "template": {
         "data": {
          "bar": [
           {
            "error_x": {
             "color": "#2a3f5f"
            },
            "error_y": {
             "color": "#2a3f5f"
            },
            "marker": {
             "line": {
              "color": "#E5ECF6",
              "width": 0.5
             },
             "pattern": {
              "fillmode": "overlay",
              "size": 10,
              "solidity": 0.2
             }
            },
            "type": "bar"
           }
          ],
          "barpolar": [
           {
            "marker": {
             "line": {
              "color": "#E5ECF6",
              "width": 0.5
             },
             "pattern": {
              "fillmode": "overlay",
              "size": 10,
              "solidity": 0.2
             }
            },
            "type": "barpolar"
           }
          ],
          "carpet": [
           {
            "aaxis": {
             "endlinecolor": "#2a3f5f",
             "gridcolor": "white",
             "linecolor": "white",
             "minorgridcolor": "white",
             "startlinecolor": "#2a3f5f"
            },
            "baxis": {
             "endlinecolor": "#2a3f5f",
             "gridcolor": "white",
             "linecolor": "white",
             "minorgridcolor": "white",
             "startlinecolor": "#2a3f5f"
            },
            "type": "carpet"
           }
          ],
          "choropleth": [
           {
            "colorbar": {
             "outlinewidth": 0,
             "ticks": ""
            },
            "type": "choropleth"
           }
          ],
          "contour": [
           {
            "colorbar": {
             "outlinewidth": 0,
             "ticks": ""
            },
            "colorscale": [
             [
              0,
              "#0d0887"
             ],
             [
              0.1111111111111111,
              "#46039f"
             ],
             [
              0.2222222222222222,
              "#7201a8"
             ],
             [
              0.3333333333333333,
              "#9c179e"
             ],
             [
              0.4444444444444444,
              "#bd3786"
             ],
             [
              0.5555555555555556,
              "#d8576b"
             ],
             [
              0.6666666666666666,
              "#ed7953"
             ],
             [
              0.7777777777777778,
              "#fb9f3a"
             ],
             [
              0.8888888888888888,
              "#fdca26"
             ],
             [
              1,
              "#f0f921"
             ]
            ],
            "type": "contour"
           }
          ],
          "contourcarpet": [
           {
            "colorbar": {
             "outlinewidth": 0,
             "ticks": ""
            },
            "type": "contourcarpet"
           }
          ],
          "heatmap": [
           {
            "colorbar": {
             "outlinewidth": 0,
             "ticks": ""
            },
            "colorscale": [
             [
              0,
              "#0d0887"
             ],
             [
              0.1111111111111111,
              "#46039f"
             ],
             [
              0.2222222222222222,
              "#7201a8"
             ],
             [
              0.3333333333333333,
              "#9c179e"
             ],
             [
              0.4444444444444444,
              "#bd3786"
             ],
             [
              0.5555555555555556,
              "#d8576b"
             ],
             [
              0.6666666666666666,
              "#ed7953"
             ],
             [
              0.7777777777777778,
              "#fb9f3a"
             ],
             [
              0.8888888888888888,
              "#fdca26"
             ],
             [
              1,
              "#f0f921"
             ]
            ],
            "type": "heatmap"
           }
          ],
          "heatmapgl": [
           {
            "colorbar": {
             "outlinewidth": 0,
             "ticks": ""
            },
            "colorscale": [
             [
              0,
              "#0d0887"
             ],
             [
              0.1111111111111111,
              "#46039f"
             ],
             [
              0.2222222222222222,
              "#7201a8"
             ],
             [
              0.3333333333333333,
              "#9c179e"
             ],
             [
              0.4444444444444444,
              "#bd3786"
             ],
             [
              0.5555555555555556,
              "#d8576b"
             ],
             [
              0.6666666666666666,
              "#ed7953"
             ],
             [
              0.7777777777777778,
              "#fb9f3a"
             ],
             [
              0.8888888888888888,
              "#fdca26"
             ],
             [
              1,
              "#f0f921"
             ]
            ],
            "type": "heatmapgl"
           }
          ],
          "histogram": [
           {
            "marker": {
             "pattern": {
              "fillmode": "overlay",
              "size": 10,
              "solidity": 0.2
             }
            },
            "type": "histogram"
           }
          ],
          "histogram2d": [
           {
            "colorbar": {
             "outlinewidth": 0,
             "ticks": ""
            },
            "colorscale": [
             [
              0,
              "#0d0887"
             ],
             [
              0.1111111111111111,
              "#46039f"
             ],
             [
              0.2222222222222222,
              "#7201a8"
             ],
             [
              0.3333333333333333,
              "#9c179e"
             ],
             [
              0.4444444444444444,
              "#bd3786"
             ],
             [
              0.5555555555555556,
              "#d8576b"
             ],
             [
              0.6666666666666666,
              "#ed7953"
             ],
             [
              0.7777777777777778,
              "#fb9f3a"
             ],
             [
              0.8888888888888888,
              "#fdca26"
             ],
             [
              1,
              "#f0f921"
             ]
            ],
            "type": "histogram2d"
           }
          ],
          "histogram2dcontour": [
           {
            "colorbar": {
             "outlinewidth": 0,
             "ticks": ""
            },
            "colorscale": [
             [
              0,
              "#0d0887"
             ],
             [
              0.1111111111111111,
              "#46039f"
             ],
             [
              0.2222222222222222,
              "#7201a8"
             ],
             [
              0.3333333333333333,
              "#9c179e"
             ],
             [
              0.4444444444444444,
              "#bd3786"
             ],
             [
              0.5555555555555556,
              "#d8576b"
             ],
             [
              0.6666666666666666,
              "#ed7953"
             ],
             [
              0.7777777777777778,
              "#fb9f3a"
             ],
             [
              0.8888888888888888,
              "#fdca26"
             ],
             [
              1,
              "#f0f921"
             ]
            ],
            "type": "histogram2dcontour"
           }
          ],
          "mesh3d": [
           {
            "colorbar": {
             "outlinewidth": 0,
             "ticks": ""
            },
            "type": "mesh3d"
           }
          ],
          "parcoords": [
           {
            "line": {
             "colorbar": {
              "outlinewidth": 0,
              "ticks": ""
             }
            },
            "type": "parcoords"
           }
          ],
          "pie": [
           {
            "automargin": true,
            "type": "pie"
           }
          ],
          "scatter": [
           {
            "fillpattern": {
             "fillmode": "overlay",
             "size": 10,
             "solidity": 0.2
            },
            "type": "scatter"
           }
          ],
          "scatter3d": [
           {
            "line": {
             "colorbar": {
              "outlinewidth": 0,
              "ticks": ""
             }
            },
            "marker": {
             "colorbar": {
              "outlinewidth": 0,
              "ticks": ""
             }
            },
            "type": "scatter3d"
           }
          ],
          "scattercarpet": [
           {
            "marker": {
             "colorbar": {
              "outlinewidth": 0,
              "ticks": ""
             }
            },
            "type": "scattercarpet"
           }
          ],
          "scattergeo": [
           {
            "marker": {
             "colorbar": {
              "outlinewidth": 0,
              "ticks": ""
             }
            },
            "type": "scattergeo"
           }
          ],
          "scattergl": [
           {
            "marker": {
             "colorbar": {
              "outlinewidth": 0,
              "ticks": ""
             }
            },
            "type": "scattergl"
           }
          ],
          "scattermapbox": [
           {
            "marker": {
             "colorbar": {
              "outlinewidth": 0,
              "ticks": ""
             }
            },
            "type": "scattermapbox"
           }
          ],
          "scatterpolar": [
           {
            "marker": {
             "colorbar": {
              "outlinewidth": 0,
              "ticks": ""
             }
            },
            "type": "scatterpolar"
           }
          ],
          "scatterpolargl": [
           {
            "marker": {
             "colorbar": {
              "outlinewidth": 0,
              "ticks": ""
             }
            },
            "type": "scatterpolargl"
           }
          ],
          "scatterternary": [
           {
            "marker": {
             "colorbar": {
              "outlinewidth": 0,
              "ticks": ""
             }
            },
            "type": "scatterternary"
           }
          ],
          "surface": [
           {
            "colorbar": {
             "outlinewidth": 0,
             "ticks": ""
            },
            "colorscale": [
             [
              0,
              "#0d0887"
             ],
             [
              0.1111111111111111,
              "#46039f"
             ],
             [
              0.2222222222222222,
              "#7201a8"
             ],
             [
              0.3333333333333333,
              "#9c179e"
             ],
             [
              0.4444444444444444,
              "#bd3786"
             ],
             [
              0.5555555555555556,
              "#d8576b"
             ],
             [
              0.6666666666666666,
              "#ed7953"
             ],
             [
              0.7777777777777778,
              "#fb9f3a"
             ],
             [
              0.8888888888888888,
              "#fdca26"
             ],
             [
              1,
              "#f0f921"
             ]
            ],
            "type": "surface"
           }
          ],
          "table": [
           {
            "cells": {
             "fill": {
              "color": "#EBF0F8"
             },
             "line": {
              "color": "white"
             }
            },
            "header": {
             "fill": {
              "color": "#C8D4E3"
             },
             "line": {
              "color": "white"
             }
            },
            "type": "table"
           }
          ]
         },
         "layout": {
          "annotationdefaults": {
           "arrowcolor": "#2a3f5f",
           "arrowhead": 0,
           "arrowwidth": 1
          },
          "autotypenumbers": "strict",
          "coloraxis": {
           "colorbar": {
            "outlinewidth": 0,
            "ticks": ""
           }
          },
          "colorscale": {
           "diverging": [
            [
             0,
             "#8e0152"
            ],
            [
             0.1,
             "#c51b7d"
            ],
            [
             0.2,
             "#de77ae"
            ],
            [
             0.3,
             "#f1b6da"
            ],
            [
             0.4,
             "#fde0ef"
            ],
            [
             0.5,
             "#f7f7f7"
            ],
            [
             0.6,
             "#e6f5d0"
            ],
            [
             0.7,
             "#b8e186"
            ],
            [
             0.8,
             "#7fbc41"
            ],
            [
             0.9,
             "#4d9221"
            ],
            [
             1,
             "#276419"
            ]
           ],
           "sequential": [
            [
             0,
             "#0d0887"
            ],
            [
             0.1111111111111111,
             "#46039f"
            ],
            [
             0.2222222222222222,
             "#7201a8"
            ],
            [
             0.3333333333333333,
             "#9c179e"
            ],
            [
             0.4444444444444444,
             "#bd3786"
            ],
            [
             0.5555555555555556,
             "#d8576b"
            ],
            [
             0.6666666666666666,
             "#ed7953"
            ],
            [
             0.7777777777777778,
             "#fb9f3a"
            ],
            [
             0.8888888888888888,
             "#fdca26"
            ],
            [
             1,
             "#f0f921"
            ]
           ],
           "sequentialminus": [
            [
             0,
             "#0d0887"
            ],
            [
             0.1111111111111111,
             "#46039f"
            ],
            [
             0.2222222222222222,
             "#7201a8"
            ],
            [
             0.3333333333333333,
             "#9c179e"
            ],
            [
             0.4444444444444444,
             "#bd3786"
            ],
            [
             0.5555555555555556,
             "#d8576b"
            ],
            [
             0.6666666666666666,
             "#ed7953"
            ],
            [
             0.7777777777777778,
             "#fb9f3a"
            ],
            [
             0.8888888888888888,
             "#fdca26"
            ],
            [
             1,
             "#f0f921"
            ]
           ]
          },
          "colorway": [
           "#636efa",
           "#EF553B",
           "#00cc96",
           "#ab63fa",
           "#FFA15A",
           "#19d3f3",
           "#FF6692",
           "#B6E880",
           "#FF97FF",
           "#FECB52"
          ],
          "font": {
           "color": "#2a3f5f"
          },
          "geo": {
           "bgcolor": "white",
           "lakecolor": "white",
           "landcolor": "#E5ECF6",
           "showlakes": true,
           "showland": true,
           "subunitcolor": "white"
          },
          "hoverlabel": {
           "align": "left"
          },
          "hovermode": "closest",
          "mapbox": {
           "style": "light"
          },
          "paper_bgcolor": "white",
          "plot_bgcolor": "#E5ECF6",
          "polar": {
           "angularaxis": {
            "gridcolor": "white",
            "linecolor": "white",
            "ticks": ""
           },
           "bgcolor": "#E5ECF6",
           "radialaxis": {
            "gridcolor": "white",
            "linecolor": "white",
            "ticks": ""
           }
          },
          "scene": {
           "xaxis": {
            "backgroundcolor": "#E5ECF6",
            "gridcolor": "white",
            "gridwidth": 2,
            "linecolor": "white",
            "showbackground": true,
            "ticks": "",
            "zerolinecolor": "white"
           },
           "yaxis": {
            "backgroundcolor": "#E5ECF6",
            "gridcolor": "white",
            "gridwidth": 2,
            "linecolor": "white",
            "showbackground": true,
            "ticks": "",
            "zerolinecolor": "white"
           },
           "zaxis": {
            "backgroundcolor": "#E5ECF6",
            "gridcolor": "white",
            "gridwidth": 2,
            "linecolor": "white",
            "showbackground": true,
            "ticks": "",
            "zerolinecolor": "white"
           }
          },
          "shapedefaults": {
           "line": {
            "color": "#2a3f5f"
           }
          },
          "ternary": {
           "aaxis": {
            "gridcolor": "white",
            "linecolor": "white",
            "ticks": ""
           },
           "baxis": {
            "gridcolor": "white",
            "linecolor": "white",
            "ticks": ""
           },
           "bgcolor": "#E5ECF6",
           "caxis": {
            "gridcolor": "white",
            "linecolor": "white",
            "ticks": ""
           }
          },
          "title": {
           "x": 0.05
          },
          "xaxis": {
           "automargin": true,
           "gridcolor": "white",
           "linecolor": "white",
           "ticks": "",
           "title": {
            "standoff": 15
           },
           "zerolinecolor": "white",
           "zerolinewidth": 2
          },
          "yaxis": {
           "automargin": true,
           "gridcolor": "white",
           "linecolor": "white",
           "ticks": "",
           "title": {
            "standoff": 15
           },
           "zerolinecolor": "white",
           "zerolinewidth": 2
          }
         }
        },
        "title": {
         "text": "Desempenho dos Fornecedores"
        }
       }
      }
     },
     "metadata": {},
     "output_type": "display_data"
    }
   ],
   "source": [
    "# ==================================================================================================================\n",
    "                                # # # ANALISE DE DADOS FACT ORDER DETAILS # # #\n",
    "# ==================================================================================================================\n",
    "# Import de bibliotecas\n",
    "from extracao_dados import extract_postgres_datawarehouse\n",
    "import plotly.express as px\n",
    "\n",
    "# ==================================================================================================================\n",
    "# Leitura dos dados do data warehouse\n",
    "fact_order_details = extract_postgres_datawarehouse(\"fact_order_details\")\n",
    "dim_products = extract_postgres_datawarehouse(\"dim_products\")\n",
    "dim_suppliers = extract_postgres_datawarehouse(\"dim_suppliers\")\n",
    "dim_categories = extract_postgres_datawarehouse(\"dim_categories\")\n",
    "\n",
    "# ==================================================================================================================\n",
    "# Realizar joins para criar DataFrame consolidado\n",
    "df = fact_order_details.merge(dim_products, on='product_id')\n",
    "df = df.merge(dim_suppliers, on='supplier_id')\n",
    "df = df.merge(dim_categories, on='category_id')\n",
    "\n",
    "# Criar colunas e medidas calculadas\n",
    "df['total_sales'] = df['unit_price_x'] * df['quantity'] * (1 - df['discount'])\n",
    "\n",
    "# ==================================================================================================================\n",
    "# Criação de visualizações dos dados\n",
    "# Vendas por Produto\n",
    "fig_product_sales = px.bar(\n",
    "    df.groupby('product_name')['total_sales'].sum().reset_index(),\n",
    "    x='product_name', y='total_sales',\n",
    "    title='Vendas por Produto'\n",
    ")\n",
    "fig_product_sales.show()\n",
    "\n",
    "# Quantidade Vendida por Categoria\n",
    "fig_category_quantity = px.bar(\n",
    "    df.groupby('category_name')['quantity'].sum().reset_index(),\n",
    "    x='category_name', y='quantity',\n",
    "    title='Quantidade Vendida por Categoria'\n",
    ")\n",
    "fig_category_quantity.show()\n",
    "\n",
    "# Desconto Médio por Produto\n",
    "fig_avg_discount = px.bar(\n",
    "    df.groupby('product_name')['discount'].mean().reset_index(),\n",
    "    x='product_name', y='discount',\n",
    "    title='Desconto Médio por Produto'\n",
    ")\n",
    "fig_avg_discount.show()\n",
    "\n",
    "# Mapa de Vendas por Região\n",
    "fig_sales_map = px.scatter_geo(\n",
    "    df,\n",
    "    locations='country',\n",
    "    locationmode='country names',\n",
    "    size='total_sales',\n",
    "    title='Mapa de Vendas por Região'\n",
    ")\n",
    "fig_sales_map.show()\n",
    "\n",
    "# Análise de Desempenho de Fornecedores\n",
    "fig_supplier_performance = px.pie(\n",
    "    df.groupby('company_name')['total_sales'].sum().reset_index(),\n",
    "    names='company_name', values='total_sales',\n",
    "    title='Desempenho dos Fornecedores'\n",
    ")\n",
    "fig_supplier_performance.show()\n",
    "\n",
    "# ==================================================================================================================\n",
    "# Relatórios da tabela fact_order_details\n",
    "# Total de vendas por produtos\n",
    "df.groupby('product_name')['total_sales'].sum().reset_index()\\\n",
    "    .to_csv('analises/order_details/relatorio_vendas_por_produto.csv', index=False)\n",
    "\n",
    "# Total de quantidade vendidas por categoria\n",
    "df.groupby('category_name')['quantity'].sum().reset_index()\\\n",
    "    .to_csv('analises/order_details/relatorio_quantidade_vendida_por_categoria.csv', index=False)\n",
    "\n",
    "# Total de desconto medio por produto\n",
    "df.groupby('product_name')['discount'].mean().reset_index()\\\n",
    "    .to_csv('analises/order_details/relatorio_desconto_medio_por_produto.csv', index=False)\n",
    "\n",
    "# Total de vendas por fornecedor\n",
    "df.merge(dim_products[['product_id', 'supplier_id']], on='product_id')\\\n",
    "    .groupby('company_name')['total_sales'].sum().reset_index()\\\n",
    "    .to_csv('analises/order_details/relatorio_vendas_por_fornecedor.csv', index=False)\n",
    "\n",
    "# Total de produtos com menor estoque\n",
    "df.merge(dim_products[['product_id', 'product_name', 'units_in_stock']], on='product_id')\\\n",
    "    .sort_values(by='units_in_stock_y', ascending=True).head(10)\\\n",
    "    .to_csv('analises/order_details/relatorio_produtos_com_menor_estoque.csv', index=False)"
   ]
  },
  {
   "cell_type": "code",
   "execution_count": 2,
   "metadata": {},
   "outputs": [
    {
     "name": "stderr",
     "output_type": "stream",
     "text": [
      "c:\\Users\\Taking\\OneDrive - taking\\Área de Trabalho\\Projeto Esteira BI\\Projeto\\hml_config\\extracao_dados.py:147: UserWarning:\n",
      "\n",
      "pandas only supports SQLAlchemy connectable (engine/connection) or database string URI or sqlite3 DBAPI2 connection. Other DBAPI2 objects are not tested. Please consider using SQLAlchemy.\n",
      "\n"
     ]
    },
    {
     "data": {
      "application/vnd.plotly.v1+json": {
       "config": {
        "plotlyServerURL": "https://plot.ly"
       },
       "data": [
        {
         "alignmentgroup": "True",
         "hovertemplate": "Região=%{x}<br>Total de Vendas=%{y}<extra></extra>",
         "legendgroup": "",
         "marker": {
          "color": "#636efa",
          "pattern": {
           "shape": ""
          }
         },
         "name": "",
         "offsetgroup": "",
         "orientation": "v",
         "showlegend": false,
         "textposition": "auto",
         "type": "bar",
         "x": [
          "Eastern                                           ",
          "Northern                                          ",
          "Southern                                          ",
          "Western                                           "
         ],
         "xaxis": "x",
         "y": [
          140017.54,
          53235.340000000004,
          43538.96,
          85556.75
         ],
         "yaxis": "y"
        }
       ],
       "layout": {
        "barmode": "relative",
        "legend": {
         "tracegroupgap": 0
        },
        "template": {
         "data": {
          "bar": [
           {
            "error_x": {
             "color": "#2a3f5f"
            },
            "error_y": {
             "color": "#2a3f5f"
            },
            "marker": {
             "line": {
              "color": "#E5ECF6",
              "width": 0.5
             },
             "pattern": {
              "fillmode": "overlay",
              "size": 10,
              "solidity": 0.2
             }
            },
            "type": "bar"
           }
          ],
          "barpolar": [
           {
            "marker": {
             "line": {
              "color": "#E5ECF6",
              "width": 0.5
             },
             "pattern": {
              "fillmode": "overlay",
              "size": 10,
              "solidity": 0.2
             }
            },
            "type": "barpolar"
           }
          ],
          "carpet": [
           {
            "aaxis": {
             "endlinecolor": "#2a3f5f",
             "gridcolor": "white",
             "linecolor": "white",
             "minorgridcolor": "white",
             "startlinecolor": "#2a3f5f"
            },
            "baxis": {
             "endlinecolor": "#2a3f5f",
             "gridcolor": "white",
             "linecolor": "white",
             "minorgridcolor": "white",
             "startlinecolor": "#2a3f5f"
            },
            "type": "carpet"
           }
          ],
          "choropleth": [
           {
            "colorbar": {
             "outlinewidth": 0,
             "ticks": ""
            },
            "type": "choropleth"
           }
          ],
          "contour": [
           {
            "colorbar": {
             "outlinewidth": 0,
             "ticks": ""
            },
            "colorscale": [
             [
              0,
              "#0d0887"
             ],
             [
              0.1111111111111111,
              "#46039f"
             ],
             [
              0.2222222222222222,
              "#7201a8"
             ],
             [
              0.3333333333333333,
              "#9c179e"
             ],
             [
              0.4444444444444444,
              "#bd3786"
             ],
             [
              0.5555555555555556,
              "#d8576b"
             ],
             [
              0.6666666666666666,
              "#ed7953"
             ],
             [
              0.7777777777777778,
              "#fb9f3a"
             ],
             [
              0.8888888888888888,
              "#fdca26"
             ],
             [
              1,
              "#f0f921"
             ]
            ],
            "type": "contour"
           }
          ],
          "contourcarpet": [
           {
            "colorbar": {
             "outlinewidth": 0,
             "ticks": ""
            },
            "type": "contourcarpet"
           }
          ],
          "heatmap": [
           {
            "colorbar": {
             "outlinewidth": 0,
             "ticks": ""
            },
            "colorscale": [
             [
              0,
              "#0d0887"
             ],
             [
              0.1111111111111111,
              "#46039f"
             ],
             [
              0.2222222222222222,
              "#7201a8"
             ],
             [
              0.3333333333333333,
              "#9c179e"
             ],
             [
              0.4444444444444444,
              "#bd3786"
             ],
             [
              0.5555555555555556,
              "#d8576b"
             ],
             [
              0.6666666666666666,
              "#ed7953"
             ],
             [
              0.7777777777777778,
              "#fb9f3a"
             ],
             [
              0.8888888888888888,
              "#fdca26"
             ],
             [
              1,
              "#f0f921"
             ]
            ],
            "type": "heatmap"
           }
          ],
          "heatmapgl": [
           {
            "colorbar": {
             "outlinewidth": 0,
             "ticks": ""
            },
            "colorscale": [
             [
              0,
              "#0d0887"
             ],
             [
              0.1111111111111111,
              "#46039f"
             ],
             [
              0.2222222222222222,
              "#7201a8"
             ],
             [
              0.3333333333333333,
              "#9c179e"
             ],
             [
              0.4444444444444444,
              "#bd3786"
             ],
             [
              0.5555555555555556,
              "#d8576b"
             ],
             [
              0.6666666666666666,
              "#ed7953"
             ],
             [
              0.7777777777777778,
              "#fb9f3a"
             ],
             [
              0.8888888888888888,
              "#fdca26"
             ],
             [
              1,
              "#f0f921"
             ]
            ],
            "type": "heatmapgl"
           }
          ],
          "histogram": [
           {
            "marker": {
             "pattern": {
              "fillmode": "overlay",
              "size": 10,
              "solidity": 0.2
             }
            },
            "type": "histogram"
           }
          ],
          "histogram2d": [
           {
            "colorbar": {
             "outlinewidth": 0,
             "ticks": ""
            },
            "colorscale": [
             [
              0,
              "#0d0887"
             ],
             [
              0.1111111111111111,
              "#46039f"
             ],
             [
              0.2222222222222222,
              "#7201a8"
             ],
             [
              0.3333333333333333,
              "#9c179e"
             ],
             [
              0.4444444444444444,
              "#bd3786"
             ],
             [
              0.5555555555555556,
              "#d8576b"
             ],
             [
              0.6666666666666666,
              "#ed7953"
             ],
             [
              0.7777777777777778,
              "#fb9f3a"
             ],
             [
              0.8888888888888888,
              "#fdca26"
             ],
             [
              1,
              "#f0f921"
             ]
            ],
            "type": "histogram2d"
           }
          ],
          "histogram2dcontour": [
           {
            "colorbar": {
             "outlinewidth": 0,
             "ticks": ""
            },
            "colorscale": [
             [
              0,
              "#0d0887"
             ],
             [
              0.1111111111111111,
              "#46039f"
             ],
             [
              0.2222222222222222,
              "#7201a8"
             ],
             [
              0.3333333333333333,
              "#9c179e"
             ],
             [
              0.4444444444444444,
              "#bd3786"
             ],
             [
              0.5555555555555556,
              "#d8576b"
             ],
             [
              0.6666666666666666,
              "#ed7953"
             ],
             [
              0.7777777777777778,
              "#fb9f3a"
             ],
             [
              0.8888888888888888,
              "#fdca26"
             ],
             [
              1,
              "#f0f921"
             ]
            ],
            "type": "histogram2dcontour"
           }
          ],
          "mesh3d": [
           {
            "colorbar": {
             "outlinewidth": 0,
             "ticks": ""
            },
            "type": "mesh3d"
           }
          ],
          "parcoords": [
           {
            "line": {
             "colorbar": {
              "outlinewidth": 0,
              "ticks": ""
             }
            },
            "type": "parcoords"
           }
          ],
          "pie": [
           {
            "automargin": true,
            "type": "pie"
           }
          ],
          "scatter": [
           {
            "fillpattern": {
             "fillmode": "overlay",
             "size": 10,
             "solidity": 0.2
            },
            "type": "scatter"
           }
          ],
          "scatter3d": [
           {
            "line": {
             "colorbar": {
              "outlinewidth": 0,
              "ticks": ""
             }
            },
            "marker": {
             "colorbar": {
              "outlinewidth": 0,
              "ticks": ""
             }
            },
            "type": "scatter3d"
           }
          ],
          "scattercarpet": [
           {
            "marker": {
             "colorbar": {
              "outlinewidth": 0,
              "ticks": ""
             }
            },
            "type": "scattercarpet"
           }
          ],
          "scattergeo": [
           {
            "marker": {
             "colorbar": {
              "outlinewidth": 0,
              "ticks": ""
             }
            },
            "type": "scattergeo"
           }
          ],
          "scattergl": [
           {
            "marker": {
             "colorbar": {
              "outlinewidth": 0,
              "ticks": ""
             }
            },
            "type": "scattergl"
           }
          ],
          "scattermapbox": [
           {
            "marker": {
             "colorbar": {
              "outlinewidth": 0,
              "ticks": ""
             }
            },
            "type": "scattermapbox"
           }
          ],
          "scatterpolar": [
           {
            "marker": {
             "colorbar": {
              "outlinewidth": 0,
              "ticks": ""
             }
            },
            "type": "scatterpolar"
           }
          ],
          "scatterpolargl": [
           {
            "marker": {
             "colorbar": {
              "outlinewidth": 0,
              "ticks": ""
             }
            },
            "type": "scatterpolargl"
           }
          ],
          "scatterternary": [
           {
            "marker": {
             "colorbar": {
              "outlinewidth": 0,
              "ticks": ""
             }
            },
            "type": "scatterternary"
           }
          ],
          "surface": [
           {
            "colorbar": {
             "outlinewidth": 0,
             "ticks": ""
            },
            "colorscale": [
             [
              0,
              "#0d0887"
             ],
             [
              0.1111111111111111,
              "#46039f"
             ],
             [
              0.2222222222222222,
              "#7201a8"
             ],
             [
              0.3333333333333333,
              "#9c179e"
             ],
             [
              0.4444444444444444,
              "#bd3786"
             ],
             [
              0.5555555555555556,
              "#d8576b"
             ],
             [
              0.6666666666666666,
              "#ed7953"
             ],
             [
              0.7777777777777778,
              "#fb9f3a"
             ],
             [
              0.8888888888888888,
              "#fdca26"
             ],
             [
              1,
              "#f0f921"
             ]
            ],
            "type": "surface"
           }
          ],
          "table": [
           {
            "cells": {
             "fill": {
              "color": "#EBF0F8"
             },
             "line": {
              "color": "white"
             }
            },
            "header": {
             "fill": {
              "color": "#C8D4E3"
             },
             "line": {
              "color": "white"
             }
            },
            "type": "table"
           }
          ]
         },
         "layout": {
          "annotationdefaults": {
           "arrowcolor": "#2a3f5f",
           "arrowhead": 0,
           "arrowwidth": 1
          },
          "autotypenumbers": "strict",
          "coloraxis": {
           "colorbar": {
            "outlinewidth": 0,
            "ticks": ""
           }
          },
          "colorscale": {
           "diverging": [
            [
             0,
             "#8e0152"
            ],
            [
             0.1,
             "#c51b7d"
            ],
            [
             0.2,
             "#de77ae"
            ],
            [
             0.3,
             "#f1b6da"
            ],
            [
             0.4,
             "#fde0ef"
            ],
            [
             0.5,
             "#f7f7f7"
            ],
            [
             0.6,
             "#e6f5d0"
            ],
            [
             0.7,
             "#b8e186"
            ],
            [
             0.8,
             "#7fbc41"
            ],
            [
             0.9,
             "#4d9221"
            ],
            [
             1,
             "#276419"
            ]
           ],
           "sequential": [
            [
             0,
             "#0d0887"
            ],
            [
             0.1111111111111111,
             "#46039f"
            ],
            [
             0.2222222222222222,
             "#7201a8"
            ],
            [
             0.3333333333333333,
             "#9c179e"
            ],
            [
             0.4444444444444444,
             "#bd3786"
            ],
            [
             0.5555555555555556,
             "#d8576b"
            ],
            [
             0.6666666666666666,
             "#ed7953"
            ],
            [
             0.7777777777777778,
             "#fb9f3a"
            ],
            [
             0.8888888888888888,
             "#fdca26"
            ],
            [
             1,
             "#f0f921"
            ]
           ],
           "sequentialminus": [
            [
             0,
             "#0d0887"
            ],
            [
             0.1111111111111111,
             "#46039f"
            ],
            [
             0.2222222222222222,
             "#7201a8"
            ],
            [
             0.3333333333333333,
             "#9c179e"
            ],
            [
             0.4444444444444444,
             "#bd3786"
            ],
            [
             0.5555555555555556,
             "#d8576b"
            ],
            [
             0.6666666666666666,
             "#ed7953"
            ],
            [
             0.7777777777777778,
             "#fb9f3a"
            ],
            [
             0.8888888888888888,
             "#fdca26"
            ],
            [
             1,
             "#f0f921"
            ]
           ]
          },
          "colorway": [
           "#636efa",
           "#EF553B",
           "#00cc96",
           "#ab63fa",
           "#FFA15A",
           "#19d3f3",
           "#FF6692",
           "#B6E880",
           "#FF97FF",
           "#FECB52"
          ],
          "font": {
           "color": "#2a3f5f"
          },
          "geo": {
           "bgcolor": "white",
           "lakecolor": "white",
           "landcolor": "#E5ECF6",
           "showlakes": true,
           "showland": true,
           "subunitcolor": "white"
          },
          "hoverlabel": {
           "align": "left"
          },
          "hovermode": "closest",
          "mapbox": {
           "style": "light"
          },
          "paper_bgcolor": "white",
          "plot_bgcolor": "#E5ECF6",
          "polar": {
           "angularaxis": {
            "gridcolor": "white",
            "linecolor": "white",
            "ticks": ""
           },
           "bgcolor": "#E5ECF6",
           "radialaxis": {
            "gridcolor": "white",
            "linecolor": "white",
            "ticks": ""
           }
          },
          "scene": {
           "xaxis": {
            "backgroundcolor": "#E5ECF6",
            "gridcolor": "white",
            "gridwidth": 2,
            "linecolor": "white",
            "showbackground": true,
            "ticks": "",
            "zerolinecolor": "white"
           },
           "yaxis": {
            "backgroundcolor": "#E5ECF6",
            "gridcolor": "white",
            "gridwidth": 2,
            "linecolor": "white",
            "showbackground": true,
            "ticks": "",
            "zerolinecolor": "white"
           },
           "zaxis": {
            "backgroundcolor": "#E5ECF6",
            "gridcolor": "white",
            "gridwidth": 2,
            "linecolor": "white",
            "showbackground": true,
            "ticks": "",
            "zerolinecolor": "white"
           }
          },
          "shapedefaults": {
           "line": {
            "color": "#2a3f5f"
           }
          },
          "ternary": {
           "aaxis": {
            "gridcolor": "white",
            "linecolor": "white",
            "ticks": ""
           },
           "baxis": {
            "gridcolor": "white",
            "linecolor": "white",
            "ticks": ""
           },
           "bgcolor": "#E5ECF6",
           "caxis": {
            "gridcolor": "white",
            "linecolor": "white",
            "ticks": ""
           }
          },
          "title": {
           "x": 0.05
          },
          "xaxis": {
           "automargin": true,
           "gridcolor": "white",
           "linecolor": "white",
           "ticks": "",
           "title": {
            "standoff": 15
           },
           "zerolinecolor": "white",
           "zerolinewidth": 2
          },
          "yaxis": {
           "automargin": true,
           "gridcolor": "white",
           "linecolor": "white",
           "ticks": "",
           "title": {
            "standoff": 15
           },
           "zerolinecolor": "white",
           "zerolinewidth": 2
          }
         }
        },
        "title": {
         "text": "Total de Vendas por Região"
        },
        "xaxis": {
         "anchor": "y",
         "domain": [
          0,
          1
         ],
         "title": {
          "text": "Região"
         }
        },
        "yaxis": {
         "anchor": "x",
         "domain": [
          0,
          1
         ],
         "title": {
          "text": "Total de Vendas"
         }
        }
       }
      }
     },
     "metadata": {},
     "output_type": "display_data"
    },
    {
     "data": {
      "application/vnd.plotly.v1+json": {
       "config": {
        "plotlyServerURL": "https://plot.ly"
       },
       "data": [
        {
         "alignmentgroup": "True",
         "hovertemplate": "last_name=Fuller<br>Nome do Funcionário=%{x}<br>Total de Vendas=%{y}<extra></extra>",
         "legendgroup": "Fuller",
         "marker": {
          "color": "#636efa",
          "pattern": {
           "shape": ""
          }
         },
         "name": "Fuller",
         "offsetgroup": "Fuller",
         "orientation": "v",
         "showlegend": true,
         "textposition": "auto",
         "type": "bar",
         "x": [
          "Andrew"
         ],
         "xaxis": "x",
         "y": [
          60874.87
         ],
         "yaxis": "y"
        },
        {
         "alignmentgroup": "True",
         "hovertemplate": "last_name=Dodsworth<br>Nome do Funcionário=%{x}<br>Total de Vendas=%{y}<extra></extra>",
         "legendgroup": "Dodsworth",
         "marker": {
          "color": "#EF553B",
          "pattern": {
           "shape": ""
          }
         },
         "name": "Dodsworth",
         "offsetgroup": "Dodsworth",
         "orientation": "v",
         "showlegend": true,
         "textposition": "auto",
         "type": "bar",
         "x": [
          "Anne"
         ],
         "xaxis": "x",
         "y": [
          23283.82
         ],
         "yaxis": "y"
        },
        {
         "alignmentgroup": "True",
         "hovertemplate": "last_name=Leverling<br>Nome do Funcionário=%{x}<br>Total de Vendas=%{y}<extra></extra>",
         "legendgroup": "Leverling",
         "marker": {
          "color": "#00cc96",
          "pattern": {
           "shape": ""
          }
         },
         "name": "Leverling",
         "offsetgroup": "Leverling",
         "orientation": "v",
         "showlegend": true,
         "textposition": "auto",
         "type": "bar",
         "x": [
          "Janet"
         ],
         "xaxis": "x",
         "y": [
          43538.96
         ],
         "yaxis": "y"
        },
        {
         "alignmentgroup": "True",
         "hovertemplate": "last_name=Callahan<br>Nome do Funcionário=%{x}<br>Total de Vendas=%{y}<extra></extra>",
         "legendgroup": "Callahan",
         "marker": {
          "color": "#ab63fa",
          "pattern": {
           "shape": ""
          }
         },
         "name": "Callahan",
         "offsetgroup": "Callahan",
         "orientation": "v",
         "showlegend": true,
         "textposition": "auto",
         "type": "bar",
         "x": [
          "Laura"
         ],
         "xaxis": "x",
         "y": [
          29951.52
         ],
         "yaxis": "y"
        },
        {
         "alignmentgroup": "True",
         "hovertemplate": "last_name=Peacock<br>Nome do Funcionário=%{x}<br>Total de Vendas=%{y}<extra></extra>",
         "legendgroup": "Peacock",
         "marker": {
          "color": "#FFA15A",
          "pattern": {
           "shape": ""
          }
         },
         "name": "Peacock",
         "offsetgroup": "Peacock",
         "orientation": "v",
         "showlegend": true,
         "textposition": "auto",
         "type": "bar",
         "x": [
          "Margaret"
         ],
         "xaxis": "x",
         "y": [
          34038.42
         ],
         "yaxis": "y"
        },
        {
         "alignmentgroup": "True",
         "hovertemplate": "last_name=Suyama<br>Nome do Funcionário=%{x}<br>Total de Vendas=%{y}<extra></extra>",
         "legendgroup": "Suyama",
         "marker": {
          "color": "#19d3f3",
          "pattern": {
           "shape": ""
          }
         },
         "name": "Suyama",
         "offsetgroup": "Suyama",
         "orientation": "v",
         "showlegend": true,
         "textposition": "auto",
         "type": "bar",
         "x": [
          "Michael"
         ],
         "xaxis": "x",
         "y": [
          18902.35
         ],
         "yaxis": "y"
        },
        {
         "alignmentgroup": "True",
         "hovertemplate": "last_name=Davolio<br>Nome do Funcionário=%{x}<br>Total de Vendas=%{y}<extra></extra>",
         "legendgroup": "Davolio",
         "marker": {
          "color": "#FF6692",
          "pattern": {
           "shape": ""
          }
         },
         "name": "Davolio",
         "offsetgroup": "Davolio",
         "orientation": "v",
         "showlegend": true,
         "textposition": "auto",
         "type": "bar",
         "x": [
          "Nancy"
         ],
         "xaxis": "x",
         "y": [
          17673.28
         ],
         "yaxis": "y"
        },
        {
         "alignmentgroup": "True",
         "hovertemplate": "last_name=King<br>Nome do Funcionário=%{x}<br>Total de Vendas=%{y}<extra></extra>",
         "legendgroup": "King",
         "marker": {
          "color": "#B6E880",
          "pattern": {
           "shape": ""
          }
         },
         "name": "King",
         "offsetgroup": "King",
         "orientation": "v",
         "showlegend": true,
         "textposition": "auto",
         "type": "bar",
         "x": [
          "Robert"
         ],
         "xaxis": "x",
         "y": [
          66654.4
         ],
         "yaxis": "y"
        },
        {
         "alignmentgroup": "True",
         "hovertemplate": "last_name=Buchanan<br>Nome do Funcionário=%{x}<br>Total de Vendas=%{y}<extra></extra>",
         "legendgroup": "Buchanan",
         "marker": {
          "color": "#FF97FF",
          "pattern": {
           "shape": ""
          }
         },
         "name": "Buchanan",
         "offsetgroup": "Buchanan",
         "orientation": "v",
         "showlegend": true,
         "textposition": "auto",
         "type": "bar",
         "x": [
          "Steven"
         ],
         "xaxis": "x",
         "y": [
          27430.97
         ],
         "yaxis": "y"
        }
       ],
       "layout": {
        "barmode": "relative",
        "legend": {
         "title": {
          "text": "last_name"
         },
         "tracegroupgap": 0
        },
        "template": {
         "data": {
          "bar": [
           {
            "error_x": {
             "color": "#2a3f5f"
            },
            "error_y": {
             "color": "#2a3f5f"
            },
            "marker": {
             "line": {
              "color": "#E5ECF6",
              "width": 0.5
             },
             "pattern": {
              "fillmode": "overlay",
              "size": 10,
              "solidity": 0.2
             }
            },
            "type": "bar"
           }
          ],
          "barpolar": [
           {
            "marker": {
             "line": {
              "color": "#E5ECF6",
              "width": 0.5
             },
             "pattern": {
              "fillmode": "overlay",
              "size": 10,
              "solidity": 0.2
             }
            },
            "type": "barpolar"
           }
          ],
          "carpet": [
           {
            "aaxis": {
             "endlinecolor": "#2a3f5f",
             "gridcolor": "white",
             "linecolor": "white",
             "minorgridcolor": "white",
             "startlinecolor": "#2a3f5f"
            },
            "baxis": {
             "endlinecolor": "#2a3f5f",
             "gridcolor": "white",
             "linecolor": "white",
             "minorgridcolor": "white",
             "startlinecolor": "#2a3f5f"
            },
            "type": "carpet"
           }
          ],
          "choropleth": [
           {
            "colorbar": {
             "outlinewidth": 0,
             "ticks": ""
            },
            "type": "choropleth"
           }
          ],
          "contour": [
           {
            "colorbar": {
             "outlinewidth": 0,
             "ticks": ""
            },
            "colorscale": [
             [
              0,
              "#0d0887"
             ],
             [
              0.1111111111111111,
              "#46039f"
             ],
             [
              0.2222222222222222,
              "#7201a8"
             ],
             [
              0.3333333333333333,
              "#9c179e"
             ],
             [
              0.4444444444444444,
              "#bd3786"
             ],
             [
              0.5555555555555556,
              "#d8576b"
             ],
             [
              0.6666666666666666,
              "#ed7953"
             ],
             [
              0.7777777777777778,
              "#fb9f3a"
             ],
             [
              0.8888888888888888,
              "#fdca26"
             ],
             [
              1,
              "#f0f921"
             ]
            ],
            "type": "contour"
           }
          ],
          "contourcarpet": [
           {
            "colorbar": {
             "outlinewidth": 0,
             "ticks": ""
            },
            "type": "contourcarpet"
           }
          ],
          "heatmap": [
           {
            "colorbar": {
             "outlinewidth": 0,
             "ticks": ""
            },
            "colorscale": [
             [
              0,
              "#0d0887"
             ],
             [
              0.1111111111111111,
              "#46039f"
             ],
             [
              0.2222222222222222,
              "#7201a8"
             ],
             [
              0.3333333333333333,
              "#9c179e"
             ],
             [
              0.4444444444444444,
              "#bd3786"
             ],
             [
              0.5555555555555556,
              "#d8576b"
             ],
             [
              0.6666666666666666,
              "#ed7953"
             ],
             [
              0.7777777777777778,
              "#fb9f3a"
             ],
             [
              0.8888888888888888,
              "#fdca26"
             ],
             [
              1,
              "#f0f921"
             ]
            ],
            "type": "heatmap"
           }
          ],
          "heatmapgl": [
           {
            "colorbar": {
             "outlinewidth": 0,
             "ticks": ""
            },
            "colorscale": [
             [
              0,
              "#0d0887"
             ],
             [
              0.1111111111111111,
              "#46039f"
             ],
             [
              0.2222222222222222,
              "#7201a8"
             ],
             [
              0.3333333333333333,
              "#9c179e"
             ],
             [
              0.4444444444444444,
              "#bd3786"
             ],
             [
              0.5555555555555556,
              "#d8576b"
             ],
             [
              0.6666666666666666,
              "#ed7953"
             ],
             [
              0.7777777777777778,
              "#fb9f3a"
             ],
             [
              0.8888888888888888,
              "#fdca26"
             ],
             [
              1,
              "#f0f921"
             ]
            ],
            "type": "heatmapgl"
           }
          ],
          "histogram": [
           {
            "marker": {
             "pattern": {
              "fillmode": "overlay",
              "size": 10,
              "solidity": 0.2
             }
            },
            "type": "histogram"
           }
          ],
          "histogram2d": [
           {
            "colorbar": {
             "outlinewidth": 0,
             "ticks": ""
            },
            "colorscale": [
             [
              0,
              "#0d0887"
             ],
             [
              0.1111111111111111,
              "#46039f"
             ],
             [
              0.2222222222222222,
              "#7201a8"
             ],
             [
              0.3333333333333333,
              "#9c179e"
             ],
             [
              0.4444444444444444,
              "#bd3786"
             ],
             [
              0.5555555555555556,
              "#d8576b"
             ],
             [
              0.6666666666666666,
              "#ed7953"
             ],
             [
              0.7777777777777778,
              "#fb9f3a"
             ],
             [
              0.8888888888888888,
              "#fdca26"
             ],
             [
              1,
              "#f0f921"
             ]
            ],
            "type": "histogram2d"
           }
          ],
          "histogram2dcontour": [
           {
            "colorbar": {
             "outlinewidth": 0,
             "ticks": ""
            },
            "colorscale": [
             [
              0,
              "#0d0887"
             ],
             [
              0.1111111111111111,
              "#46039f"
             ],
             [
              0.2222222222222222,
              "#7201a8"
             ],
             [
              0.3333333333333333,
              "#9c179e"
             ],
             [
              0.4444444444444444,
              "#bd3786"
             ],
             [
              0.5555555555555556,
              "#d8576b"
             ],
             [
              0.6666666666666666,
              "#ed7953"
             ],
             [
              0.7777777777777778,
              "#fb9f3a"
             ],
             [
              0.8888888888888888,
              "#fdca26"
             ],
             [
              1,
              "#f0f921"
             ]
            ],
            "type": "histogram2dcontour"
           }
          ],
          "mesh3d": [
           {
            "colorbar": {
             "outlinewidth": 0,
             "ticks": ""
            },
            "type": "mesh3d"
           }
          ],
          "parcoords": [
           {
            "line": {
             "colorbar": {
              "outlinewidth": 0,
              "ticks": ""
             }
            },
            "type": "parcoords"
           }
          ],
          "pie": [
           {
            "automargin": true,
            "type": "pie"
           }
          ],
          "scatter": [
           {
            "fillpattern": {
             "fillmode": "overlay",
             "size": 10,
             "solidity": 0.2
            },
            "type": "scatter"
           }
          ],
          "scatter3d": [
           {
            "line": {
             "colorbar": {
              "outlinewidth": 0,
              "ticks": ""
             }
            },
            "marker": {
             "colorbar": {
              "outlinewidth": 0,
              "ticks": ""
             }
            },
            "type": "scatter3d"
           }
          ],
          "scattercarpet": [
           {
            "marker": {
             "colorbar": {
              "outlinewidth": 0,
              "ticks": ""
             }
            },
            "type": "scattercarpet"
           }
          ],
          "scattergeo": [
           {
            "marker": {
             "colorbar": {
              "outlinewidth": 0,
              "ticks": ""
             }
            },
            "type": "scattergeo"
           }
          ],
          "scattergl": [
           {
            "marker": {
             "colorbar": {
              "outlinewidth": 0,
              "ticks": ""
             }
            },
            "type": "scattergl"
           }
          ],
          "scattermapbox": [
           {
            "marker": {
             "colorbar": {
              "outlinewidth": 0,
              "ticks": ""
             }
            },
            "type": "scattermapbox"
           }
          ],
          "scatterpolar": [
           {
            "marker": {
             "colorbar": {
              "outlinewidth": 0,
              "ticks": ""
             }
            },
            "type": "scatterpolar"
           }
          ],
          "scatterpolargl": [
           {
            "marker": {
             "colorbar": {
              "outlinewidth": 0,
              "ticks": ""
             }
            },
            "type": "scatterpolargl"
           }
          ],
          "scatterternary": [
           {
            "marker": {
             "colorbar": {
              "outlinewidth": 0,
              "ticks": ""
             }
            },
            "type": "scatterternary"
           }
          ],
          "surface": [
           {
            "colorbar": {
             "outlinewidth": 0,
             "ticks": ""
            },
            "colorscale": [
             [
              0,
              "#0d0887"
             ],
             [
              0.1111111111111111,
              "#46039f"
             ],
             [
              0.2222222222222222,
              "#7201a8"
             ],
             [
              0.3333333333333333,
              "#9c179e"
             ],
             [
              0.4444444444444444,
              "#bd3786"
             ],
             [
              0.5555555555555556,
              "#d8576b"
             ],
             [
              0.6666666666666666,
              "#ed7953"
             ],
             [
              0.7777777777777778,
              "#fb9f3a"
             ],
             [
              0.8888888888888888,
              "#fdca26"
             ],
             [
              1,
              "#f0f921"
             ]
            ],
            "type": "surface"
           }
          ],
          "table": [
           {
            "cells": {
             "fill": {
              "color": "#EBF0F8"
             },
             "line": {
              "color": "white"
             }
            },
            "header": {
             "fill": {
              "color": "#C8D4E3"
             },
             "line": {
              "color": "white"
             }
            },
            "type": "table"
           }
          ]
         },
         "layout": {
          "annotationdefaults": {
           "arrowcolor": "#2a3f5f",
           "arrowhead": 0,
           "arrowwidth": 1
          },
          "autotypenumbers": "strict",
          "coloraxis": {
           "colorbar": {
            "outlinewidth": 0,
            "ticks": ""
           }
          },
          "colorscale": {
           "diverging": [
            [
             0,
             "#8e0152"
            ],
            [
             0.1,
             "#c51b7d"
            ],
            [
             0.2,
             "#de77ae"
            ],
            [
             0.3,
             "#f1b6da"
            ],
            [
             0.4,
             "#fde0ef"
            ],
            [
             0.5,
             "#f7f7f7"
            ],
            [
             0.6,
             "#e6f5d0"
            ],
            [
             0.7,
             "#b8e186"
            ],
            [
             0.8,
             "#7fbc41"
            ],
            [
             0.9,
             "#4d9221"
            ],
            [
             1,
             "#276419"
            ]
           ],
           "sequential": [
            [
             0,
             "#0d0887"
            ],
            [
             0.1111111111111111,
             "#46039f"
            ],
            [
             0.2222222222222222,
             "#7201a8"
            ],
            [
             0.3333333333333333,
             "#9c179e"
            ],
            [
             0.4444444444444444,
             "#bd3786"
            ],
            [
             0.5555555555555556,
             "#d8576b"
            ],
            [
             0.6666666666666666,
             "#ed7953"
            ],
            [
             0.7777777777777778,
             "#fb9f3a"
            ],
            [
             0.8888888888888888,
             "#fdca26"
            ],
            [
             1,
             "#f0f921"
            ]
           ],
           "sequentialminus": [
            [
             0,
             "#0d0887"
            ],
            [
             0.1111111111111111,
             "#46039f"
            ],
            [
             0.2222222222222222,
             "#7201a8"
            ],
            [
             0.3333333333333333,
             "#9c179e"
            ],
            [
             0.4444444444444444,
             "#bd3786"
            ],
            [
             0.5555555555555556,
             "#d8576b"
            ],
            [
             0.6666666666666666,
             "#ed7953"
            ],
            [
             0.7777777777777778,
             "#fb9f3a"
            ],
            [
             0.8888888888888888,
             "#fdca26"
            ],
            [
             1,
             "#f0f921"
            ]
           ]
          },
          "colorway": [
           "#636efa",
           "#EF553B",
           "#00cc96",
           "#ab63fa",
           "#FFA15A",
           "#19d3f3",
           "#FF6692",
           "#B6E880",
           "#FF97FF",
           "#FECB52"
          ],
          "font": {
           "color": "#2a3f5f"
          },
          "geo": {
           "bgcolor": "white",
           "lakecolor": "white",
           "landcolor": "#E5ECF6",
           "showlakes": true,
           "showland": true,
           "subunitcolor": "white"
          },
          "hoverlabel": {
           "align": "left"
          },
          "hovermode": "closest",
          "mapbox": {
           "style": "light"
          },
          "paper_bgcolor": "white",
          "plot_bgcolor": "#E5ECF6",
          "polar": {
           "angularaxis": {
            "gridcolor": "white",
            "linecolor": "white",
            "ticks": ""
           },
           "bgcolor": "#E5ECF6",
           "radialaxis": {
            "gridcolor": "white",
            "linecolor": "white",
            "ticks": ""
           }
          },
          "scene": {
           "xaxis": {
            "backgroundcolor": "#E5ECF6",
            "gridcolor": "white",
            "gridwidth": 2,
            "linecolor": "white",
            "showbackground": true,
            "ticks": "",
            "zerolinecolor": "white"
           },
           "yaxis": {
            "backgroundcolor": "#E5ECF6",
            "gridcolor": "white",
            "gridwidth": 2,
            "linecolor": "white",
            "showbackground": true,
            "ticks": "",
            "zerolinecolor": "white"
           },
           "zaxis": {
            "backgroundcolor": "#E5ECF6",
            "gridcolor": "white",
            "gridwidth": 2,
            "linecolor": "white",
            "showbackground": true,
            "ticks": "",
            "zerolinecolor": "white"
           }
          },
          "shapedefaults": {
           "line": {
            "color": "#2a3f5f"
           }
          },
          "ternary": {
           "aaxis": {
            "gridcolor": "white",
            "linecolor": "white",
            "ticks": ""
           },
           "baxis": {
            "gridcolor": "white",
            "linecolor": "white",
            "ticks": ""
           },
           "bgcolor": "#E5ECF6",
           "caxis": {
            "gridcolor": "white",
            "linecolor": "white",
            "ticks": ""
           }
          },
          "title": {
           "x": 0.05
          },
          "xaxis": {
           "automargin": true,
           "gridcolor": "white",
           "linecolor": "white",
           "ticks": "",
           "title": {
            "standoff": 15
           },
           "zerolinecolor": "white",
           "zerolinewidth": 2
          },
          "yaxis": {
           "automargin": true,
           "gridcolor": "white",
           "linecolor": "white",
           "ticks": "",
           "title": {
            "standoff": 15
           },
           "zerolinecolor": "white",
           "zerolinewidth": 2
          }
         }
        },
        "title": {
         "text": "Total de Vendas por Funcionário"
        },
        "xaxis": {
         "anchor": "y",
         "domain": [
          0,
          1
         ],
         "title": {
          "text": "Nome do Funcionário"
         }
        },
        "yaxis": {
         "anchor": "x",
         "domain": [
          0,
          1
         ],
         "title": {
          "text": "Total de Vendas"
         }
        }
       }
      }
     },
     "metadata": {},
     "output_type": "display_data"
    },
    {
     "data": {
      "application/vnd.plotly.v1+json": {
       "config": {
        "plotlyServerURL": "https://plot.ly"
       },
       "data": [
        {
         "alignmentgroup": "True",
         "hovertemplate": "Cliente=%{x}<br>Total de Vendas=%{y}<extra></extra>",
         "legendgroup": "",
         "marker": {
          "color": "#636efa",
          "pattern": {
           "shape": ""
          }
         },
         "name": "",
         "offsetgroup": "",
         "orientation": "v",
         "showlegend": false,
         "textposition": "auto",
         "type": "bar",
         "x": [
          "Alfreds Futterkiste",
          "Ana Trujillo Emparedados y helados",
          "Antonio Moreno Taquería",
          "Around the Horn",
          "B's Beverages",
          "Berglunds snabbköp",
          "Blauer See Delikatessen",
          "Blondesddsl père et fils",
          "Bon app'",
          "Bottom-Dollar Markets",
          "Bólido Comidas preparadas",
          "Cactus Comidas para llevar",
          "Centro comercial Moctezuma",
          "Chop-suey Chinese",
          "Comércio Mineiro",
          "Consolidated Holdings",
          "Die Wandernde Kuh",
          "Drachenblut Delikatessen",
          "Du monde entier",
          "Eastern Connection",
          "Ernst Handel",
          "Familia Arquibaldo",
          "Folies gourmandes",
          "Folk och fä HB",
          "France restauration",
          "Franchi S.p.A.",
          "Frankenversand",
          "Furia Bacalhau e Frutos do Mar",
          "GROSELLA-Restaurante",
          "Galería del gastrónomo",
          "Godos Cocina Típica",
          "Gourmet Lanchonetes",
          "Great Lakes Food Market",
          "HILARION-Abastos",
          "Hanari Carnes",
          "Hungry Coyote Import Store",
          "Hungry Owl All-Night Grocers",
          "Island Trading",
          "Königlich Essen",
          "LILA-Supermercado",
          "LINO-Delicateses",
          "La corne d'abondance",
          "La maison d'Asie",
          "Laughing Bacchus Wine Cellars",
          "Lazy K Kountry Store",
          "Lehmanns Marktstand",
          "Let's Stop N Shop",
          "Lonesome Pine Restaurant",
          "Magazzini Alimentari Riuniti",
          "Maison Dewey",
          "Morgenstern Gesundkost",
          "Mère Paillarde",
          "North/South",
          "Océano Atlántico Ltda.",
          "Old World Delicatessen",
          "Ottilies Käseladen",
          "Pericles Comidas clásicas",
          "Piccolo und mehr",
          "Princesa Isabel Vinhos",
          "QUICK-Stop",
          "Que Delícia",
          "Queen Cozinha",
          "Rancho grande",
          "Rattlesnake Canyon Grocery",
          "Reggiani Caseifici",
          "Ricardo Adocicados",
          "Richter Supermarkt",
          "Romero y tomillo",
          "Santé Gourmet",
          "Save-a-lot Markets",
          "Seven Seas Imports",
          "Simons bistro",
          "Split Rail Beer & Ale",
          "Spécialités du monde",
          "Suprêmes délices",
          "The Big Cheese",
          "The Cracker Box",
          "Toms Spezialitäten",
          "Tortuga Restaurante",
          "Tradição Hipermercados",
          "Trail's Head Gourmet Provisioners",
          "Vaffeljernet",
          "Victuailles en stock",
          "Vins et alcools Chevalier",
          "Wartian Herkku",
          "Wellington Importadora",
          "White Clover Markets",
          "Wilman Kala",
          "Wolski  Zajazd"
         ],
         "xaxis": "x",
         "y": [
          626.9200000000001,
          359.42,
          1844.1200000000001,
          1792.86,
          1176.15,
          6038.95,
          999,
          2736.84,
          5609.18,
          3519.15,
          638.15,
          539.84,
          9.75,
          2072.84,
          762.91,
          462.43,
          2404.1,
          1219.26,
          426.28,
          3653.12,
          32251.67,
          1575.09,
          1864.53,
          8836.380000000001,
          990.4599999999999,
          284.11,
          3971.14,
          856.34,
          268.18,
          130.51000000000002,
          3538.0099999999998,
          907.69,
          3406.72,
          7318.75,
          2680.52,
          722.51,
          15246.31,
          1819.24,
          3206.11,
          3088.83,
          2642.37,
          502.84999999999997,
          4008.59,
          55.49,
          62.64,
          5918.7,
          735.98,
          246.56,
          2895.25,
          2071.56,
          2037.27,
          6698.42,
          154.53,
          1571.3700000000001,
          4077.66,
          3603.66,
          1555.52,
          8026.3,
          1772.34,
          27468.989999999998,
          1403.83,
          13382.95,
          963.51,
          9134.43,
          1810.18,
          3174.62,
          6137.01,
          317.81,
          1134.56,
          39001.21,
          5228.76,
          2093.08,
          1964.05,
          477.44,
          5731.72,
          1754.8,
          546.54,
          689.04,
          1777.81,
          1155.3700000000001,
          325.67,
          3028.0699999999997,
          1465.26,
          363.61,
          4019.44,
          823.54,
          7304.900000000001,
          449.7,
          729.26
         ],
         "yaxis": "y"
        }
       ],
       "layout": {
        "barmode": "relative",
        "legend": {
         "tracegroupgap": 0
        },
        "template": {
         "data": {
          "bar": [
           {
            "error_x": {
             "color": "#2a3f5f"
            },
            "error_y": {
             "color": "#2a3f5f"
            },
            "marker": {
             "line": {
              "color": "#E5ECF6",
              "width": 0.5
             },
             "pattern": {
              "fillmode": "overlay",
              "size": 10,
              "solidity": 0.2
             }
            },
            "type": "bar"
           }
          ],
          "barpolar": [
           {
            "marker": {
             "line": {
              "color": "#E5ECF6",
              "width": 0.5
             },
             "pattern": {
              "fillmode": "overlay",
              "size": 10,
              "solidity": 0.2
             }
            },
            "type": "barpolar"
           }
          ],
          "carpet": [
           {
            "aaxis": {
             "endlinecolor": "#2a3f5f",
             "gridcolor": "white",
             "linecolor": "white",
             "minorgridcolor": "white",
             "startlinecolor": "#2a3f5f"
            },
            "baxis": {
             "endlinecolor": "#2a3f5f",
             "gridcolor": "white",
             "linecolor": "white",
             "minorgridcolor": "white",
             "startlinecolor": "#2a3f5f"
            },
            "type": "carpet"
           }
          ],
          "choropleth": [
           {
            "colorbar": {
             "outlinewidth": 0,
             "ticks": ""
            },
            "type": "choropleth"
           }
          ],
          "contour": [
           {
            "colorbar": {
             "outlinewidth": 0,
             "ticks": ""
            },
            "colorscale": [
             [
              0,
              "#0d0887"
             ],
             [
              0.1111111111111111,
              "#46039f"
             ],
             [
              0.2222222222222222,
              "#7201a8"
             ],
             [
              0.3333333333333333,
              "#9c179e"
             ],
             [
              0.4444444444444444,
              "#bd3786"
             ],
             [
              0.5555555555555556,
              "#d8576b"
             ],
             [
              0.6666666666666666,
              "#ed7953"
             ],
             [
              0.7777777777777778,
              "#fb9f3a"
             ],
             [
              0.8888888888888888,
              "#fdca26"
             ],
             [
              1,
              "#f0f921"
             ]
            ],
            "type": "contour"
           }
          ],
          "contourcarpet": [
           {
            "colorbar": {
             "outlinewidth": 0,
             "ticks": ""
            },
            "type": "contourcarpet"
           }
          ],
          "heatmap": [
           {
            "colorbar": {
             "outlinewidth": 0,
             "ticks": ""
            },
            "colorscale": [
             [
              0,
              "#0d0887"
             ],
             [
              0.1111111111111111,
              "#46039f"
             ],
             [
              0.2222222222222222,
              "#7201a8"
             ],
             [
              0.3333333333333333,
              "#9c179e"
             ],
             [
              0.4444444444444444,
              "#bd3786"
             ],
             [
              0.5555555555555556,
              "#d8576b"
             ],
             [
              0.6666666666666666,
              "#ed7953"
             ],
             [
              0.7777777777777778,
              "#fb9f3a"
             ],
             [
              0.8888888888888888,
              "#fdca26"
             ],
             [
              1,
              "#f0f921"
             ]
            ],
            "type": "heatmap"
           }
          ],
          "heatmapgl": [
           {
            "colorbar": {
             "outlinewidth": 0,
             "ticks": ""
            },
            "colorscale": [
             [
              0,
              "#0d0887"
             ],
             [
              0.1111111111111111,
              "#46039f"
             ],
             [
              0.2222222222222222,
              "#7201a8"
             ],
             [
              0.3333333333333333,
              "#9c179e"
             ],
             [
              0.4444444444444444,
              "#bd3786"
             ],
             [
              0.5555555555555556,
              "#d8576b"
             ],
             [
              0.6666666666666666,
              "#ed7953"
             ],
             [
              0.7777777777777778,
              "#fb9f3a"
             ],
             [
              0.8888888888888888,
              "#fdca26"
             ],
             [
              1,
              "#f0f921"
             ]
            ],
            "type": "heatmapgl"
           }
          ],
          "histogram": [
           {
            "marker": {
             "pattern": {
              "fillmode": "overlay",
              "size": 10,
              "solidity": 0.2
             }
            },
            "type": "histogram"
           }
          ],
          "histogram2d": [
           {
            "colorbar": {
             "outlinewidth": 0,
             "ticks": ""
            },
            "colorscale": [
             [
              0,
              "#0d0887"
             ],
             [
              0.1111111111111111,
              "#46039f"
             ],
             [
              0.2222222222222222,
              "#7201a8"
             ],
             [
              0.3333333333333333,
              "#9c179e"
             ],
             [
              0.4444444444444444,
              "#bd3786"
             ],
             [
              0.5555555555555556,
              "#d8576b"
             ],
             [
              0.6666666666666666,
              "#ed7953"
             ],
             [
              0.7777777777777778,
              "#fb9f3a"
             ],
             [
              0.8888888888888888,
              "#fdca26"
             ],
             [
              1,
              "#f0f921"
             ]
            ],
            "type": "histogram2d"
           }
          ],
          "histogram2dcontour": [
           {
            "colorbar": {
             "outlinewidth": 0,
             "ticks": ""
            },
            "colorscale": [
             [
              0,
              "#0d0887"
             ],
             [
              0.1111111111111111,
              "#46039f"
             ],
             [
              0.2222222222222222,
              "#7201a8"
             ],
             [
              0.3333333333333333,
              "#9c179e"
             ],
             [
              0.4444444444444444,
              "#bd3786"
             ],
             [
              0.5555555555555556,
              "#d8576b"
             ],
             [
              0.6666666666666666,
              "#ed7953"
             ],
             [
              0.7777777777777778,
              "#fb9f3a"
             ],
             [
              0.8888888888888888,
              "#fdca26"
             ],
             [
              1,
              "#f0f921"
             ]
            ],
            "type": "histogram2dcontour"
           }
          ],
          "mesh3d": [
           {
            "colorbar": {
             "outlinewidth": 0,
             "ticks": ""
            },
            "type": "mesh3d"
           }
          ],
          "parcoords": [
           {
            "line": {
             "colorbar": {
              "outlinewidth": 0,
              "ticks": ""
             }
            },
            "type": "parcoords"
           }
          ],
          "pie": [
           {
            "automargin": true,
            "type": "pie"
           }
          ],
          "scatter": [
           {
            "fillpattern": {
             "fillmode": "overlay",
             "size": 10,
             "solidity": 0.2
            },
            "type": "scatter"
           }
          ],
          "scatter3d": [
           {
            "line": {
             "colorbar": {
              "outlinewidth": 0,
              "ticks": ""
             }
            },
            "marker": {
             "colorbar": {
              "outlinewidth": 0,
              "ticks": ""
             }
            },
            "type": "scatter3d"
           }
          ],
          "scattercarpet": [
           {
            "marker": {
             "colorbar": {
              "outlinewidth": 0,
              "ticks": ""
             }
            },
            "type": "scattercarpet"
           }
          ],
          "scattergeo": [
           {
            "marker": {
             "colorbar": {
              "outlinewidth": 0,
              "ticks": ""
             }
            },
            "type": "scattergeo"
           }
          ],
          "scattergl": [
           {
            "marker": {
             "colorbar": {
              "outlinewidth": 0,
              "ticks": ""
             }
            },
            "type": "scattergl"
           }
          ],
          "scattermapbox": [
           {
            "marker": {
             "colorbar": {
              "outlinewidth": 0,
              "ticks": ""
             }
            },
            "type": "scattermapbox"
           }
          ],
          "scatterpolar": [
           {
            "marker": {
             "colorbar": {
              "outlinewidth": 0,
              "ticks": ""
             }
            },
            "type": "scatterpolar"
           }
          ],
          "scatterpolargl": [
           {
            "marker": {
             "colorbar": {
              "outlinewidth": 0,
              "ticks": ""
             }
            },
            "type": "scatterpolargl"
           }
          ],
          "scatterternary": [
           {
            "marker": {
             "colorbar": {
              "outlinewidth": 0,
              "ticks": ""
             }
            },
            "type": "scatterternary"
           }
          ],
          "surface": [
           {
            "colorbar": {
             "outlinewidth": 0,
             "ticks": ""
            },
            "colorscale": [
             [
              0,
              "#0d0887"
             ],
             [
              0.1111111111111111,
              "#46039f"
             ],
             [
              0.2222222222222222,
              "#7201a8"
             ],
             [
              0.3333333333333333,
              "#9c179e"
             ],
             [
              0.4444444444444444,
              "#bd3786"
             ],
             [
              0.5555555555555556,
              "#d8576b"
             ],
             [
              0.6666666666666666,
              "#ed7953"
             ],
             [
              0.7777777777777778,
              "#fb9f3a"
             ],
             [
              0.8888888888888888,
              "#fdca26"
             ],
             [
              1,
              "#f0f921"
             ]
            ],
            "type": "surface"
           }
          ],
          "table": [
           {
            "cells": {
             "fill": {
              "color": "#EBF0F8"
             },
             "line": {
              "color": "white"
             }
            },
            "header": {
             "fill": {
              "color": "#C8D4E3"
             },
             "line": {
              "color": "white"
             }
            },
            "type": "table"
           }
          ]
         },
         "layout": {
          "annotationdefaults": {
           "arrowcolor": "#2a3f5f",
           "arrowhead": 0,
           "arrowwidth": 1
          },
          "autotypenumbers": "strict",
          "coloraxis": {
           "colorbar": {
            "outlinewidth": 0,
            "ticks": ""
           }
          },
          "colorscale": {
           "diverging": [
            [
             0,
             "#8e0152"
            ],
            [
             0.1,
             "#c51b7d"
            ],
            [
             0.2,
             "#de77ae"
            ],
            [
             0.3,
             "#f1b6da"
            ],
            [
             0.4,
             "#fde0ef"
            ],
            [
             0.5,
             "#f7f7f7"
            ],
            [
             0.6,
             "#e6f5d0"
            ],
            [
             0.7,
             "#b8e186"
            ],
            [
             0.8,
             "#7fbc41"
            ],
            [
             0.9,
             "#4d9221"
            ],
            [
             1,
             "#276419"
            ]
           ],
           "sequential": [
            [
             0,
             "#0d0887"
            ],
            [
             0.1111111111111111,
             "#46039f"
            ],
            [
             0.2222222222222222,
             "#7201a8"
            ],
            [
             0.3333333333333333,
             "#9c179e"
            ],
            [
             0.4444444444444444,
             "#bd3786"
            ],
            [
             0.5555555555555556,
             "#d8576b"
            ],
            [
             0.6666666666666666,
             "#ed7953"
            ],
            [
             0.7777777777777778,
             "#fb9f3a"
            ],
            [
             0.8888888888888888,
             "#fdca26"
            ],
            [
             1,
             "#f0f921"
            ]
           ],
           "sequentialminus": [
            [
             0,
             "#0d0887"
            ],
            [
             0.1111111111111111,
             "#46039f"
            ],
            [
             0.2222222222222222,
             "#7201a8"
            ],
            [
             0.3333333333333333,
             "#9c179e"
            ],
            [
             0.4444444444444444,
             "#bd3786"
            ],
            [
             0.5555555555555556,
             "#d8576b"
            ],
            [
             0.6666666666666666,
             "#ed7953"
            ],
            [
             0.7777777777777778,
             "#fb9f3a"
            ],
            [
             0.8888888888888888,
             "#fdca26"
            ],
            [
             1,
             "#f0f921"
            ]
           ]
          },
          "colorway": [
           "#636efa",
           "#EF553B",
           "#00cc96",
           "#ab63fa",
           "#FFA15A",
           "#19d3f3",
           "#FF6692",
           "#B6E880",
           "#FF97FF",
           "#FECB52"
          ],
          "font": {
           "color": "#2a3f5f"
          },
          "geo": {
           "bgcolor": "white",
           "lakecolor": "white",
           "landcolor": "#E5ECF6",
           "showlakes": true,
           "showland": true,
           "subunitcolor": "white"
          },
          "hoverlabel": {
           "align": "left"
          },
          "hovermode": "closest",
          "mapbox": {
           "style": "light"
          },
          "paper_bgcolor": "white",
          "plot_bgcolor": "#E5ECF6",
          "polar": {
           "angularaxis": {
            "gridcolor": "white",
            "linecolor": "white",
            "ticks": ""
           },
           "bgcolor": "#E5ECF6",
           "radialaxis": {
            "gridcolor": "white",
            "linecolor": "white",
            "ticks": ""
           }
          },
          "scene": {
           "xaxis": {
            "backgroundcolor": "#E5ECF6",
            "gridcolor": "white",
            "gridwidth": 2,
            "linecolor": "white",
            "showbackground": true,
            "ticks": "",
            "zerolinecolor": "white"
           },
           "yaxis": {
            "backgroundcolor": "#E5ECF6",
            "gridcolor": "white",
            "gridwidth": 2,
            "linecolor": "white",
            "showbackground": true,
            "ticks": "",
            "zerolinecolor": "white"
           },
           "zaxis": {
            "backgroundcolor": "#E5ECF6",
            "gridcolor": "white",
            "gridwidth": 2,
            "linecolor": "white",
            "showbackground": true,
            "ticks": "",
            "zerolinecolor": "white"
           }
          },
          "shapedefaults": {
           "line": {
            "color": "#2a3f5f"
           }
          },
          "ternary": {
           "aaxis": {
            "gridcolor": "white",
            "linecolor": "white",
            "ticks": ""
           },
           "baxis": {
            "gridcolor": "white",
            "linecolor": "white",
            "ticks": ""
           },
           "bgcolor": "#E5ECF6",
           "caxis": {
            "gridcolor": "white",
            "linecolor": "white",
            "ticks": ""
           }
          },
          "title": {
           "x": 0.05
          },
          "xaxis": {
           "automargin": true,
           "gridcolor": "white",
           "linecolor": "white",
           "ticks": "",
           "title": {
            "standoff": 15
           },
           "zerolinecolor": "white",
           "zerolinewidth": 2
          },
          "yaxis": {
           "automargin": true,
           "gridcolor": "white",
           "linecolor": "white",
           "ticks": "",
           "title": {
            "standoff": 15
           },
           "zerolinecolor": "white",
           "zerolinewidth": 2
          }
         }
        },
        "title": {
         "text": "Total de Vendas por Cliente"
        },
        "xaxis": {
         "anchor": "y",
         "domain": [
          0,
          1
         ],
         "title": {
          "text": "Cliente"
         }
        },
        "yaxis": {
         "anchor": "x",
         "domain": [
          0,
          1
         ],
         "title": {
          "text": "Total de Vendas"
         }
        }
       }
      }
     },
     "metadata": {},
     "output_type": "display_data"
    },
    {
     "data": {
      "application/vnd.plotly.v1+json": {
       "config": {
        "plotlyServerURL": "https://plot.ly"
       },
       "data": [
        {
         "alignmentgroup": "True",
         "hovertemplate": "Território=%{x}<br>Total de Vendas=%{y}<extra></extra>",
         "legendgroup": "",
         "marker": {
          "color": "#636efa",
          "pattern": {
           "shape": ""
          }
         },
         "name": "",
         "offsetgroup": "",
         "orientation": "v",
         "showlegend": false,
         "textposition": "auto",
         "type": "bar",
         "x": [
          "Atlanta                                           ",
          "Beachwood                                         ",
          "Bedford                                           ",
          "Bellevue                                          ",
          "Bloomfield Hills                                  ",
          "Boston                                            ",
          "Braintree                                         ",
          "Cambridge                                         ",
          "Campbell                                          ",
          "Cary                                              ",
          "Chicago                                           ",
          "Colorado Springs                                  ",
          "Denver                                            ",
          "Edison                                            ",
          "Fairport                                          ",
          "Findlay                                           ",
          "Georgetow                                         ",
          "Greensboro                                        ",
          "Hoffman Estates                                   ",
          "Hollis                                            ",
          "Louisville                                        ",
          "Mellvile                                          ",
          "Menlo Park                                        ",
          "Minneapolis                                       ",
          "Morristown                                        ",
          "New York                                          ",
          "Neward                                            ",
          "Orlando                                           ",
          "Philadelphia                                      ",
          "Phoenix                                           ",
          "Portsmouth                                        ",
          "Providence                                        ",
          "Racine                                            ",
          "Redmond                                           ",
          "Rockville                                         ",
          "Roseville                                         ",
          "San Francisco                                     ",
          "Santa Clara                                       ",
          "Santa Cruz                                        ",
          "Santa Monica                                      ",
          "Savannah                                          ",
          "Scottsdale                                        ",
          "Seattle                                           ",
          "Southfield                                        ",
          "Tampa                                             ",
          "Troy                                              ",
          "Westboro                                          ",
          "Wilton                                            "
         ],
         "xaxis": "x",
         "y": [
          10884.74,
          7487.88,
          8696.41,
          3780.47,
          3326.26,
          8696.41,
          8696.41,
          8696.41,
          6665.4400000000005,
          11346.14,
          6665.4400000000005,
          6665.4400000000005,
          6665.4400000000005,
          3918.71,
          3918.71,
          7487.88,
          8696.41,
          11346.14,
          6665.4400000000005,
          3326.26,
          8696.41,
          3918.71,
          6665.4400000000005,
          3326.26,
          3918.71,
          7837.42,
          8836.64,
          10884.74,
          7487.88,
          3780.47,
          3326.26,
          3918.71,
          7487.88,
          3780.47,
          11346.14,
          3326.26,
          6665.4400000000005,
          6665.4400000000005,
          6665.4400000000005,
          6665.4400000000005,
          10884.74,
          3780.47,
          3780.47,
          3326.26,
          10884.74,
          3326.26,
          8696.41,
          8836.64
         ],
         "yaxis": "y"
        }
       ],
       "layout": {
        "barmode": "relative",
        "legend": {
         "tracegroupgap": 0
        },
        "template": {
         "data": {
          "bar": [
           {
            "error_x": {
             "color": "#2a3f5f"
            },
            "error_y": {
             "color": "#2a3f5f"
            },
            "marker": {
             "line": {
              "color": "#E5ECF6",
              "width": 0.5
             },
             "pattern": {
              "fillmode": "overlay",
              "size": 10,
              "solidity": 0.2
             }
            },
            "type": "bar"
           }
          ],
          "barpolar": [
           {
            "marker": {
             "line": {
              "color": "#E5ECF6",
              "width": 0.5
             },
             "pattern": {
              "fillmode": "overlay",
              "size": 10,
              "solidity": 0.2
             }
            },
            "type": "barpolar"
           }
          ],
          "carpet": [
           {
            "aaxis": {
             "endlinecolor": "#2a3f5f",
             "gridcolor": "white",
             "linecolor": "white",
             "minorgridcolor": "white",
             "startlinecolor": "#2a3f5f"
            },
            "baxis": {
             "endlinecolor": "#2a3f5f",
             "gridcolor": "white",
             "linecolor": "white",
             "minorgridcolor": "white",
             "startlinecolor": "#2a3f5f"
            },
            "type": "carpet"
           }
          ],
          "choropleth": [
           {
            "colorbar": {
             "outlinewidth": 0,
             "ticks": ""
            },
            "type": "choropleth"
           }
          ],
          "contour": [
           {
            "colorbar": {
             "outlinewidth": 0,
             "ticks": ""
            },
            "colorscale": [
             [
              0,
              "#0d0887"
             ],
             [
              0.1111111111111111,
              "#46039f"
             ],
             [
              0.2222222222222222,
              "#7201a8"
             ],
             [
              0.3333333333333333,
              "#9c179e"
             ],
             [
              0.4444444444444444,
              "#bd3786"
             ],
             [
              0.5555555555555556,
              "#d8576b"
             ],
             [
              0.6666666666666666,
              "#ed7953"
             ],
             [
              0.7777777777777778,
              "#fb9f3a"
             ],
             [
              0.8888888888888888,
              "#fdca26"
             ],
             [
              1,
              "#f0f921"
             ]
            ],
            "type": "contour"
           }
          ],
          "contourcarpet": [
           {
            "colorbar": {
             "outlinewidth": 0,
             "ticks": ""
            },
            "type": "contourcarpet"
           }
          ],
          "heatmap": [
           {
            "colorbar": {
             "outlinewidth": 0,
             "ticks": ""
            },
            "colorscale": [
             [
              0,
              "#0d0887"
             ],
             [
              0.1111111111111111,
              "#46039f"
             ],
             [
              0.2222222222222222,
              "#7201a8"
             ],
             [
              0.3333333333333333,
              "#9c179e"
             ],
             [
              0.4444444444444444,
              "#bd3786"
             ],
             [
              0.5555555555555556,
              "#d8576b"
             ],
             [
              0.6666666666666666,
              "#ed7953"
             ],
             [
              0.7777777777777778,
              "#fb9f3a"
             ],
             [
              0.8888888888888888,
              "#fdca26"
             ],
             [
              1,
              "#f0f921"
             ]
            ],
            "type": "heatmap"
           }
          ],
          "heatmapgl": [
           {
            "colorbar": {
             "outlinewidth": 0,
             "ticks": ""
            },
            "colorscale": [
             [
              0,
              "#0d0887"
             ],
             [
              0.1111111111111111,
              "#46039f"
             ],
             [
              0.2222222222222222,
              "#7201a8"
             ],
             [
              0.3333333333333333,
              "#9c179e"
             ],
             [
              0.4444444444444444,
              "#bd3786"
             ],
             [
              0.5555555555555556,
              "#d8576b"
             ],
             [
              0.6666666666666666,
              "#ed7953"
             ],
             [
              0.7777777777777778,
              "#fb9f3a"
             ],
             [
              0.8888888888888888,
              "#fdca26"
             ],
             [
              1,
              "#f0f921"
             ]
            ],
            "type": "heatmapgl"
           }
          ],
          "histogram": [
           {
            "marker": {
             "pattern": {
              "fillmode": "overlay",
              "size": 10,
              "solidity": 0.2
             }
            },
            "type": "histogram"
           }
          ],
          "histogram2d": [
           {
            "colorbar": {
             "outlinewidth": 0,
             "ticks": ""
            },
            "colorscale": [
             [
              0,
              "#0d0887"
             ],
             [
              0.1111111111111111,
              "#46039f"
             ],
             [
              0.2222222222222222,
              "#7201a8"
             ],
             [
              0.3333333333333333,
              "#9c179e"
             ],
             [
              0.4444444444444444,
              "#bd3786"
             ],
             [
              0.5555555555555556,
              "#d8576b"
             ],
             [
              0.6666666666666666,
              "#ed7953"
             ],
             [
              0.7777777777777778,
              "#fb9f3a"
             ],
             [
              0.8888888888888888,
              "#fdca26"
             ],
             [
              1,
              "#f0f921"
             ]
            ],
            "type": "histogram2d"
           }
          ],
          "histogram2dcontour": [
           {
            "colorbar": {
             "outlinewidth": 0,
             "ticks": ""
            },
            "colorscale": [
             [
              0,
              "#0d0887"
             ],
             [
              0.1111111111111111,
              "#46039f"
             ],
             [
              0.2222222222222222,
              "#7201a8"
             ],
             [
              0.3333333333333333,
              "#9c179e"
             ],
             [
              0.4444444444444444,
              "#bd3786"
             ],
             [
              0.5555555555555556,
              "#d8576b"
             ],
             [
              0.6666666666666666,
              "#ed7953"
             ],
             [
              0.7777777777777778,
              "#fb9f3a"
             ],
             [
              0.8888888888888888,
              "#fdca26"
             ],
             [
              1,
              "#f0f921"
             ]
            ],
            "type": "histogram2dcontour"
           }
          ],
          "mesh3d": [
           {
            "colorbar": {
             "outlinewidth": 0,
             "ticks": ""
            },
            "type": "mesh3d"
           }
          ],
          "parcoords": [
           {
            "line": {
             "colorbar": {
              "outlinewidth": 0,
              "ticks": ""
             }
            },
            "type": "parcoords"
           }
          ],
          "pie": [
           {
            "automargin": true,
            "type": "pie"
           }
          ],
          "scatter": [
           {
            "fillpattern": {
             "fillmode": "overlay",
             "size": 10,
             "solidity": 0.2
            },
            "type": "scatter"
           }
          ],
          "scatter3d": [
           {
            "line": {
             "colorbar": {
              "outlinewidth": 0,
              "ticks": ""
             }
            },
            "marker": {
             "colorbar": {
              "outlinewidth": 0,
              "ticks": ""
             }
            },
            "type": "scatter3d"
           }
          ],
          "scattercarpet": [
           {
            "marker": {
             "colorbar": {
              "outlinewidth": 0,
              "ticks": ""
             }
            },
            "type": "scattercarpet"
           }
          ],
          "scattergeo": [
           {
            "marker": {
             "colorbar": {
              "outlinewidth": 0,
              "ticks": ""
             }
            },
            "type": "scattergeo"
           }
          ],
          "scattergl": [
           {
            "marker": {
             "colorbar": {
              "outlinewidth": 0,
              "ticks": ""
             }
            },
            "type": "scattergl"
           }
          ],
          "scattermapbox": [
           {
            "marker": {
             "colorbar": {
              "outlinewidth": 0,
              "ticks": ""
             }
            },
            "type": "scattermapbox"
           }
          ],
          "scatterpolar": [
           {
            "marker": {
             "colorbar": {
              "outlinewidth": 0,
              "ticks": ""
             }
            },
            "type": "scatterpolar"
           }
          ],
          "scatterpolargl": [
           {
            "marker": {
             "colorbar": {
              "outlinewidth": 0,
              "ticks": ""
             }
            },
            "type": "scatterpolargl"
           }
          ],
          "scatterternary": [
           {
            "marker": {
             "colorbar": {
              "outlinewidth": 0,
              "ticks": ""
             }
            },
            "type": "scatterternary"
           }
          ],
          "surface": [
           {
            "colorbar": {
             "outlinewidth": 0,
             "ticks": ""
            },
            "colorscale": [
             [
              0,
              "#0d0887"
             ],
             [
              0.1111111111111111,
              "#46039f"
             ],
             [
              0.2222222222222222,
              "#7201a8"
             ],
             [
              0.3333333333333333,
              "#9c179e"
             ],
             [
              0.4444444444444444,
              "#bd3786"
             ],
             [
              0.5555555555555556,
              "#d8576b"
             ],
             [
              0.6666666666666666,
              "#ed7953"
             ],
             [
              0.7777777777777778,
              "#fb9f3a"
             ],
             [
              0.8888888888888888,
              "#fdca26"
             ],
             [
              1,
              "#f0f921"
             ]
            ],
            "type": "surface"
           }
          ],
          "table": [
           {
            "cells": {
             "fill": {
              "color": "#EBF0F8"
             },
             "line": {
              "color": "white"
             }
            },
            "header": {
             "fill": {
              "color": "#C8D4E3"
             },
             "line": {
              "color": "white"
             }
            },
            "type": "table"
           }
          ]
         },
         "layout": {
          "annotationdefaults": {
           "arrowcolor": "#2a3f5f",
           "arrowhead": 0,
           "arrowwidth": 1
          },
          "autotypenumbers": "strict",
          "coloraxis": {
           "colorbar": {
            "outlinewidth": 0,
            "ticks": ""
           }
          },
          "colorscale": {
           "diverging": [
            [
             0,
             "#8e0152"
            ],
            [
             0.1,
             "#c51b7d"
            ],
            [
             0.2,
             "#de77ae"
            ],
            [
             0.3,
             "#f1b6da"
            ],
            [
             0.4,
             "#fde0ef"
            ],
            [
             0.5,
             "#f7f7f7"
            ],
            [
             0.6,
             "#e6f5d0"
            ],
            [
             0.7,
             "#b8e186"
            ],
            [
             0.8,
             "#7fbc41"
            ],
            [
             0.9,
             "#4d9221"
            ],
            [
             1,
             "#276419"
            ]
           ],
           "sequential": [
            [
             0,
             "#0d0887"
            ],
            [
             0.1111111111111111,
             "#46039f"
            ],
            [
             0.2222222222222222,
             "#7201a8"
            ],
            [
             0.3333333333333333,
             "#9c179e"
            ],
            [
             0.4444444444444444,
             "#bd3786"
            ],
            [
             0.5555555555555556,
             "#d8576b"
            ],
            [
             0.6666666666666666,
             "#ed7953"
            ],
            [
             0.7777777777777778,
             "#fb9f3a"
            ],
            [
             0.8888888888888888,
             "#fdca26"
            ],
            [
             1,
             "#f0f921"
            ]
           ],
           "sequentialminus": [
            [
             0,
             "#0d0887"
            ],
            [
             0.1111111111111111,
             "#46039f"
            ],
            [
             0.2222222222222222,
             "#7201a8"
            ],
            [
             0.3333333333333333,
             "#9c179e"
            ],
            [
             0.4444444444444444,
             "#bd3786"
            ],
            [
             0.5555555555555556,
             "#d8576b"
            ],
            [
             0.6666666666666666,
             "#ed7953"
            ],
            [
             0.7777777777777778,
             "#fb9f3a"
            ],
            [
             0.8888888888888888,
             "#fdca26"
            ],
            [
             1,
             "#f0f921"
            ]
           ]
          },
          "colorway": [
           "#636efa",
           "#EF553B",
           "#00cc96",
           "#ab63fa",
           "#FFA15A",
           "#19d3f3",
           "#FF6692",
           "#B6E880",
           "#FF97FF",
           "#FECB52"
          ],
          "font": {
           "color": "#2a3f5f"
          },
          "geo": {
           "bgcolor": "white",
           "lakecolor": "white",
           "landcolor": "#E5ECF6",
           "showlakes": true,
           "showland": true,
           "subunitcolor": "white"
          },
          "hoverlabel": {
           "align": "left"
          },
          "hovermode": "closest",
          "mapbox": {
           "style": "light"
          },
          "paper_bgcolor": "white",
          "plot_bgcolor": "#E5ECF6",
          "polar": {
           "angularaxis": {
            "gridcolor": "white",
            "linecolor": "white",
            "ticks": ""
           },
           "bgcolor": "#E5ECF6",
           "radialaxis": {
            "gridcolor": "white",
            "linecolor": "white",
            "ticks": ""
           }
          },
          "scene": {
           "xaxis": {
            "backgroundcolor": "#E5ECF6",
            "gridcolor": "white",
            "gridwidth": 2,
            "linecolor": "white",
            "showbackground": true,
            "ticks": "",
            "zerolinecolor": "white"
           },
           "yaxis": {
            "backgroundcolor": "#E5ECF6",
            "gridcolor": "white",
            "gridwidth": 2,
            "linecolor": "white",
            "showbackground": true,
            "ticks": "",
            "zerolinecolor": "white"
           },
           "zaxis": {
            "backgroundcolor": "#E5ECF6",
            "gridcolor": "white",
            "gridwidth": 2,
            "linecolor": "white",
            "showbackground": true,
            "ticks": "",
            "zerolinecolor": "white"
           }
          },
          "shapedefaults": {
           "line": {
            "color": "#2a3f5f"
           }
          },
          "ternary": {
           "aaxis": {
            "gridcolor": "white",
            "linecolor": "white",
            "ticks": ""
           },
           "baxis": {
            "gridcolor": "white",
            "linecolor": "white",
            "ticks": ""
           },
           "bgcolor": "#E5ECF6",
           "caxis": {
            "gridcolor": "white",
            "linecolor": "white",
            "ticks": ""
           }
          },
          "title": {
           "x": 0.05
          },
          "xaxis": {
           "automargin": true,
           "gridcolor": "white",
           "linecolor": "white",
           "ticks": "",
           "title": {
            "standoff": 15
           },
           "zerolinecolor": "white",
           "zerolinewidth": 2
          },
          "yaxis": {
           "automargin": true,
           "gridcolor": "white",
           "linecolor": "white",
           "ticks": "",
           "title": {
            "standoff": 15
           },
           "zerolinecolor": "white",
           "zerolinewidth": 2
          }
         }
        },
        "title": {
         "text": "Total de Vendas por Território"
        },
        "xaxis": {
         "anchor": "y",
         "domain": [
          0,
          1
         ],
         "title": {
          "text": "Território"
         }
        },
        "yaxis": {
         "anchor": "x",
         "domain": [
          0,
          1
         ],
         "title": {
          "text": "Total de Vendas"
         }
        }
       }
      }
     },
     "metadata": {},
     "output_type": "display_data"
    },
    {
     "data": {
      "application/vnd.plotly.v1+json": {
       "config": {
        "plotlyServerURL": "https://plot.ly"
       },
       "data": [
        {
         "hovertemplate": "Data do Pedido=%{x}<br>Total de Vendas=%{y}<extra></extra>",
         "legendgroup": "",
         "line": {
          "color": "#636efa",
          "dash": "solid"
         },
         "marker": {
          "symbol": "circle"
         },
         "mode": "lines",
         "name": "",
         "orientation": "v",
         "showlegend": false,
         "type": "scatter",
         "x": [
          "1996-07-04",
          "1996-07-05",
          "1996-07-08",
          "1996-07-09",
          "1996-07-10",
          "1996-07-11",
          "1996-07-12",
          "1996-07-15",
          "1996-07-16",
          "1996-07-17",
          "1996-07-18",
          "1996-07-19",
          "1996-07-22",
          "1996-07-23",
          "1996-07-24",
          "1996-07-25",
          "1996-07-26",
          "1996-07-29",
          "1996-07-30",
          "1996-07-31",
          "1996-08-01",
          "1996-08-02",
          "1996-08-05",
          "1996-08-06",
          "1996-08-07",
          "1996-08-08",
          "1996-08-09",
          "1996-08-12",
          "1996-08-13",
          "1996-08-14",
          "1996-08-15",
          "1996-08-16",
          "1996-08-19",
          "1996-08-20",
          "1996-08-21",
          "1996-08-22",
          "1996-08-23",
          "1996-08-26",
          "1996-08-27",
          "1996-08-28",
          "1996-08-29",
          "1996-08-30",
          "1996-09-02",
          "1996-09-03",
          "1996-09-04",
          "1996-09-05",
          "1996-09-06",
          "1996-09-09",
          "1996-09-10",
          "1996-09-11",
          "1996-09-12",
          "1996-09-13",
          "1996-09-16",
          "1996-09-17",
          "1996-09-18",
          "1996-09-19",
          "1996-09-20",
          "1996-09-23",
          "1996-09-24",
          "1996-09-25",
          "1996-09-26",
          "1996-09-27",
          "1996-09-30",
          "1996-10-01",
          "1996-10-02",
          "1996-10-03",
          "1996-10-04",
          "1996-10-07",
          "1996-10-08",
          "1996-10-09",
          "1996-10-10",
          "1996-10-11",
          "1996-10-14",
          "1996-10-15",
          "1996-10-16",
          "1996-10-17",
          "1996-10-18",
          "1996-10-21",
          "1996-10-22",
          "1996-10-23",
          "1996-10-24",
          "1996-10-25",
          "1996-10-28",
          "1996-10-29",
          "1996-10-30",
          "1996-10-31",
          "1996-11-01",
          "1996-11-04",
          "1996-11-05",
          "1996-11-06",
          "1996-11-07",
          "1996-11-08",
          "1996-11-11",
          "1996-11-12",
          "1996-11-13",
          "1996-11-14",
          "1996-11-15",
          "1996-11-18",
          "1996-11-19",
          "1996-11-20",
          "1996-11-21",
          "1996-11-22",
          "1996-11-25",
          "1996-11-26",
          "1996-11-27",
          "1996-11-28",
          "1996-11-29",
          "1996-12-02",
          "1996-12-03",
          "1996-12-04",
          "1996-12-05",
          "1996-12-06",
          "1996-12-09",
          "1996-12-10",
          "1996-12-11",
          "1996-12-12",
          "1996-12-13",
          "1996-12-16",
          "1996-12-17",
          "1996-12-18",
          "1996-12-19",
          "1996-12-20",
          "1996-12-23",
          "1996-12-24",
          "1996-12-25",
          "1996-12-26",
          "1996-12-27",
          "1996-12-30",
          "1996-12-31",
          "1997-01-01",
          "1997-01-02",
          "1997-01-03",
          "1997-01-06",
          "1997-01-07",
          "1997-01-08",
          "1997-01-09",
          "1997-01-10",
          "1997-01-13",
          "1997-01-14",
          "1997-01-15",
          "1997-01-16",
          "1997-01-17",
          "1997-01-20",
          "1997-01-21",
          "1997-01-22",
          "1997-01-23",
          "1997-01-24",
          "1997-01-27",
          "1997-01-28",
          "1997-01-29",
          "1997-01-30",
          "1997-01-31",
          "1997-02-03",
          "1997-02-04",
          "1997-02-05",
          "1997-02-06",
          "1997-02-07",
          "1997-02-10",
          "1997-02-11",
          "1997-02-12",
          "1997-02-13",
          "1997-02-14",
          "1997-02-17",
          "1997-02-18",
          "1997-02-19",
          "1997-02-20",
          "1997-02-21",
          "1997-02-24",
          "1997-02-25",
          "1997-02-26",
          "1997-02-27",
          "1997-02-28",
          "1997-03-03",
          "1997-03-04",
          "1997-03-05",
          "1997-03-06",
          "1997-03-07",
          "1997-03-10",
          "1997-03-11",
          "1997-03-12",
          "1997-03-13",
          "1997-03-14",
          "1997-03-17",
          "1997-03-18",
          "1997-03-19",
          "1997-03-20",
          "1997-03-21",
          "1997-03-24",
          "1997-03-25",
          "1997-03-26",
          "1997-03-27",
          "1997-03-28",
          "1997-03-31",
          "1997-04-01",
          "1997-04-02",
          "1997-04-03",
          "1997-04-04",
          "1997-04-07",
          "1997-04-08",
          "1997-04-09",
          "1997-04-10",
          "1997-04-11",
          "1997-04-14",
          "1997-04-15",
          "1997-04-16",
          "1997-04-17",
          "1997-04-18",
          "1997-04-21",
          "1997-04-22",
          "1997-04-23",
          "1997-04-24",
          "1997-04-25",
          "1997-04-28",
          "1997-04-29",
          "1997-04-30",
          "1997-05-01",
          "1997-05-02",
          "1997-05-05",
          "1997-05-06",
          "1997-05-07",
          "1997-05-08",
          "1997-05-09",
          "1997-05-12",
          "1997-05-13",
          "1997-05-14",
          "1997-05-15",
          "1997-05-16",
          "1997-05-19",
          "1997-05-20",
          "1997-05-21",
          "1997-05-22",
          "1997-05-23",
          "1997-05-26",
          "1997-05-27",
          "1997-05-28",
          "1997-05-29",
          "1997-05-30",
          "1997-06-02",
          "1997-06-03",
          "1997-06-04",
          "1997-06-05",
          "1997-06-06",
          "1997-06-09",
          "1997-06-10",
          "1997-06-11",
          "1997-06-12",
          "1997-06-13",
          "1997-06-16",
          "1997-06-17",
          "1997-06-18",
          "1997-06-19",
          "1997-06-20",
          "1997-06-23",
          "1997-06-24",
          "1997-06-25",
          "1997-06-26",
          "1997-06-27",
          "1997-06-30",
          "1997-07-01",
          "1997-07-02",
          "1997-07-03",
          "1997-07-04",
          "1997-07-07",
          "1997-07-08",
          "1997-07-09",
          "1997-07-10",
          "1997-07-11",
          "1997-07-14",
          "1997-07-15",
          "1997-07-16",
          "1997-07-17",
          "1997-07-18",
          "1997-07-21",
          "1997-07-22",
          "1997-07-23",
          "1997-07-24",
          "1997-07-25",
          "1997-07-28",
          "1997-07-29",
          "1997-07-30",
          "1997-07-31",
          "1997-08-01",
          "1997-08-04",
          "1997-08-05",
          "1997-08-06",
          "1997-08-07",
          "1997-08-08",
          "1997-08-11",
          "1997-08-12",
          "1997-08-13",
          "1997-08-14",
          "1997-08-15",
          "1997-08-18",
          "1997-08-19",
          "1997-08-20",
          "1997-08-21",
          "1997-08-22",
          "1997-08-25",
          "1997-08-26",
          "1997-08-27",
          "1997-08-28",
          "1997-08-29",
          "1997-09-01",
          "1997-09-02",
          "1997-09-03",
          "1997-09-04",
          "1997-09-05",
          "1997-09-08",
          "1997-09-09",
          "1997-09-10",
          "1997-09-11",
          "1997-09-12",
          "1997-09-15",
          "1997-09-16",
          "1997-09-17",
          "1997-09-18",
          "1997-09-19",
          "1997-09-22",
          "1997-09-23",
          "1997-09-24",
          "1997-09-25",
          "1997-09-26",
          "1997-09-29",
          "1997-09-30",
          "1997-10-01",
          "1997-10-02",
          "1997-10-03",
          "1997-10-06",
          "1997-10-07",
          "1997-10-08",
          "1997-10-09",
          "1997-10-10",
          "1997-10-13",
          "1997-10-14",
          "1997-10-15",
          "1997-10-16",
          "1997-10-17",
          "1997-10-20",
          "1997-10-21",
          "1997-10-22",
          "1997-10-23",
          "1997-10-24",
          "1997-10-27",
          "1997-10-28",
          "1997-10-29",
          "1997-10-30",
          "1997-10-31",
          "1997-11-03",
          "1997-11-04",
          "1997-11-05",
          "1997-11-06",
          "1997-11-07",
          "1997-11-10",
          "1997-11-11",
          "1997-11-12",
          "1997-11-13",
          "1997-11-14",
          "1997-11-17",
          "1997-11-18",
          "1997-11-19",
          "1997-11-20",
          "1997-11-21",
          "1997-11-24",
          "1997-11-25",
          "1997-11-26",
          "1997-11-27",
          "1997-11-28",
          "1997-12-01",
          "1997-12-02",
          "1997-12-03",
          "1997-12-04",
          "1997-12-05",
          "1997-12-08",
          "1997-12-09",
          "1997-12-10",
          "1997-12-11",
          "1997-12-12",
          "1997-12-15",
          "1997-12-16",
          "1997-12-17",
          "1997-12-18",
          "1997-12-19",
          "1997-12-22",
          "1997-12-23",
          "1997-12-24",
          "1997-12-25",
          "1997-12-26",
          "1997-12-29",
          "1997-12-30",
          "1997-12-31",
          "1998-01-01",
          "1998-01-02",
          "1998-01-05",
          "1998-01-06",
          "1998-01-07",
          "1998-01-08",
          "1998-01-09",
          "1998-01-12",
          "1998-01-13",
          "1998-01-14",
          "1998-01-15",
          "1998-01-16",
          "1998-01-19",
          "1998-01-20",
          "1998-01-21",
          "1998-01-22",
          "1998-01-23",
          "1998-01-26",
          "1998-01-27",
          "1998-01-28",
          "1998-01-29",
          "1998-01-30",
          "1998-02-02",
          "1998-02-03",
          "1998-02-04",
          "1998-02-05",
          "1998-02-06",
          "1998-02-09",
          "1998-02-10",
          "1998-02-11",
          "1998-02-12",
          "1998-02-13",
          "1998-02-16",
          "1998-02-17",
          "1998-02-18",
          "1998-02-19",
          "1998-02-20",
          "1998-02-23",
          "1998-02-24",
          "1998-02-25",
          "1998-02-26",
          "1998-02-27",
          "1998-03-02",
          "1998-03-03",
          "1998-03-04",
          "1998-03-05",
          "1998-03-06",
          "1998-03-09",
          "1998-03-10",
          "1998-03-11",
          "1998-03-12",
          "1998-03-13",
          "1998-03-16",
          "1998-03-17",
          "1998-03-18",
          "1998-03-19",
          "1998-03-20",
          "1998-03-23",
          "1998-03-24",
          "1998-03-25",
          "1998-03-26",
          "1998-03-27",
          "1998-03-30",
          "1998-03-31",
          "1998-04-01",
          "1998-04-02",
          "1998-04-03",
          "1998-04-06",
          "1998-04-07",
          "1998-04-08",
          "1998-04-09",
          "1998-04-10",
          "1998-04-13",
          "1998-04-14",
          "1998-04-15",
          "1998-04-16",
          "1998-04-17",
          "1998-04-20",
          "1998-04-21",
          "1998-04-22",
          "1998-04-23",
          "1998-04-24",
          "1998-04-27",
          "1998-04-28",
          "1998-04-29",
          "1998-04-30",
          "1998-05-01",
          "1998-05-04",
          "1998-05-05",
          "1998-05-06"
         ],
         "xaxis": "x",
         "y": [
          226.66000000000003,
          58.05,
          362.85,
          153.89999999999998,
          232.68,
          160.86,
          1038.3100000000002,
          55.88,
          245.73,
          281.02,
          9.75,
          174.42000000000002,
          193.16,
          1022.4200000000001,
          18.35,
          386.96000000000004,
          102.92,
          625.74,
          265.16,
          31.919999999999998,
          295.78,
          490.15,
          304.28,
          30.049999999999997,
          53.86,
          55.36,
          880.39,
          370.76,
          103.32,
          71.68,
          38.07,
          339.24,
          229.68,
          153.66,
          916.96,
          51.04,
          22.35,
          227.7,
          350.8,
          2.7,
          42.36,
          441.78,
          8.049999999999999,
          0.6,
          40.18,
          841.1,
          89.28,
          304.08,
          18.81,
          1078.3,
          127.58,
          1030.48,
          15.12,
          3.9200000000000004,
          16.1,
          189.2,
          119.46000000000001,
          281.82,
          13.719999999999999,
          148.32,
          125.28,
          300.3,
          63.449999999999996,
          18.92,
          645,
          255.71,
          4,
          14.64,
          1499.89,
          129.72,
          233.76,
          443.52,
          261.09000000000003,
          575.01,
          122.33,
          211.36,
          4.13,
          34.24,
          421.1,
          155.1,
          324.78000000000003,
          252.63,
          109.62,
          600.4200000000001,
          164.49,
          331.11,
          69.87,
          1743.42,
          568.32,
          9.3,
          2.34,
          86.30000000000001,
          645.61,
          5.2,
          3606.3,
          215.2,
          209.75,
          183.55,
          69.76,
          137.48000000000002,
          2019.01,
          761.4399999999999,
          384.16,
          235.56,
          88,
          176.06,
          713.65,
          782.72,
          6.75,
          6235.46,
          380.24,
          80.48,
          85.2,
          38.080000000000005,
          315.21000000000004,
          172.08,
          284.31,
          811.52,
          61.92,
          285.19,
          244.01999999999998,
          142.26,
          653.6999999999999,
          857.2199999999999,
          313.8,
          922.05,
          692.52,
          624.12,
          109.44,
          192.88000000000002,
          271.52,
          1313.16,
          69.64,
          1720.76,
          45.04,
          119.32,
          175.14999999999998,
          15.08,
          533,
          0.8,
          301.75,
          52.650000000000006,
          412.04999999999995,
          573.4,
          21.14,
          3828.6000000000004,
          39.65,
          149.94,
          110.9,
          226.52,
          1508.85,
          17.36,
          367,
          36.84,
          706.52,
          32.96,
          20.35,
          551.67,
          191.76,
          69.8,
          37.2,
          279.38,
          116.46000000000001,
          213.2,
          596.19,
          561.04,
          58.94,
          721.8,
          113.47,
          1470.6,
          75.27,
          362.3,
          43.19,
          370.46,
          290.08,
          55.51,
          176.48,
          120.36,
          512.8100000000001,
          16.8,
          617.17,
          479.64,
          108.78,
          33.669999999999995,
          2835.8,
          264.07,
          14.96,
          180.32,
          193.35000000000002,
          558.55,
          19.72,
          26.45,
          2169.74,
          251.56,
          229.89,
          18.6,
          829.8000000000001,
          119,
          306.06,
          275.35,
          485.23999999999995,
          261.09000000000003,
          28.52,
          622.83,
          9.98,
          0.44999999999999996,
          2890.0699999999997,
          35.3,
          4216.3,
          1431.29,
          567.74,
          654.45,
          458.8,
          202.57999999999998,
          135.99,
          1265.8799999999999,
          22.12,
          594.77,
          16.75,
          466.83,
          1438.0800000000002,
          744.5999999999999,
          863.92,
          46.92,
          393.22,
          34.09,
          61.8,
          4511.11,
          21.9,
          267.41,
          47.68,
          1103.16,
          5.72,
          1198.68,
          262.05,
          582.54,
          1409.3400000000001,
          1262.45,
          745.64,
          145.94,
          40.25,
          1842.0700000000002,
          45.9,
          464.26,
          28.6,
          686.74,
          26.16,
          412.85999999999996,
          860.2,
          465.72,
          961.2,
          891.38,
          252.10999999999999,
          88.80000000000001,
          27.46,
          239.71,
          110.84,
          228.38,
          134.1,
          128.4,
          1362.6899999999998,
          17.68,
          246.15,
          128.4,
          1762.9599999999998,
          677.46,
          416.55999999999995,
          88.84,
          149.9,
          718.39,
          11.68,
          210,
          758.26,
          1639.88,
          83.37,
          18.5,
          510.37,
          1088.16,
          32.05,
          5.25,
          288.65,
          309.36,
          364.2,
          77.77,
          152.91,
          673.12,
          175.6,
          707.22,
          347.46,
          64.7,
          169,
          6241.139999999999,
          189.84,
          1009.9,
          1020.16,
          70.65,
          957.73,
          147.86,
          37.230000000000004,
          1132.93,
          143.15,
          1237.67,
          103.82000000000001,
          573.3199999999999,
          8.82,
          2754.58,
          2150.55,
          445.16,
          180.62,
          794.59,
          52.62,
          3105.1,
          265.17,
          610.4399999999999,
          730.9300000000001,
          162.02,
          222.95000000000002,
          22.13,
          4001.5600000000004,
          53.22,
          449.03999999999996,
          613.3199999999999,
          101.25,
          2750.51,
          924.1099999999999,
          31.6,
          5853.41,
          2150.8,
          167.2,
          592.28,
          819.7300000000001,
          260.4,
          1173.3700000000001,
          785.4000000000001,
          24.64,
          607.74,
          436.40000000000003,
          9.96,
          726.59,
          505.53000000000003,
          252.8,
          186.21,
          547.52,
          38.12,
          640.76,
          317.88,
          32.49,
          678.98,
          739.23,
          140.84,
          1034.38,
          231.63,
          229.85,
          363.23,
          64.69,
          245.64,
          1007.8,
          393.39,
          24.64,
          649.51,
          1114.79,
          555.1,
          532.89,
          42.7,
          50.13,
          333.78999999999996,
          600.64,
          466.91999999999996,
          1445.58,
          876.65,
          170.96,
          477.42,
          845.52,
          21.28,
          443.45,
          337.46000000000004,
          202.5,
          733.16,
          554.59,
          519.8199999999999,
          588.23,
          2192.9900000000002,
          427.75,
          131.83,
          632.17,
          439.58000000000004,
          506.51,
          1063.05,
          1963.72,
          92.52,
          397.72,
          543.34,
          720.86,
          3383.62,
          943.2,
          108.36,
          1311.21,
          162.53,
          1964.48,
          591.5799999999999,
          556.0699999999999,
          4212.04,
          386.97,
          3078.94,
          980.5799999999999,
          1857.93,
          484.70000000000005,
          1820.0500000000002,
          1461.57,
          989.12,
          596.81,
          257.71,
          2536.88,
          773.42,
          2999.94,
          2013.1299999999999,
          236.63,
          680.32,
          1054.17,
          77.82000000000001,
          303.23,
          14.98,
          2395.61,
          564.51,
          1427.72,
          2738.66,
          15.6,
          274.57,
          894.68,
          124.82,
          4599.48,
          258.06,
          358.79,
          1563.57,
          734.9200000000001,
          231.74,
          896.7599999999999,
          405.53,
          976.97,
          4219.34,
          349.66,
          627.68,
          467.83,
          431.65999999999997,
          941.94,
          1548.26,
          1152.99,
          585.16,
          1041.77,
          192.32,
          2476.02,
          5091.37,
          1934.45,
          1229.8,
          996.93,
          554.07,
          858.63,
          2250.06,
          285.37,
          2017.33,
          922.64,
          434.14,
          5330.62,
          1783.37,
          510.20000000000005,
          455.69,
          14534.33,
          760.35,
          221.18,
          520.93,
          665.62,
          740.76,
          905.93,
          2326.36,
          835.1,
          535.6,
          559.02,
          374.3,
          1904.43,
          341.06
         ],
         "yaxis": "y"
        }
       ],
       "layout": {
        "legend": {
         "tracegroupgap": 0
        },
        "template": {
         "data": {
          "bar": [
           {
            "error_x": {
             "color": "#2a3f5f"
            },
            "error_y": {
             "color": "#2a3f5f"
            },
            "marker": {
             "line": {
              "color": "#E5ECF6",
              "width": 0.5
             },
             "pattern": {
              "fillmode": "overlay",
              "size": 10,
              "solidity": 0.2
             }
            },
            "type": "bar"
           }
          ],
          "barpolar": [
           {
            "marker": {
             "line": {
              "color": "#E5ECF6",
              "width": 0.5
             },
             "pattern": {
              "fillmode": "overlay",
              "size": 10,
              "solidity": 0.2
             }
            },
            "type": "barpolar"
           }
          ],
          "carpet": [
           {
            "aaxis": {
             "endlinecolor": "#2a3f5f",
             "gridcolor": "white",
             "linecolor": "white",
             "minorgridcolor": "white",
             "startlinecolor": "#2a3f5f"
            },
            "baxis": {
             "endlinecolor": "#2a3f5f",
             "gridcolor": "white",
             "linecolor": "white",
             "minorgridcolor": "white",
             "startlinecolor": "#2a3f5f"
            },
            "type": "carpet"
           }
          ],
          "choropleth": [
           {
            "colorbar": {
             "outlinewidth": 0,
             "ticks": ""
            },
            "type": "choropleth"
           }
          ],
          "contour": [
           {
            "colorbar": {
             "outlinewidth": 0,
             "ticks": ""
            },
            "colorscale": [
             [
              0,
              "#0d0887"
             ],
             [
              0.1111111111111111,
              "#46039f"
             ],
             [
              0.2222222222222222,
              "#7201a8"
             ],
             [
              0.3333333333333333,
              "#9c179e"
             ],
             [
              0.4444444444444444,
              "#bd3786"
             ],
             [
              0.5555555555555556,
              "#d8576b"
             ],
             [
              0.6666666666666666,
              "#ed7953"
             ],
             [
              0.7777777777777778,
              "#fb9f3a"
             ],
             [
              0.8888888888888888,
              "#fdca26"
             ],
             [
              1,
              "#f0f921"
             ]
            ],
            "type": "contour"
           }
          ],
          "contourcarpet": [
           {
            "colorbar": {
             "outlinewidth": 0,
             "ticks": ""
            },
            "type": "contourcarpet"
           }
          ],
          "heatmap": [
           {
            "colorbar": {
             "outlinewidth": 0,
             "ticks": ""
            },
            "colorscale": [
             [
              0,
              "#0d0887"
             ],
             [
              0.1111111111111111,
              "#46039f"
             ],
             [
              0.2222222222222222,
              "#7201a8"
             ],
             [
              0.3333333333333333,
              "#9c179e"
             ],
             [
              0.4444444444444444,
              "#bd3786"
             ],
             [
              0.5555555555555556,
              "#d8576b"
             ],
             [
              0.6666666666666666,
              "#ed7953"
             ],
             [
              0.7777777777777778,
              "#fb9f3a"
             ],
             [
              0.8888888888888888,
              "#fdca26"
             ],
             [
              1,
              "#f0f921"
             ]
            ],
            "type": "heatmap"
           }
          ],
          "heatmapgl": [
           {
            "colorbar": {
             "outlinewidth": 0,
             "ticks": ""
            },
            "colorscale": [
             [
              0,
              "#0d0887"
             ],
             [
              0.1111111111111111,
              "#46039f"
             ],
             [
              0.2222222222222222,
              "#7201a8"
             ],
             [
              0.3333333333333333,
              "#9c179e"
             ],
             [
              0.4444444444444444,
              "#bd3786"
             ],
             [
              0.5555555555555556,
              "#d8576b"
             ],
             [
              0.6666666666666666,
              "#ed7953"
             ],
             [
              0.7777777777777778,
              "#fb9f3a"
             ],
             [
              0.8888888888888888,
              "#fdca26"
             ],
             [
              1,
              "#f0f921"
             ]
            ],
            "type": "heatmapgl"
           }
          ],
          "histogram": [
           {
            "marker": {
             "pattern": {
              "fillmode": "overlay",
              "size": 10,
              "solidity": 0.2
             }
            },
            "type": "histogram"
           }
          ],
          "histogram2d": [
           {
            "colorbar": {
             "outlinewidth": 0,
             "ticks": ""
            },
            "colorscale": [
             [
              0,
              "#0d0887"
             ],
             [
              0.1111111111111111,
              "#46039f"
             ],
             [
              0.2222222222222222,
              "#7201a8"
             ],
             [
              0.3333333333333333,
              "#9c179e"
             ],
             [
              0.4444444444444444,
              "#bd3786"
             ],
             [
              0.5555555555555556,
              "#d8576b"
             ],
             [
              0.6666666666666666,
              "#ed7953"
             ],
             [
              0.7777777777777778,
              "#fb9f3a"
             ],
             [
              0.8888888888888888,
              "#fdca26"
             ],
             [
              1,
              "#f0f921"
             ]
            ],
            "type": "histogram2d"
           }
          ],
          "histogram2dcontour": [
           {
            "colorbar": {
             "outlinewidth": 0,
             "ticks": ""
            },
            "colorscale": [
             [
              0,
              "#0d0887"
             ],
             [
              0.1111111111111111,
              "#46039f"
             ],
             [
              0.2222222222222222,
              "#7201a8"
             ],
             [
              0.3333333333333333,
              "#9c179e"
             ],
             [
              0.4444444444444444,
              "#bd3786"
             ],
             [
              0.5555555555555556,
              "#d8576b"
             ],
             [
              0.6666666666666666,
              "#ed7953"
             ],
             [
              0.7777777777777778,
              "#fb9f3a"
             ],
             [
              0.8888888888888888,
              "#fdca26"
             ],
             [
              1,
              "#f0f921"
             ]
            ],
            "type": "histogram2dcontour"
           }
          ],
          "mesh3d": [
           {
            "colorbar": {
             "outlinewidth": 0,
             "ticks": ""
            },
            "type": "mesh3d"
           }
          ],
          "parcoords": [
           {
            "line": {
             "colorbar": {
              "outlinewidth": 0,
              "ticks": ""
             }
            },
            "type": "parcoords"
           }
          ],
          "pie": [
           {
            "automargin": true,
            "type": "pie"
           }
          ],
          "scatter": [
           {
            "fillpattern": {
             "fillmode": "overlay",
             "size": 10,
             "solidity": 0.2
            },
            "type": "scatter"
           }
          ],
          "scatter3d": [
           {
            "line": {
             "colorbar": {
              "outlinewidth": 0,
              "ticks": ""
             }
            },
            "marker": {
             "colorbar": {
              "outlinewidth": 0,
              "ticks": ""
             }
            },
            "type": "scatter3d"
           }
          ],
          "scattercarpet": [
           {
            "marker": {
             "colorbar": {
              "outlinewidth": 0,
              "ticks": ""
             }
            },
            "type": "scattercarpet"
           }
          ],
          "scattergeo": [
           {
            "marker": {
             "colorbar": {
              "outlinewidth": 0,
              "ticks": ""
             }
            },
            "type": "scattergeo"
           }
          ],
          "scattergl": [
           {
            "marker": {
             "colorbar": {
              "outlinewidth": 0,
              "ticks": ""
             }
            },
            "type": "scattergl"
           }
          ],
          "scattermapbox": [
           {
            "marker": {
             "colorbar": {
              "outlinewidth": 0,
              "ticks": ""
             }
            },
            "type": "scattermapbox"
           }
          ],
          "scatterpolar": [
           {
            "marker": {
             "colorbar": {
              "outlinewidth": 0,
              "ticks": ""
             }
            },
            "type": "scatterpolar"
           }
          ],
          "scatterpolargl": [
           {
            "marker": {
             "colorbar": {
              "outlinewidth": 0,
              "ticks": ""
             }
            },
            "type": "scatterpolargl"
           }
          ],
          "scatterternary": [
           {
            "marker": {
             "colorbar": {
              "outlinewidth": 0,
              "ticks": ""
             }
            },
            "type": "scatterternary"
           }
          ],
          "surface": [
           {
            "colorbar": {
             "outlinewidth": 0,
             "ticks": ""
            },
            "colorscale": [
             [
              0,
              "#0d0887"
             ],
             [
              0.1111111111111111,
              "#46039f"
             ],
             [
              0.2222222222222222,
              "#7201a8"
             ],
             [
              0.3333333333333333,
              "#9c179e"
             ],
             [
              0.4444444444444444,
              "#bd3786"
             ],
             [
              0.5555555555555556,
              "#d8576b"
             ],
             [
              0.6666666666666666,
              "#ed7953"
             ],
             [
              0.7777777777777778,
              "#fb9f3a"
             ],
             [
              0.8888888888888888,
              "#fdca26"
             ],
             [
              1,
              "#f0f921"
             ]
            ],
            "type": "surface"
           }
          ],
          "table": [
           {
            "cells": {
             "fill": {
              "color": "#EBF0F8"
             },
             "line": {
              "color": "white"
             }
            },
            "header": {
             "fill": {
              "color": "#C8D4E3"
             },
             "line": {
              "color": "white"
             }
            },
            "type": "table"
           }
          ]
         },
         "layout": {
          "annotationdefaults": {
           "arrowcolor": "#2a3f5f",
           "arrowhead": 0,
           "arrowwidth": 1
          },
          "autotypenumbers": "strict",
          "coloraxis": {
           "colorbar": {
            "outlinewidth": 0,
            "ticks": ""
           }
          },
          "colorscale": {
           "diverging": [
            [
             0,
             "#8e0152"
            ],
            [
             0.1,
             "#c51b7d"
            ],
            [
             0.2,
             "#de77ae"
            ],
            [
             0.3,
             "#f1b6da"
            ],
            [
             0.4,
             "#fde0ef"
            ],
            [
             0.5,
             "#f7f7f7"
            ],
            [
             0.6,
             "#e6f5d0"
            ],
            [
             0.7,
             "#b8e186"
            ],
            [
             0.8,
             "#7fbc41"
            ],
            [
             0.9,
             "#4d9221"
            ],
            [
             1,
             "#276419"
            ]
           ],
           "sequential": [
            [
             0,
             "#0d0887"
            ],
            [
             0.1111111111111111,
             "#46039f"
            ],
            [
             0.2222222222222222,
             "#7201a8"
            ],
            [
             0.3333333333333333,
             "#9c179e"
            ],
            [
             0.4444444444444444,
             "#bd3786"
            ],
            [
             0.5555555555555556,
             "#d8576b"
            ],
            [
             0.6666666666666666,
             "#ed7953"
            ],
            [
             0.7777777777777778,
             "#fb9f3a"
            ],
            [
             0.8888888888888888,
             "#fdca26"
            ],
            [
             1,
             "#f0f921"
            ]
           ],
           "sequentialminus": [
            [
             0,
             "#0d0887"
            ],
            [
             0.1111111111111111,
             "#46039f"
            ],
            [
             0.2222222222222222,
             "#7201a8"
            ],
            [
             0.3333333333333333,
             "#9c179e"
            ],
            [
             0.4444444444444444,
             "#bd3786"
            ],
            [
             0.5555555555555556,
             "#d8576b"
            ],
            [
             0.6666666666666666,
             "#ed7953"
            ],
            [
             0.7777777777777778,
             "#fb9f3a"
            ],
            [
             0.8888888888888888,
             "#fdca26"
            ],
            [
             1,
             "#f0f921"
            ]
           ]
          },
          "colorway": [
           "#636efa",
           "#EF553B",
           "#00cc96",
           "#ab63fa",
           "#FFA15A",
           "#19d3f3",
           "#FF6692",
           "#B6E880",
           "#FF97FF",
           "#FECB52"
          ],
          "font": {
           "color": "#2a3f5f"
          },
          "geo": {
           "bgcolor": "white",
           "lakecolor": "white",
           "landcolor": "#E5ECF6",
           "showlakes": true,
           "showland": true,
           "subunitcolor": "white"
          },
          "hoverlabel": {
           "align": "left"
          },
          "hovermode": "closest",
          "mapbox": {
           "style": "light"
          },
          "paper_bgcolor": "white",
          "plot_bgcolor": "#E5ECF6",
          "polar": {
           "angularaxis": {
            "gridcolor": "white",
            "linecolor": "white",
            "ticks": ""
           },
           "bgcolor": "#E5ECF6",
           "radialaxis": {
            "gridcolor": "white",
            "linecolor": "white",
            "ticks": ""
           }
          },
          "scene": {
           "xaxis": {
            "backgroundcolor": "#E5ECF6",
            "gridcolor": "white",
            "gridwidth": 2,
            "linecolor": "white",
            "showbackground": true,
            "ticks": "",
            "zerolinecolor": "white"
           },
           "yaxis": {
            "backgroundcolor": "#E5ECF6",
            "gridcolor": "white",
            "gridwidth": 2,
            "linecolor": "white",
            "showbackground": true,
            "ticks": "",
            "zerolinecolor": "white"
           },
           "zaxis": {
            "backgroundcolor": "#E5ECF6",
            "gridcolor": "white",
            "gridwidth": 2,
            "linecolor": "white",
            "showbackground": true,
            "ticks": "",
            "zerolinecolor": "white"
           }
          },
          "shapedefaults": {
           "line": {
            "color": "#2a3f5f"
           }
          },
          "ternary": {
           "aaxis": {
            "gridcolor": "white",
            "linecolor": "white",
            "ticks": ""
           },
           "baxis": {
            "gridcolor": "white",
            "linecolor": "white",
            "ticks": ""
           },
           "bgcolor": "#E5ECF6",
           "caxis": {
            "gridcolor": "white",
            "linecolor": "white",
            "ticks": ""
           }
          },
          "title": {
           "x": 0.05
          },
          "xaxis": {
           "automargin": true,
           "gridcolor": "white",
           "linecolor": "white",
           "ticks": "",
           "title": {
            "standoff": 15
           },
           "zerolinecolor": "white",
           "zerolinewidth": 2
          },
          "yaxis": {
           "automargin": true,
           "gridcolor": "white",
           "linecolor": "white",
           "ticks": "",
           "title": {
            "standoff": 15
           },
           "zerolinecolor": "white",
           "zerolinewidth": 2
          }
         }
        },
        "title": {
         "text": "Total de Vendas por Data de Pedido"
        },
        "xaxis": {
         "anchor": "y",
         "domain": [
          0,
          1
         ],
         "title": {
          "text": "Data do Pedido"
         }
        },
        "yaxis": {
         "anchor": "x",
         "domain": [
          0,
          1
         ],
         "title": {
          "text": "Total de Vendas"
         }
        }
       }
      }
     },
     "metadata": {},
     "output_type": "display_data"
    }
   ],
   "source": [
    "# ==================================================================================================================\n",
    "                                # # # ANALISE DE DADOS FACT ORDERS # # #\n",
    "# ==================================================================================================================\n",
    "# Carregar dados das tabelas\n",
    "fact_orders = extract_postgres_datawarehouse('fact_orders')  \n",
    "dim_customers = extract_postgres_datawarehouse('dim_customers')\n",
    "dim_employees = extract_postgres_datawarehouse('dim_employees')\n",
    "dim_employee_territories = extract_postgres_datawarehouse('dim_employee_territories')\n",
    "dim_territories = extract_postgres_datawarehouse('dim_territories')\n",
    "dim_region = extract_postgres_datawarehouse('dim_region')\n",
    "\n",
    "# ==================================================================================================================\n",
    "# Realizar joins para criar DataFrame consolidado\n",
    "df_2 = fact_orders.merge(dim_customers, on='customer_id', how='left') \\\n",
    "                .merge(dim_employees, on='employee_id', how='left') \\\n",
    "                .merge(dim_employee_territories, on='employee_id', how='left') \\\n",
    "                .merge(dim_territories, on='territory_id', how='left') \\\n",
    "                .merge(dim_region, on='region_id', how='left')\n",
    "\n",
    "# Exemplo: Calcular total de vendas por região\n",
    "df_2['total_sales'] = df_2['freight']  # Suponho que 'freight' == 'frete' representa o total de vendas\n",
    "# ==================================================================================================================\n",
    "# Criação de visualizações dos dados\n",
    "\n",
    "# Total de Vendas por Região\n",
    "sales_by_region = df_2.groupby('region_description')['total_sales'].sum().reset_index()\n",
    "fig1 = px.bar(sales_by_region, x='region_description', y='total_sales',\n",
    "              title='Total de Vendas por Região', labels={'region_description': 'Região', 'total_sales': 'Total de Vendas'})\n",
    "fig1.show()\n",
    "\n",
    "# Total de Vendas por Funcionário\n",
    "sales_by_employee = df_2.groupby(['first_name', 'last_name'])['total_sales'].sum().reset_index()\n",
    "fig2 = px.bar(sales_by_employee, x='first_name', y='total_sales', color='last_name',\n",
    "              title='Total de Vendas por Funcionário', labels={'first_name': 'Nome do Funcionário', 'total_sales': 'Total de Vendas'})\n",
    "fig2.show()\n",
    "\n",
    "# Total de Vendas por Cliente\n",
    "sales_by_customer = df_2.groupby('company_name')['total_sales'].sum().reset_index()\n",
    "fig3 = px.bar(sales_by_customer, x='company_name', y='total_sales',\n",
    "              title='Total de Vendas por Cliente', labels={'company_name': 'Cliente', 'total_sales': 'Total de Vendas'})\n",
    "fig3.show()\n",
    "\n",
    "\n",
    "# Total de Vendas por Território\n",
    "sales_by_territory = df_2.groupby('territory_description')['total_sales'].sum().reset_index()\n",
    "fig4 = px.bar(sales_by_territory, x='territory_description', y='total_sales',\n",
    "              title='Total de Vendas por Território', labels={'territory_description': 'Território', 'total_sales': 'Total de Vendas'})\n",
    "fig4.show()\n",
    "\n",
    "\n",
    "# Total de Vendas por Data de Pedido\n",
    "sales_by_order_date = df_2.groupby('order_date')['total_sales'].sum().reset_index()\n",
    "fig5 = px.line(sales_by_order_date, x='order_date', y='total_sales',\n",
    "               title='Total de Vendas por Data de Pedido', labels={'order_date': 'Data do Pedido', 'total_sales': 'Total de Vendas'})\n",
    "fig5.show()\n",
    "\n",
    "# ==================================================================================================================\n",
    "# Relatorios fact_orders\n",
    "# Total de Vendas por Região\n",
    "sales_by_region.to_csv('analises/orders/relatorio_vendas_por_regiao.csv', index=False)\n",
    "# Total de Vendas por Funcionário\n",
    "sales_by_employee.to_csv('analises/orders/relatorio_vendas_por_funcionario.csv', index=False)\n",
    "# Total de Vendas por Cliente\n",
    "sales_by_customer.to_csv('analises/orders/relatorio_vendas_por_cliente.csv', index=False)\n",
    "# Total de Vendas por Território\n",
    "sales_by_territory.to_csv('analises/orders/relatorio_vendas_por_territorio.csv', index=False)\n",
    "# Total de Vendas por Data de Pedido\n",
    "sales_by_order_date.to_csv('analises/orders/relatorio_vendas_por_data_de_pedido.csv', index=False)\n",
    "\n"
   ]
  }
 ],
 "metadata": {
  "kernelspec": {
   "display_name": "Python 3",
   "language": "python",
   "name": "python3"
  },
  "language_info": {
   "codemirror_mode": {
    "name": "ipython",
    "version": 3
   },
   "file_extension": ".py",
   "mimetype": "text/x-python",
   "name": "python",
   "nbconvert_exporter": "python",
   "pygments_lexer": "ipython3",
   "version": "3.10.9"
  }
 },
 "nbformat": 4,
 "nbformat_minor": 2
}
